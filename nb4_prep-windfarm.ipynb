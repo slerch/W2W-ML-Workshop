{
 "cells": [
  {
   "cell_type": "markdown",
   "metadata": {},
   "source": [
    "# Notebook 4 - Preprocessing dataset #2: Predicting windfarm power output\n",
    "\n",
    "On to the second dataset. Here the task is to predict the power output of a windfarm in Chile. The farm consists of over 20 turbines with a hub height of 80 meters. \n",
    "\n",
    "The data we have available are NWP forecasts from three different global models and observation data taken from within the wind farm.\n",
    "\n",
    "In this notebook, we will explore the data and prepare it for our machine learning models. This dataset requires a lot more work than our first post-processing dataset. Let's get started.\n",
    "\n",
    "Again we will use kaggle: https://www.kaggle.com/t/e8acea19760645b3856aa427fce24a66"
   ]
  },
  {
   "cell_type": "code",
   "execution_count": 1,
   "metadata": {
    "collapsed": true
   },
   "outputs": [],
   "source": [
    "import os\n",
    "import xarray as xr\n",
    "import numpy as np\n",
    "import datetime as dt\n",
    "import pandas as pd\n",
    "import matplotlib.pyplot as plt\n",
    "%matplotlib inline\n",
    "from tqdm import tqdm_notebook as tqdm\n",
    "import pickle\n",
    "import seaborn as sns"
   ]
  },
  {
   "cell_type": "code",
   "execution_count": 2,
   "metadata": {
    "collapsed": true
   },
   "outputs": [],
   "source": [
    "DATADIR = './dataset2/'"
   ]
  },
  {
   "cell_type": "code",
   "execution_count": 3,
   "metadata": {
    "collapsed": true
   },
   "outputs": [],
   "source": [
    "os.makedirs(DATADIR, exist_ok=True)"
   ]
  },
  {
   "cell_type": "code",
   "execution_count": 4,
   "metadata": {},
   "outputs": [
    {
     "name": "stdout",
     "output_type": "stream",
     "text": [
      "Warning: Looks like you're using an outdated API Version, please consider updating (server 1.4.7.1 / client 1.4.6)\n",
      "sample_submission.csv.zip: Skipping, found more recently modified local copy (use --force to force download)\n",
      "windpark_train.nc: Skipping, found more recently modified local copy (use --force to force download)\n",
      "metobs.nc.zip: Skipping, found more recently modified local copy (use --force to force download)\n",
      "nwp_ecmwf-ifs.nc.zip: Skipping, found more recently modified local copy (use --force to force download)\n",
      "nwp_envca-gdps.nc.zip: Skipping, found more recently modified local copy (use --force to force download)\n",
      "nwp_ncep-gfs4.nc.zip: Skipping, found more recently modified local copy (use --force to force download)\n"
     ]
    }
   ],
   "source": [
    "# Download all the data from kaggle\n",
    "!kaggle competitions download -c windfarm -p dataset2"
   ]
  },
  {
   "cell_type": "code",
   "execution_count": 5,
   "metadata": {},
   "outputs": [
    {
     "data": {
      "text/plain": [
       "['lr.csv',\n",
       " 'sample_submission.csv',\n",
       " 'mean.csv',\n",
       " 'nwp_ncep-gfs4.nc',\n",
       " 'nwp_ecmwf-ifs.nc.zip',\n",
       " 'nwp_ncep-gfs4.nc.zip',\n",
       " 'nwp_ecmwf-ifs.nc',\n",
       " 'sample_submission.csv.zip',\n",
       " 'windpark_train.nc',\n",
       " 'metobs.nc.zip',\n",
       " 'nwp_envca-gdps.nc',\n",
       " 'metobs.nc',\n",
       " 'nwp_envca-gdps.nc.zip']"
      ]
     },
     "execution_count": 5,
     "metadata": {},
     "output_type": "execute_result"
    }
   ],
   "source": [
    "os.listdir(DATADIR)"
   ]
  },
  {
   "cell_type": "code",
   "execution_count": 6,
   "metadata": {},
   "outputs": [
    {
     "name": "stdout",
     "output_type": "stream",
     "text": [
      "/home/s/S.Rasp/repositories/W2W-ML-Workshop/dataset2\n"
     ]
    }
   ],
   "source": [
    "cd $DATADIR"
   ]
  },
  {
   "cell_type": "code",
   "execution_count": 7,
   "metadata": {},
   "outputs": [
    {
     "name": "stdout",
     "output_type": "stream",
     "text": [
      "Archive:  nwp_ecmwf-ifs.nc.zip\n",
      "replace nwp_ecmwf-ifs.nc? [y]es, [n]o, [A]ll, [N]one, [r]ename: ^C\n"
     ]
    }
   ],
   "source": [
    "# Unzip all files. If you are on windows, this most likely won't work. Unzip any other way!\n",
    "!unzip \"*.zip\"\n",
    "!chmod 644 * \n",
    "# Yes I know I am bad at Linux"
   ]
  },
  {
   "cell_type": "code",
   "execution_count": 8,
   "metadata": {},
   "outputs": [
    {
     "name": "stdout",
     "output_type": "stream",
     "text": [
      "/home/s/S.Rasp/repositories/W2W-ML-Workshop\n"
     ]
    }
   ],
   "source": [
    "cd .."
   ]
  },
  {
   "cell_type": "code",
   "execution_count": 3,
   "metadata": {},
   "outputs": [
    {
     "data": {
      "text/plain": [
       "['all.zip',\n",
       " 'metobs.nc',\n",
       " 'nwp_ecmwf-ifs.nc',\n",
       " 'nwp_envca-gdps.nc',\n",
       " 'nwp_ncep-gfs4.nc',\n",
       " 'windpark_train.nc']"
      ]
     },
     "execution_count": 3,
     "metadata": {},
     "output_type": "execute_result"
    }
   ],
   "source": [
    "os.listdir(DATADIR)"
   ]
  },
  {
   "cell_type": "markdown",
   "metadata": {},
   "source": [
    "## Exploratory data analysis (EDA)\n",
    "\n",
    "First, let's understand the different files. The files are in netCDF format. We will use [xarray](http://xarray.pydata.org/en/stable/) to handle these files. xarray is designed to be the Pandas for multi-dimensional data.\n",
    "\n",
    "xarray has two basic objects: Datasets and DataArrays. Datasets contain multiple variables (e.g. temperature, humidity, etc.) while DataArrays just contain one variables. Datasets therefore are a combination of multiple DataArrays."
   ]
  },
  {
   "cell_type": "markdown",
   "metadata": {},
   "source": [
    "### NWP Data\n",
    "\n",
    "These three files contain global NWP forecast from three models: ECMWF, Environment Canada and NCEP.\n",
    "\n"
   ]
  },
  {
   "cell_type": "code",
   "execution_count": 4,
   "metadata": {
    "collapsed": true
   },
   "outputs": [],
   "source": [
    "# Open all three\n",
    "nwp_ec = xr.open_dataset(DATADIR + 'nwp_ecmwf-ifs.nc')\n",
    "nwp_en = xr.open_dataset(DATADIR + 'nwp_envca-gdps.nc')\n",
    "nwp_nc = xr.open_dataset(DATADIR + 'nwp_ncep-gfs4.nc')"
   ]
  },
  {
   "cell_type": "code",
   "execution_count": 5,
   "metadata": {
    "collapsed": true
   },
   "outputs": [],
   "source": [
    "nwps = {'ec': nwp_ec, 'en': nwp_en, 'nc': nwp_nc}"
   ]
  },
  {
   "cell_type": "code",
   "execution_count": 6,
   "metadata": {},
   "outputs": [
    {
     "data": {
      "text/plain": [
       "dict_items([('ec', <xarray.Dataset>\n",
       "Dimensions:   (epoch_s: 1463, offset_s: 49)\n",
       "Coordinates:\n",
       "  * epoch_s   (epoch_s) int32 1420070400 1420113600 1420156800 1420200000 ...\n",
       "  * offset_s  (offset_s) int32 0 10800 21600 32400 43200 54000 64800 75600 ...\n",
       "Data variables:\n",
       "    ws100m    (epoch_s, offset_s) float32 ...\n",
       "    wd100m    (epoch_s, offset_s) float32 ...\n",
       "    ws10m     (epoch_s, offset_s) float32 ...\n",
       "    wd10m     (epoch_s, offset_s) float32 ...\n",
       "    t2m       (epoch_s, offset_s) float32 ...\n",
       "    blh       (epoch_s, offset_s) float32 ...), ('en', <xarray.Dataset>\n",
       "Dimensions:   (epoch_s: 1463, offset_s: 49)\n",
       "Coordinates:\n",
       "  * epoch_s   (epoch_s) int32 1420070400 1420113600 1420156800 1420200000 ...\n",
       "  * offset_s  (offset_s) int32 0 10800 21600 32400 43200 54000 64800 75600 ...\n",
       "Data variables:\n",
       "    ws1000mb  (epoch_s, offset_s) float32 ...\n",
       "    wd1000mb  (epoch_s, offset_s) float32 ...\n",
       "    ws925mb   (epoch_s, offset_s) float32 ...\n",
       "    wd925mb   (epoch_s, offset_s) float32 ...\n",
       "    tclcov    (epoch_s, offset_s) float32 ...\n",
       "    t2m       (epoch_s, offset_s) float32 ...\n",
       "    q         (epoch_s, offset_s) float32 ...), ('nc', <xarray.Dataset>\n",
       "Dimensions:   (epoch_s: 2925, offset_s: 49)\n",
       "Coordinates:\n",
       "  * epoch_s   (epoch_s) int32 1420070400 1420092000 1420113600 1420135200 ...\n",
       "  * offset_s  (offset_s) int32 0 10800 21600 32400 43200 54000 64800 75600 ...\n",
       "Data variables:\n",
       "    ws100m    (epoch_s, offset_s) float32 ...\n",
       "    wd100m    (epoch_s, offset_s) float32 ...\n",
       "    ws10m     (epoch_s, offset_s) float32 ...\n",
       "    wd10m     (epoch_s, offset_s) float32 ...\n",
       "    t1000mb   (epoch_s, offset_s) float32 ...)])"
      ]
     },
     "execution_count": 6,
     "metadata": {},
     "output_type": "execute_result"
    }
   ],
   "source": [
    "# Here we can see the information inside a dataset. \n",
    "nwps.items()"
   ]
  },
  {
   "cell_type": "markdown",
   "metadata": {},
   "source": [
    "Datasets have dimensions, each of which comes with a coordinate array, specifying for example the longitude. Datasets also have one or more data variables. \n",
    "\n",
    "Note that xarray does not actually load the data into memory, but only the meta-information. The actual data will only be loaded, if we use or access it directly."
   ]
  },
  {
   "cell_type": "code",
   "execution_count": 7,
   "metadata": {},
   "outputs": [
    {
     "data": {
      "text/plain": [
       "<xarray.DataArray 'ws100m' (epoch_s: 1463, offset_s: 49)>\n",
       "array([[ 5.862752,  6.489872,  5.634605, ...,  3.723847,  3.393842,  3.08379 ],\n",
       "       [ 4.399415,  6.428493,  6.897442, ...,  1.98581 ,  1.536039,  1.566706],\n",
       "       [ 6.382539,  3.919209,  3.203686, ...,  4.056922,  2.816343,  1.857518],\n",
       "       ..., \n",
       "       [ 4.498196,  4.457619,  4.138986, ...,  6.241402,  7.019463,  7.035955],\n",
       "       [ 3.764302,  5.218565,  7.210479, ...,  2.672324,  3.532972,  6.649615],\n",
       "       [      nan,       nan,       nan, ...,       nan,       nan,       nan]], dtype=float32)\n",
       "Coordinates:\n",
       "  * epoch_s   (epoch_s) int32 1420070400 1420113600 1420156800 1420200000 ...\n",
       "  * offset_s  (offset_s) int32 0 10800 21600 32400 43200 54000 64800 75600 ...\n",
       "Attributes:\n",
       "    descr:    wind speed 100 m above surface\n",
       "    units:    m/s"
      ]
     },
     "execution_count": 7,
     "metadata": {},
     "output_type": "execute_result"
    }
   ],
   "source": [
    "nwp_ec.ws100m"
   ]
  },
  {
   "cell_type": "markdown",
   "metadata": {},
   "source": [
    "This is now a DataArray. As you can see it also has coordinates and dimensions, and additionally attributes such as units.\n",
    "\n",
    "- `epoch_s` is the initialization time of the forecast as a POSIX timestamp (seconds after 1970-01-01 00:00)\n",
    "- `offset_s` is the forecast lead time for a given forecast in seconds\n",
    "\n",
    "POSIX timestamps might not be the most convenient to work with. So we will convert them to numpy datetime objects."
   ]
  },
  {
   "cell_type": "code",
   "execution_count": 8,
   "metadata": {
    "collapsed": true
   },
   "outputs": [],
   "source": [
    "# Convert POSIX to datetime\n",
    "for nwp in nwps.values():\n",
    "    nwp['epoch_s'] = pd.to_datetime(nwp.epoch_s, unit='s')"
   ]
  },
  {
   "cell_type": "code",
   "execution_count": 9,
   "metadata": {},
   "outputs": [
    {
     "data": {
      "text/plain": [
       "<xarray.DataArray 'epoch_s' (epoch_s: 1463)>\n",
       "array(['2015-01-01T00:00:00.000000000', '2015-01-01T12:00:00.000000000',\n",
       "       '2015-01-02T00:00:00.000000000', ..., '2016-12-31T00:00:00.000000000',\n",
       "       '2016-12-31T12:00:00.000000000', '2017-01-01T00:00:00.000000000'], dtype='datetime64[ns]')\n",
       "Coordinates:\n",
       "  * epoch_s  (epoch_s) datetime64[ns] 2015-01-01 2015-01-01T12:00:00 ..."
      ]
     },
     "execution_count": 9,
     "metadata": {},
     "output_type": "execute_result"
    }
   ],
   "source": [
    "nwp_ec.epoch_s"
   ]
  },
  {
   "cell_type": "markdown",
   "metadata": {},
   "source": [
    "Now, we would like to know how much data is available for each NWP model."
   ]
  },
  {
   "cell_type": "code",
   "execution_count": 10,
   "metadata": {
    "collapsed": true
   },
   "outputs": [],
   "source": [
    "ns2h = 1 / (1e9 * 60 * 60)\n",
    "ns2min = 1 / (1e9 * 60)"
   ]
  },
  {
   "cell_type": "code",
   "execution_count": 11,
   "metadata": {},
   "outputs": [
    {
     "name": "stdout",
     "output_type": "stream",
     "text": [
      "ec <xarray.DataArray 'epoch_s' ()>\n",
      "array(1420070400000000000, dtype='datetime64[ns]') <xarray.DataArray 'epoch_s' ()>\n",
      "array(1483228800000000000, dtype='datetime64[ns]') 12.0\n",
      "en <xarray.DataArray 'epoch_s' ()>\n",
      "array(1420070400000000000, dtype='datetime64[ns]') <xarray.DataArray 'epoch_s' ()>\n",
      "array(1483228800000000000, dtype='datetime64[ns]') 12.0\n",
      "nc <xarray.DataArray 'epoch_s' ()>\n",
      "array(1420070400000000000, dtype='datetime64[ns]') <xarray.DataArray 'epoch_s' ()>\n",
      "array(1483228800000000000, dtype='datetime64[ns]') 6.0\n"
     ]
    }
   ],
   "source": [
    "for m, nwp in nwps.items():\n",
    "    print(m, nwp.epoch_s.min(), nwp.epoch_s.max(), int(nwp.epoch_s[1] - nwp.epoch_s[0]) * ns2h)"
   ]
  },
  {
   "cell_type": "markdown",
   "metadata": {},
   "source": [
    "Data is available for the years 2015 and 2016. Two models have forecasts in a 12 hour interval, the last model has a 6 hour interval."
   ]
  },
  {
   "cell_type": "code",
   "execution_count": 12,
   "metadata": {},
   "outputs": [
    {
     "name": "stdout",
     "output_type": "stream",
     "text": [
      "ec <xarray.DataArray 'offset_s' ()>\n",
      "array(144.0) <xarray.DataArray 'offset_s' ()>\n",
      "array(3.0)\n",
      "en <xarray.DataArray 'offset_s' ()>\n",
      "array(144.0) <xarray.DataArray 'offset_s' ()>\n",
      "array(3.0)\n",
      "nc <xarray.DataArray 'offset_s' ()>\n",
      "array(144.0) <xarray.DataArray 'offset_s' ()>\n",
      "array(3.0)\n"
     ]
    }
   ],
   "source": [
    "for m, nwp in nwps.items():\n",
    "    print(m, nwp.offset_s.max() / 60 / 60, (nwp.offset_s[1] - nwp.offset_s[0]) / 60 / 60)"
   ]
  },
  {
   "cell_type": "markdown",
   "metadata": {},
   "source": [
    "All models have a maximum forecast lead time of 144 hours = 6 days and output in 3 hour intervals.\n",
    "\n",
    "Finally we also want to check for missing data."
   ]
  },
  {
   "cell_type": "code",
   "execution_count": 13,
   "metadata": {},
   "outputs": [
    {
     "data": {
      "image/png": "[encoded data removed]",
      "text/plain": [
       "<matplotlib.figure.Figure at 0x24dfde5f588>"
      ]
     },
     "metadata": {},
     "output_type": "display_data"
    }
   ],
   "source": [
    "fig = plt.figure(figsize=(10, 5))\n",
    "for m, nwp in nwps.items():\n",
    "    plt.plot(nwp.epoch_s, np.isnan(list(nwp.data_vars.values())[0].values).sum(1), label=m)\n",
    "plt.legend();"
   ]
  },
  {
   "cell_type": "markdown",
   "metadata": {},
   "source": [
    "`en` and `nc` have quite a few missing values. How to deal with those is not trivial. Maybe Martin can say a few words about this now or later. For now we will proceed only with the `ec` values."
   ]
  },
  {
   "cell_type": "markdown",
   "metadata": {},
   "source": [
    "### Mast data\n",
    "\n",
    "Quantities `ws80m` and `ws34m` are taken from a met mast located inside the wind farm. The other quantities are averages over all available nacelle anemometers, and as such may not be as accurate or quality controlled."
   ]
  },
  {
   "cell_type": "code",
   "execution_count": 14,
   "metadata": {},
   "outputs": [
    {
     "data": {
      "text/plain": [
       "<xarray.Dataset>\n",
       "Dimensions:  (epoch_s: 63072)\n",
       "Coordinates:\n",
       "  * epoch_s  (epoch_s) int32 1420070400 1420071300 1420072200 1420073100 ...\n",
       "Data variables:\n",
       "    ws_avg   (epoch_s) float32 ...\n",
       "    wd_avg   (epoch_s) float32 ...\n",
       "    ws80m    (epoch_s) float32 ...\n",
       "    ws34m    (epoch_s) float32 ..."
      ]
     },
     "execution_count": 14,
     "metadata": {},
     "output_type": "execute_result"
    }
   ],
   "source": [
    "met = xr.open_dataset(DATADIR + 'metobs.nc'); met"
   ]
  },
  {
   "cell_type": "code",
   "execution_count": 15,
   "metadata": {
    "collapsed": true
   },
   "outputs": [],
   "source": [
    "# Convert to date time\n",
    "met['epoch_s'] = pd.to_datetime(met.epoch_s, unit='s')"
   ]
  },
  {
   "cell_type": "code",
   "execution_count": 16,
   "metadata": {},
   "outputs": [
    {
     "data": {
      "text/plain": [
       "(<xarray.DataArray 'epoch_s' ()>\n",
       " array(1420070400000000000, dtype='datetime64[ns]'),\n",
       " <xarray.DataArray 'epoch_s' ()>\n",
       " array(1476834300000000000, dtype='datetime64[ns]'),\n",
       " 15.0)"
      ]
     },
     "execution_count": 16,
     "metadata": {},
     "output_type": "execute_result"
    }
   ],
   "source": [
    "met.epoch_s.min(), met.epoch_s.max(), int(met.epoch_s[1] - met.epoch_s[0]) * ns2min"
   ]
  },
  {
   "cell_type": "markdown",
   "metadata": {},
   "source": [
    "Here we have data from the start of 2015 to 2016-10-18 in 15 minute intervals.\n",
    "\n",
    "Again. let's check for missing values."
   ]
  },
  {
   "cell_type": "code",
   "execution_count": 17,
   "metadata": {},
   "outputs": [
    {
     "data": {
      "image/png": "[encoded data removed]",
      "text/plain": [
       "<matplotlib.figure.Figure at 0x24dfe103da0>"
      ]
     },
     "metadata": {},
     "output_type": "display_data"
    }
   ],
   "source": [
    "fig = plt.figure(figsize=(10, 5))\n",
    "for v, da in met.data_vars.items():\n",
    "    plt.plot(met.epoch_s, np.isnan(da.values), label=v)\n",
    "plt.legend();"
   ]
  },
  {
   "cell_type": "markdown",
   "metadata": {},
   "source": [
    "Again there seem to be some sporadic missing values. We will return to this issue later.\n",
    "\n",
    "Finally, let's check how good the agreement between the nacelle and mast measurements is."
   ]
  },
  {
   "cell_type": "code",
   "execution_count": 18,
   "metadata": {},
   "outputs": [
    {
     "data": {
      "text/plain": [
       "<matplotlib.axes._subplots.AxesSubplot at 0x24dfe1d8940>"
      ]
     },
     "execution_count": 18,
     "metadata": {},
     "output_type": "execute_result"
    },
    {
     "data": {
      "image/png": "[encoded data removed]",
      "text/plain": [
       "<matplotlib.figure.Figure at 0x24dfe0b7b38>"
      ]
     },
     "metadata": {},
     "output_type": "display_data"
    }
   ],
   "source": [
    "sns.regplot(met.ws_avg.values[::3], met.ws80m.values[::3])"
   ]
  },
  {
   "cell_type": "markdown",
   "metadata": {},
   "source": [
    "### Wind power production data\n",
    "\n",
    "Power production is normalized to the farm capacity and thus ranges from 0 to 1. The `rawpower` is what a met service provider would\n",
    "usually receive as feed-in data from the neighboring power grid station. Here we have no information about turbine maintainance and\n",
    "failures, as well as curtailment measures. In case of this farm however, we received status information and production info from all individual\n",
    "turbines. In addition to taking these into account, we also applied a Gaussian Process based filtering procedure to remove additional outliers.\n",
    "The result is compiled into `power`."
   ]
  },
  {
   "cell_type": "code",
   "execution_count": 19,
   "metadata": {},
   "outputs": [
    {
     "data": {
      "text/plain": [
       "<xarray.Dataset>\n",
       "Dimensions:   (epoch_s: 71429)\n",
       "Coordinates:\n",
       "  * epoch_s   (epoch_s) int32 1420070400 1420071000 1420071600 1420072200 ...\n",
       "Data variables:\n",
       "    power     (epoch_s) float32 ...\n",
       "    rawpower  (epoch_s) float32 ..."
      ]
     },
     "execution_count": 19,
     "metadata": {},
     "output_type": "execute_result"
    }
   ],
   "source": [
    "pwr = xr.open_dataset(DATADIR + 'windpark_train.nc'); pwr"
   ]
  },
  {
   "cell_type": "code",
   "execution_count": 20,
   "metadata": {
    "collapsed": true
   },
   "outputs": [],
   "source": [
    "# Convert to date time\n",
    "pwr['epoch_s'] = pd.to_datetime(pwr.epoch_s, unit='s')"
   ]
  },
  {
   "cell_type": "code",
   "execution_count": 21,
   "metadata": {},
   "outputs": [
    {
     "data": {
      "text/plain": [
       "(<xarray.DataArray 'epoch_s' ()>\n",
       " array(1420070400000000000, dtype='datetime64[ns]'),\n",
       " <xarray.DataArray 'epoch_s' ()>\n",
       " array(1476834000000000000, dtype='datetime64[ns]'),\n",
       " 10.0)"
      ]
     },
     "execution_count": 21,
     "metadata": {},
     "output_type": "execute_result"
    }
   ],
   "source": [
    "pwr.epoch_s.min(), pwr.epoch_s.max(), int(pwr.epoch_s[1] - pwr.epoch_s[0]) * ns2min"
   ]
  },
  {
   "cell_type": "markdown",
   "metadata": {},
   "source": [
    "For our target data, we have the same time range, but output in 10 minute intervals.\n",
    "\n",
    "Check for missing values again."
   ]
  },
  {
   "cell_type": "code",
   "execution_count": 22,
   "metadata": {},
   "outputs": [
    {
     "data": {
      "image/png": "[encoded data removed]",
      "text/plain": [
       "<matplotlib.figure.Figure at 0x24dfde465c0>"
      ]
     },
     "metadata": {},
     "output_type": "display_data"
    }
   ],
   "source": [
    "fig = plt.figure(figsize=(10, 5))\n",
    "t = pwr.epoch_s.values\n",
    "for v, da in pwr.data_vars.items():\n",
    "    plt.scatter(t, np.isnan(da.values), label=v, alpha=0.05)\n",
    "plt.legend();"
   ]
  },
  {
   "cell_type": "markdown",
   "metadata": {},
   "source": [
    "Only the preprocessed power variable has missing values. Maybe Martin can shed some light on what is going on here.\n",
    "\n",
    "Additionally, we see that for the target data we do not have the test values."
   ]
  },
  {
   "cell_type": "markdown",
   "metadata": {},
   "source": [
    "### Xarray indexing and plotting\n",
    "\n",
    "Before we start manipulating the data, let's first have a look. This way we can also learn a lot about how cool xarray is.\n",
    "\n",
    "**Indexing in xarray:** \n",
    "Next, we will look at how indexing, i.e. selecting parts of the data, works. There are two basic methods. Selecting by integers/index, similarly to what you would do in numpy and selecting by label.\n",
    "\n",
    "To create a plot in xarray, simply type .plot() for a 2 or 3 dimensional dataarray."
   ]
  },
  {
   "cell_type": "code",
   "execution_count": 23,
   "metadata": {},
   "outputs": [
    {
     "data": {
      "text/plain": [
       "<xarray.DataArray 'ws100m' (epoch_s: 1463, offset_s: 49)>\n",
       "array([[ 5.862752,  6.489872,  5.634605, ...,  3.723847,  3.393842,  3.08379 ],\n",
       "       [ 4.399415,  6.428493,  6.897442, ...,  1.98581 ,  1.536039,  1.566706],\n",
       "       [ 6.382539,  3.919209,  3.203686, ...,  4.056922,  2.816343,  1.857518],\n",
       "       ..., \n",
       "       [ 4.498196,  4.457619,  4.138986, ...,  6.241402,  7.019463,  7.035955],\n",
       "       [ 3.764302,  5.218565,  7.210479, ...,  2.672324,  3.532972,  6.649615],\n",
       "       [      nan,       nan,       nan, ...,       nan,       nan,       nan]], dtype=float32)\n",
       "Coordinates:\n",
       "  * epoch_s   (epoch_s) datetime64[ns] 2015-01-01 2015-01-01T12:00:00 ...\n",
       "  * offset_s  (offset_s) int32 0 10800 21600 32400 43200 54000 64800 75600 ...\n",
       "Attributes:\n",
       "    descr:    wind speed 100 m above surface\n",
       "    units:    m/s"
      ]
     },
     "execution_count": 23,
     "metadata": {},
     "output_type": "execute_result"
    }
   ],
   "source": [
    "nwp_ec.ws100m"
   ]
  },
  {
   "cell_type": "code",
   "execution_count": 24,
   "metadata": {},
   "outputs": [
    {
     "data": {
      "text/plain": [
       "<xarray.DataArray 'ws100m' (offset_s: 20)>\n",
       "array([ 3.534174,  3.559642,  3.491649,  2.59831 ,  1.64235 ,  3.57182 ,\n",
       "        3.769378,  3.099703,  3.128359,  3.093469,  1.364475,  1.757233,\n",
       "        3.102271,  5.171213,  3.935051,  4.156376,  5.268105,  4.300811,\n",
       "        3.862257,  3.054147], dtype=float32)\n",
       "Coordinates:\n",
       "    epoch_s   datetime64[ns] 2015-01-11\n",
       "  * offset_s  (offset_s) int32 0 10800 21600 32400 43200 54000 64800 75600 ...\n",
       "Attributes:\n",
       "    descr:    wind speed 100 m above surface\n",
       "    units:    m/s"
      ]
     },
     "execution_count": 24,
     "metadata": {},
     "output_type": "execute_result"
    }
   ],
   "source": [
    "# Select the the first 20 forecast time steps from the 20th forecast start time\n",
    "# For this we use the index selector .isel()\n",
    "nwp_ec.ws100m.isel(epoch_s=20, offset_s=slice(0, 20))"
   ]
  },
  {
   "cell_type": "code",
   "execution_count": 25,
   "metadata": {},
   "outputs": [
    {
     "data": {
      "text/plain": [
       "[<matplotlib.lines.Line2D at 0x24d8000c080>]"
      ]
     },
     "execution_count": 25,
     "metadata": {},
     "output_type": "execute_result"
    },
    {
     "data": {
      "image/png": "[encoded data removed]",
      "text/plain": [
       "<matplotlib.figure.Figure at 0x24dfe15a2b0>"
      ]
     },
     "metadata": {},
     "output_type": "display_data"
    }
   ],
   "source": [
    "# Now to plot that\n",
    "nwp_ec.ws100m.isel(epoch_s=20, offset_s=slice(0, 20)).plot()"
   ]
  },
  {
   "cell_type": "code",
   "execution_count": 26,
   "metadata": {},
   "outputs": [
    {
     "data": {
      "text/plain": [
       "<xarray.DataArray 'ws100m' (epoch_s: 2, offset_s: 49)>\n",
       "array([[ 3.013495,  2.824081,  3.279218,  2.491317,  2.64834 ,  4.400324,\n",
       "         5.96632 ,  5.947004,  4.964555,  4.167326,  4.084863,  3.80739 ,\n",
       "         3.922389,  3.500799,  5.700959,  5.982351,  5.821174,  6.229479,\n",
       "         4.827539,  3.971917,  4.547969,  4.449901,  5.645729,  6.245741,\n",
       "         5.787747,  5.071975,  4.860265,  4.045425,  2.774431,  3.599641,\n",
       "         5.503121,  6.62407 ,  5.599665,  5.714873,  5.308627,  4.188989,\n",
       "         2.397828,  3.813381,  5.081452,  5.688699,  4.36575 ,  4.669986,\n",
       "         3.644226,  2.481066,  1.946111,  2.763823,  5.037122,  5.795748,\n",
       "         5.733331],\n",
       "       [ 2.970057,  4.337174,  5.816758,  5.717138,  4.809617,  4.227816,\n",
       "         3.98024 ,  3.618582,  3.634864,  3.597399,  6.056724,  5.874419,\n",
       "         5.984615,  6.0306  ,  5.273086,  4.135433,  4.21349 ,  4.668208,\n",
       "         5.755711,  6.162652,  5.678669,  5.200613,  4.772378,  4.259148,\n",
       "         2.900473,  4.26903 ,  6.12792 ,  6.230092,  6.351543,  5.909415,\n",
       "         5.368656,  4.024671,  2.706512,  3.712934,  4.859765,  5.846297,\n",
       "         5.33141 ,  4.287538,  3.557293,  2.328439,  1.718827,  2.7399  ,\n",
       "         4.403491,  5.683279,  5.516338,  5.186394,  4.754746,  3.56759 ,\n",
       "         2.242255]], dtype=float32)\n",
       "Coordinates:\n",
       "  * epoch_s   (epoch_s) datetime64[ns] 2015-03-01 2015-03-01T12:00:00\n",
       "  * offset_s  (offset_s) int32 0 10800 21600 32400 43200 54000 64800 75600 ...\n",
       "Attributes:\n",
       "    descr:    wind speed 100 m above surface\n",
       "    units:    m/s"
      ]
     },
     "execution_count": 26,
     "metadata": {},
     "output_type": "execute_result"
    }
   ],
   "source": [
    "# Indexing by label using .sel()\n",
    "# Select the forecast started at '2015-03-01'\n",
    "nwp_ec.ws100m.sel(epoch_s='2015-03-01')"
   ]
  },
  {
   "cell_type": "code",
   "execution_count": 27,
   "metadata": {
    "collapsed": true
   },
   "outputs": [],
   "source": [
    "# If the date chosen does not exactly match up, use nearest, ffill or bfill\n",
    "#nwp_ec.ws100m.sel(epoch_s='2015-03-01T03')"
   ]
  },
  {
   "cell_type": "code",
   "execution_count": 28,
   "metadata": {},
   "outputs": [
    {
     "data": {
      "text/plain": [
       "<xarray.DataArray 'ws100m' (offset_s: 49)>\n",
       "array([ 3.013495,  2.824081,  3.279218,  2.491317,  2.64834 ,  4.400324,\n",
       "        5.96632 ,  5.947004,  4.964555,  4.167326,  4.084863,  3.80739 ,\n",
       "        3.922389,  3.500799,  5.700959,  5.982351,  5.821174,  6.229479,\n",
       "        4.827539,  3.971917,  4.547969,  4.449901,  5.645729,  6.245741,\n",
       "        5.787747,  5.071975,  4.860265,  4.045425,  2.774431,  3.599641,\n",
       "        5.503121,  6.62407 ,  5.599665,  5.714873,  5.308627,  4.188989,\n",
       "        2.397828,  3.813381,  5.081452,  5.688699,  4.36575 ,  4.669986,\n",
       "        3.644226,  2.481066,  1.946111,  2.763823,  5.037122,  5.795748,\n",
       "        5.733331], dtype=float32)\n",
       "Coordinates:\n",
       "    epoch_s   datetime64[ns] 2015-03-01\n",
       "  * offset_s  (offset_s) int32 0 10800 21600 32400 43200 54000 64800 75600 ...\n",
       "Attributes:\n",
       "    descr:    wind speed 100 m above surface\n",
       "    units:    m/s"
      ]
     },
     "execution_count": 28,
     "metadata": {},
     "output_type": "execute_result"
    }
   ],
   "source": [
    "nwp_ec.ws100m.sel(epoch_s='2015-03-01T03', method='nearest')"
   ]
  },
  {
   "cell_type": "markdown",
   "metadata": {},
   "source": [
    "### Get some intuition of the data"
   ]
  },
  {
   "cell_type": "code",
   "execution_count": 29,
   "metadata": {},
   "outputs": [
    {
     "data": {
      "image/png": "[encoded data removed]",
      "text/plain": [
       "<matplotlib.figure.Figure at 0x24d8001b400>"
      ]
     },
     "metadata": {},
     "output_type": "display_data"
    }
   ],
   "source": [
    "fig = plt.figure(figsize=(10, 5))\n",
    "met.ws34m.sel(epoch_s=slice('2015-01-01', '2015-01-03')).plot()\n",
    "met.ws_avg.sel(epoch_s=slice('2015-01-01', '2015-01-03')).plot()\n",
    "plt.plot(np.datetime64('2015-01-01', 's') + nwp_ec.offset_s, nwp_ec.ws100m.sel(epoch_s='2015-01-01T00'))\n",
    "plt.legend();\n",
    "ax2 = plt.gca().twinx()\n",
    "pwr.power.sel(epoch_s=slice('2015-01-01', '2015-01-03')).plot(c='r', ls=':', lw=2)\n",
    "plt.legend(loc=2);"
   ]
  },
  {
   "cell_type": "markdown",
   "metadata": {},
   "source": [
    "### Wind farm power curve\n",
    "\n",
    "The wind farm power curve is a standard diagnostic. It is the wind speed plotted against the power production."
   ]
  },
  {
   "cell_type": "code",
   "execution_count": 30,
   "metadata": {
    "collapsed": true
   },
   "outputs": [],
   "source": [
    "# Since the wind speed measurements and power data have different output intervals\n",
    "# we want to only chose the intersecting time values.\n",
    "intersect = np.intersect1d(met.epoch_s, pwr.epoch_s)"
   ]
  },
  {
   "cell_type": "code",
   "execution_count": 31,
   "metadata": {},
   "outputs": [
    {
     "data": {
      "image/png": "[encoded data removed]",
      "text/plain": [
       "<matplotlib.figure.Figure at 0x24d80015208>"
      ]
     },
     "metadata": {},
     "output_type": "display_data"
    }
   ],
   "source": [
    "fig = plt.figure(figsize=(8, 5))\n",
    "plt.scatter(met.ws_avg.sel(epoch_s=intersect[::3]), pwr.rawpower.sel(epoch_s=intersect[::3]), s=10, alpha=0.2, \n",
    "           label='rawpower')\n",
    "plt.scatter(met.ws_avg.sel(epoch_s=intersect[::3]), pwr.power.sel(epoch_s=intersect[::3]), s=10, alpha=0.2,\n",
    "           label='power')\n",
    "plt.xlabel('Wind'); plt.ylabel('Power'); plt.legend();"
   ]
  },
  {
   "cell_type": "markdown",
   "metadata": {},
   "source": [
    "The difference between `rawpower` and `power` is not only the removal of obviously wrong power values, but also the correction of the relative farm production in cases where one or several turbines do not contribute due to failure or maintainance.\n",
    "\n",
    "We will use `power` as our target."
   ]
  },
  {
   "cell_type": "markdown",
   "metadata": {},
   "source": [
    "## Prepare the data\n",
    "\n",
    "Our goal is to produce a power forecast every three hours for a forecast time of 4 days in 3 hour intervals.\n",
    "\n",
    "The test data contains several months that sample a full seasonal cycle.\n",
    "\n",
    "It is up to us to chose the validation dataset. Here we also chose consecutive two-day periods throughout our training data. Domain knowledge tells us that this is ok for this dataset. In general, you have to be careful with overlap between the training and validation set. This is called data leakage. For a good discussion on how to create a validation set check out this article: http://www.fast.ai/2017/11/13/validation-sets/"
   ]
  },
  {
   "cell_type": "markdown",
   "metadata": {},
   "source": [
    "### Create date ranges"
   ]
  },
  {
   "cell_type": "code",
   "execution_count": 32,
   "metadata": {
    "collapsed": true
   },
   "outputs": [],
   "source": [
    "fc_lead = np.timedelta64(4*24*60*60+1, 's')\n",
    "every_3_hours = np.arange('2015-01-02', np.datetime64('2016-10-18T23:50')-fc_lead, \n",
    "                          np.timedelta64(3, 'h'), dtype='datetime64[ns]')\n",
    "dtidx = pd.DatetimeIndex(every_3_hours)"
   ]
  },
  {
   "cell_type": "code",
   "execution_count": 33,
   "metadata": {
    "collapsed": true
   },
   "outputs": [],
   "source": [
    "test_months = [[2015, 3], [2015, 5], [2015, 7], [2015, 11], [2016, 3], [2016, 8]]"
   ]
  },
  {
   "cell_type": "code",
   "execution_count": 34,
   "metadata": {
    "collapsed": true
   },
   "outputs": [],
   "source": [
    "test_times = []\n",
    "for y, m in test_months:\n",
    "    test_times.extend(every_3_hours[(dtidx.year==y) & (dtidx.month==m)])\n",
    "test_times = np.array(test_times)"
   ]
  },
  {
   "cell_type": "code",
   "execution_count": 35,
   "metadata": {
    "collapsed": true
   },
   "outputs": [],
   "source": [
    "train_times = np.setdiff1d(every_3_hours, test_times)"
   ]
  },
  {
   "cell_type": "code",
   "execution_count": 36,
   "metadata": {
    "collapsed": true
   },
   "outputs": [],
   "source": [
    "# Two days every twenty days\n",
    "offset = 60\n",
    "valid_times = np.ravel([train_times[(i-offset):(i+(2*8)-offset)] for i in range(20*8, len(train_times), 20*8)])"
   ]
  },
  {
   "cell_type": "code",
   "execution_count": 37,
   "metadata": {
    "collapsed": true
   },
   "outputs": [],
   "source": [
    "train_times = np.setdiff1d(train_times, valid_times)"
   ]
  },
  {
   "cell_type": "code",
   "execution_count": 38,
   "metadata": {},
   "outputs": [
    {
     "data": {
      "text/plain": [
       "((3368,), (368,), (1480,))"
      ]
     },
     "execution_count": 38,
     "metadata": {},
     "output_type": "execute_result"
    }
   ],
   "source": [
    "train_times.shape, valid_times.shape, test_times.shape"
   ]
  },
  {
   "cell_type": "code",
   "execution_count": 39,
   "metadata": {},
   "outputs": [
    {
     "data": {
      "image/png": "[encoded data removed]",
      "text/plain": [
       "<matplotlib.figure.Figure at 0x24d80121940>"
      ]
     },
     "metadata": {},
     "output_type": "display_data"
    }
   ],
   "source": [
    "fig = plt.figure(figsize=(10,5))\n",
    "plt.scatter(train_times, np.zeros(train_times.shape), s=5)\n",
    "plt.scatter(valid_times, np.ones(valid_times.shape), s=5)\n",
    "plt.scatter(test_times, np.ones(test_times.shape)*2, s=5);"
   ]
  },
  {
   "cell_type": "markdown",
   "metadata": {},
   "source": [
    "### Write functions to grab data"
   ]
  },
  {
   "cell_type": "markdown",
   "metadata": {},
   "source": [
    "Let's now write a few functions to grab the correct time slice for each of the different data types."
   ]
  },
  {
   "cell_type": "code",
   "execution_count": 40,
   "metadata": {
    "collapsed": true
   },
   "outputs": [],
   "source": [
    "def get_y(t, da=pwr.power, dt=np.timedelta64(3, 'h')):\n",
    "    \"\"\"Returns the values of da from time t to time t+fc_lead in dt intervals.\"\"\"\n",
    "    time_idxs = np.arange(t, t+fc_lead, dt, dtype='datetime64[ns]')\n",
    "    return da.sel(epoch_s=time_idxs).values"
   ]
  },
  {
   "cell_type": "code",
   "execution_count": 41,
   "metadata": {},
   "outputs": [
    {
     "data": {
      "text/plain": [
       "(33,)"
      ]
     },
     "execution_count": 41,
     "metadata": {},
     "output_type": "execute_result"
    }
   ],
   "source": [
    "get_y(train_times[0]).shape"
   ]
  },
  {
   "cell_type": "code",
   "execution_count": 42,
   "metadata": {
    "collapsed": true
   },
   "outputs": [],
   "source": [
    "def get_latest_fc(t, fields={'ec': nwps['ec'].data_vars}, flatten=True, buffer=6*60*60):\n",
    "    \"\"\"\n",
    "    Returns the NWP forecast fields of the most recent initialization time. \n",
    "    The first forecast lead time corresponds to t, going up to t+fc_lead.\n",
    "    All fields are concatenated at the end to a 1D vector, if flatten=True.\n",
    "    \"\"\"\n",
    "    a = []\n",
    "    for nwp, fs in fields.items():\n",
    "        e = nwps[nwp].sel(epoch_s=t, method='ffill')\n",
    "        offset = int(t - e.epoch_s) / 1e9\n",
    "        e = e.sel(offset_s=slice(offset, offset+fc_lead.astype('timedelta64[s]').astype('int')+buffer))\n",
    "        for f in fs:\n",
    "            a.append(e[f].values)\n",
    "    a = np.array(a)\n",
    "    return a.reshape(-1) if flatten else a"
   ]
  },
  {
   "cell_type": "code",
   "execution_count": 43,
   "metadata": {},
   "outputs": [
    {
     "data": {
      "text/plain": [
       "(210,)"
      ]
     },
     "execution_count": 43,
     "metadata": {},
     "output_type": "execute_result"
    }
   ],
   "source": [
    "get_latest_fc(train_times[0]).shape"
   ]
  },
  {
   "cell_type": "markdown",
   "metadata": {},
   "source": [
    "Finally, we will also look ahead a little bit. For the first hour of our prediction it might be really useful to use the wind speed measurements from the previous few hours as input.\n",
    "\n",
    "Let's ask Martin about which time horizon to take and what delay means. Are we sure this is not cheating?"
   ]
  },
  {
   "cell_type": "code",
   "execution_count": 44,
   "metadata": {
    "collapsed": true
   },
   "outputs": [],
   "source": [
    "def get_met_obs(t, var='ws_avg', t_back=np.timedelta64(6, 'h'), dt=np.timedelta64(15, 'm'), \n",
    "                delay=np.timedelta64(6, 'h')):\n",
    "    \"\"\"Returns the values of da from time t-t_back up to excluding t in increments ot dt.\"\"\"\n",
    "    time_idxs = np.arange(t-t_back+delay, t+delay, dt, dtype='datetime64[ns]')\n",
    "    return met[var].sel(epoch_s=time_idxs).values"
   ]
  },
  {
   "cell_type": "code",
   "execution_count": 45,
   "metadata": {},
   "outputs": [
    {
     "data": {
      "text/plain": [
       "(24,)"
      ]
     },
     "execution_count": 45,
     "metadata": {},
     "output_type": "execute_result"
    }
   ],
   "source": [
    "get_met_obs(train_times[0]).shape"
   ]
  },
  {
   "cell_type": "markdown",
   "metadata": {},
   "source": [
    "With these functions we can now create our training and validation set. "
   ]
  },
  {
   "cell_type": "code",
   "execution_count": 46,
   "metadata": {
    "collapsed": true
   },
   "outputs": [],
   "source": [
    "def get_Xy(times, istest=False):\n",
    "    X, Xobs, y = [], [], []\n",
    "    for t in tqdm(times):\n",
    "        X.append(get_latest_fc(t))\n",
    "        Xobs.append(get_met_obs(t))\n",
    "        if not istest: y.append(get_y(t))\n",
    "    return (np.array(X), np.array(Xobs), np.array(y)) if not istest else (np.array(X), np.array(Xobs))"
   ]
  },
  {
   "cell_type": "code",
   "execution_count": 47,
   "metadata": {},
   "outputs": [
    {
     "data": {
      "application/vnd.jupyter.widget-view+json": {
       "model_id": "b4d55974ba6c44359d3f948e8c04fde0",
       "version_major": 2,
       "version_minor": 0
      },
      "text/plain": [
       "A Jupyter Widget"
      ]
     },
     "metadata": {},
     "output_type": "display_data"
    },
    {
     "name": "stdout",
     "output_type": "stream",
     "text": [
      "\n"
     ]
    }
   ],
   "source": [
    "X_train, Xobs_train, y_train = get_Xy(train_times)"
   ]
  },
  {
   "cell_type": "code",
   "execution_count": 48,
   "metadata": {},
   "outputs": [
    {
     "data": {
      "application/vnd.jupyter.widget-view+json": {
       "model_id": "401106b577d2414ea5cddaddc0342edc",
       "version_major": 2,
       "version_minor": 0
      },
      "text/plain": [
       "A Jupyter Widget"
      ]
     },
     "metadata": {},
     "output_type": "display_data"
    },
    {
     "name": "stdout",
     "output_type": "stream",
     "text": [
      "\n"
     ]
    }
   ],
   "source": [
    "X_valid, Xobs_valid, y_valid = get_Xy(valid_times)"
   ]
  },
  {
   "cell_type": "code",
   "execution_count": 49,
   "metadata": {},
   "outputs": [
    {
     "data": {
      "application/vnd.jupyter.widget-view+json": {
       "model_id": "77659fd2ca584b1eb060d1cf6d600a18",
       "version_major": 2,
       "version_minor": 0
      },
      "text/plain": [
       "A Jupyter Widget"
      ]
     },
     "metadata": {},
     "output_type": "display_data"
    },
    {
     "name": "stdout",
     "output_type": "stream",
     "text": [
      "\n"
     ]
    }
   ],
   "source": [
    "X_test, Xobs_test = get_Xy(test_times, istest=True)"
   ]
  },
  {
   "cell_type": "code",
   "execution_count": 50,
   "metadata": {
    "collapsed": true
   },
   "outputs": [],
   "source": [
    "# Save before removing and replacing\n",
    "with open('./tmp/wind_ds_raw.pkl', 'wb') as f:\n",
    "    pickle.dump((X_train, Xobs_train, y_train, X_valid, Xobs_valid, y_valid, X_test, Xobs_test), f)"
   ]
  },
  {
   "cell_type": "code",
   "execution_count": 51,
   "metadata": {
    "collapsed": true
   },
   "outputs": [],
   "source": [
    "with open('./tmp/wind_ds_raw.pkl', 'rb') as f:\n",
    "    X_train, Xobs_train, y_train, X_valid, Xobs_valid, y_valid, X_test, Xobs_test = pickle.load(f)"
   ]
  },
  {
   "cell_type": "markdown",
   "metadata": {},
   "source": [
    "### Deal with missing values\n",
    "\n",
    "From our previous exploration we know that `Xobs` and `y` will have missing values. If we don't have a target to predict, we can simply throw away the data.\n",
    "\n",
    "For `Xobs`, we will simply replace the missing values with the mean over the entire dataset. This is probably not the best option. Be careful how you handle missing data!"
   ]
  },
  {
   "cell_type": "code",
   "execution_count": 52,
   "metadata": {
    "collapsed": true
   },
   "outputs": [],
   "source": [
    "# Throw away rows with missing y values\n",
    "keep_idxs = np.isnan(y_train).sum(1) == 0\n",
    "train_times = train_times[keep_idxs]; X_train = X_train[keep_idxs]\n",
    "Xobs_train = Xobs_train[keep_idxs]; y_train=y_train[keep_idxs]\n",
    "keep_idxs = np.isnan(y_valid).sum(1) == 0\n",
    "valid_times = valid_times[keep_idxs]; X_valid = X_valid[keep_idxs]; \n",
    "Xobs_valid = Xobs_valid[keep_idxs]; y_valid=y_valid[keep_idxs]"
   ]
  },
  {
   "cell_type": "code",
   "execution_count": 53,
   "metadata": {
    "collapsed": true
   },
   "outputs": [],
   "source": [
    "# Replace missing observation values with mean\n",
    "Xobs_train[np.isnan(Xobs_train)] = np.nanmean(Xobs_train)\n",
    "Xobs_valid[np.isnan(Xobs_valid)] = np.nanmean(Xobs_train)\n",
    "Xobs_test[np.isnan(Xobs_test)] = np.nanmean(Xobs_train)"
   ]
  },
  {
   "cell_type": "code",
   "execution_count": 54,
   "metadata": {},
   "outputs": [
    {
     "data": {
      "text/plain": [
       "((2507, 210), (2507, 33), (199, 210))"
      ]
     },
     "execution_count": 54,
     "metadata": {},
     "output_type": "execute_result"
    }
   ],
   "source": [
    "X_train.shape, y_train.shape, X_valid.shape"
   ]
  },
  {
   "cell_type": "code",
   "execution_count": 55,
   "metadata": {
    "collapsed": true
   },
   "outputs": [],
   "source": [
    "with open('./tmp/wind_ds_clean.pkl', 'wb') as f:\n",
    "    pickle.dump((X_train, Xobs_train, y_train, X_valid, Xobs_valid, y_valid, X_test, Xobs_test), f)"
   ]
  },
  {
   "cell_type": "code",
   "execution_count": 56,
   "metadata": {
    "collapsed": true
   },
   "outputs": [],
   "source": [
    "# We also need to save the test times array\n",
    "with open('./tmp/test_times.pkl', 'wb') as f:\n",
    "    pickle.dump(test_times, f)"
   ]
  },
  {
   "cell_type": "markdown",
   "metadata": {},
   "source": [
    "## Create a first prediction\n",
    "\n",
    "Let's get a reference score with mean predictions."
   ]
  },
  {
   "cell_type": "code",
   "execution_count": 57,
   "metadata": {
    "collapsed": true
   },
   "outputs": [],
   "source": [
    "def mse(y_true, y_pred, axis=(0,1)): return ((y_true - y_pred)**2).mean(axis)\n",
    "def rmse(y_true, y_pred, axis=(0,1)): return np.sqrt(((y_true - y_pred)**2).mean(axis))"
   ]
  },
  {
   "cell_type": "code",
   "execution_count": 58,
   "metadata": {},
   "outputs": [
    {
     "data": {
      "text/plain": [
       "0.22566628"
      ]
     },
     "execution_count": 58,
     "metadata": {},
     "output_type": "execute_result"
    }
   ],
   "source": [
    "rmse(y_valid, np.mean(y_train))"
   ]
  },
  {
   "cell_type": "code",
   "execution_count": 59,
   "metadata": {
    "collapsed": true
   },
   "outputs": [],
   "source": [
    "from sklearn.metrics import r2_score"
   ]
  },
  {
   "cell_type": "code",
   "execution_count": 60,
   "metadata": {},
   "outputs": [
    {
     "data": {
      "text/plain": [
       "-0.027038421413036685"
      ]
     },
     "execution_count": 60,
     "metadata": {},
     "output_type": "execute_result"
    }
   ],
   "source": [
    "r2_score(y_valid, np.ones(y_valid.shape) * np.mean(y_train))"
   ]
  },
  {
   "cell_type": "code",
   "execution_count": 61,
   "metadata": {
    "collapsed": true
   },
   "outputs": [],
   "source": [
    "def create_sub(preds, fn=None):\n",
    "    \"\"\"Sorry for the complicated submission format. But just use this function \"\"\"\n",
    "    time_string = [\n",
    "        f'{str(tt)[:13]}+{str(lt).zfill(2)}h' for tt, lt \n",
    "        in zip(np.repeat(test_times, 33), np.tile(np.arange(0, 33*3,3), len(test_times)))]\n",
    "    df =  pd.DataFrame({'Time': time_string, 'Expected': np.ravel(preds)})\n",
    "    if fn is not None: df.to_csv(DATADIR + fn, index=False)\n",
    "    return df"
   ]
  },
  {
   "cell_type": "code",
   "execution_count": 62,
   "metadata": {
    "collapsed": true
   },
   "outputs": [],
   "source": [
    "df = create_sub(np.ones((len(test_times), 33)) * np.mean(y_train), 'mean.csv')"
   ]
  },
  {
   "cell_type": "code",
   "execution_count": 63,
   "metadata": {},
   "outputs": [
    {
     "data": {
      "text/html": [
       "<div>\n",
       "<style scoped>\n",
       "    .dataframe tbody tr th:only-of-type {\n",
       "        vertical-align: middle;\n",
       "    }\n",
       "\n",
       "    .dataframe tbody tr th {\n",
       "        vertical-align: top;\n",
       "    }\n",
       "\n",
       "    .dataframe thead th {\n",
       "        text-align: right;\n",
       "    }\n",
       "</style>\n",
       "<table border=\"1\" class=\"dataframe\">\n",
       "  <thead>\n",
       "    <tr style=\"text-align: right;\">\n",
       "      <th></th>\n",
       "      <th>Time</th>\n",
       "      <th>Expected</th>\n",
       "    </tr>\n",
       "  </thead>\n",
       "  <tbody>\n",
       "    <tr>\n",
       "      <th>0</th>\n",
       "      <td>2015-03-01T00+00h</td>\n",
       "      <td>0.167512</td>\n",
       "    </tr>\n",
       "    <tr>\n",
       "      <th>1</th>\n",
       "      <td>2015-03-01T00+03h</td>\n",
       "      <td>0.167512</td>\n",
       "    </tr>\n",
       "    <tr>\n",
       "      <th>2</th>\n",
       "      <td>2015-03-01T00+06h</td>\n",
       "      <td>0.167512</td>\n",
       "    </tr>\n",
       "    <tr>\n",
       "      <th>3</th>\n",
       "      <td>2015-03-01T00+09h</td>\n",
       "      <td>0.167512</td>\n",
       "    </tr>\n",
       "    <tr>\n",
       "      <th>4</th>\n",
       "      <td>2015-03-01T00+12h</td>\n",
       "      <td>0.167512</td>\n",
       "    </tr>\n",
       "  </tbody>\n",
       "</table>\n",
       "</div>"
      ],
      "text/plain": [
       "                Time  Expected\n",
       "0  2015-03-01T00+00h  0.167512\n",
       "1  2015-03-01T00+03h  0.167512\n",
       "2  2015-03-01T00+06h  0.167512\n",
       "3  2015-03-01T00+09h  0.167512\n",
       "4  2015-03-01T00+12h  0.167512"
      ]
     },
     "execution_count": 63,
     "metadata": {},
     "output_type": "execute_result"
    }
   ],
   "source": [
    "df.head()"
   ]
  },
  {
   "cell_type": "markdown",
   "metadata": {},
   "source": [
    "## Your turn\n",
    "\n",
    "So far we have only used the ECMWF data for X. This might not be so great. Here are some challenged to include more data.\n",
    "\n",
    "- Try building a few simple ML models as we have done with the previous datasets.\n",
    "- Think about how you could use the data from other weather centers? How would you handle missing data?"
   ]
  },
  {
   "cell_type": "code",
   "execution_count": null,
   "metadata": {
    "collapsed": true
   },
   "outputs": [],
   "source": []
  }
 ],
 "metadata": {
  "kernelspec": {
   "display_name": "Python 3",
   "language": "python",
   "name": "python3"
  },
  "language_info": {
   "codemirror_mode": {
    "name": "ipython",
    "version": 3
   },
   "file_extension": ".py",
   "mimetype": "text/x-python",
   "name": "python",
   "nbconvert_exporter": "python",
   "pygments_lexer": "ipython3",
   "version": "3.6.3"
  },
  "toc": {
   "nav_menu": {},
   "number_sections": true,
   "sideBar": false,
   "skip_h1_title": true,
   "title_cell": "Table of Contents",
   "title_sidebar": "Contents",
   "toc_cell": false,
   "toc_position": {},
   "toc_section_display": true,
   "toc_window_display": false
  }
 },
 "nbformat": 4,
 "nbformat_minor": 2
}
