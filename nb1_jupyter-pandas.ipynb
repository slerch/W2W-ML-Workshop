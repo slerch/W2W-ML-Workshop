{
 "cells": [
  {
   "cell_type": "markdown",
   "metadata": {},
   "source": [
    "# Notebook 1 - Introduction to Jupyter, exploring/manipulating data with Pandas and plotting with Matplotlib\n",
    "\n",
    "- Feature engineering: Date"
   ]
  },
  {
   "cell_type": "markdown",
   "metadata": {},
   "source": [
    "## Introduction to Jupyter notebooks\n",
    "\n",
    "*Optional*\n",
    "\n",
    "You can add extended functionalities by installing `conda install -c conda-forge jupyter_contrib_nbextensions`. This will add a tab to your dashboard, from where you can select the extension. By far the most useful in my opinion is the collapsible heading extension in combination with the table of contents extensions, which allow you to get a lot more organized!\n",
    "\n",
    "For changing the look of the notebook, you want to run `pip install jupyterthemes`. This will allow you to select different themes. For more information visit: https://github.com/dunovank/jupyter-themes\n",
    "\n",
    "### How to use these notebooks\n",
    "\n",
    "Do **NOT** just execute all the cells and feel good about it! To learn, open a new notebook and type everything yourself. Use the Jupyter notebook functionalities (see below). Looking at the solution is allowed but **no Copy-Paste**.\n",
    "\n",
    "If you are not that familiar with Python and the concepts presented here, your goal should be to do replicate the steps in these notebooks with as little peaking as possible. If you are more advanced, try to solve the additional challenges below.\n",
    "\n",
    "\n",
    "### Basic usage\n",
    "\n",
    "To start a Jupyter notebook, simply type `jupyter notebook` in the command line. If you do this locally (e.g. on your laptop) this should automatically open up a browser window with the dashboard. We will cover remote usage below.\n",
    "\n",
    "On the dashboard you can see all files in your current directory. (Note that you can click on any file and edit it.) Jupyter notebook files end in `.ipynb`. To create a new notebook, click on `New` and select a Python version. Now a new tab will appear with your empty notebook.\n",
    "\n",
    "### Cells\n",
    "\n",
    "Jupyter notebooks have cells such as this one. There are different types of cells. The two you will use most frequently are code cells and Markdown cells. This here is a Markdown cell, which allows you to write formatted text using Markdown. For a quick Markdown introduction, check out: https://github.com/adam-p/markdown-here/wiki/Markdown-Cheatsheet\n",
    "\n",
    "Note that in markdown you can also type Latex:\n",
    "\n",
    "$x=\\frac{a}{b}$\n",
    "\n",
    "To switch the cell type, either use the toolbar above or press `y` for code and `m` for markdown in command mode, which we will get to now.\n",
    "\n",
    "### Modes\n",
    "\n",
    "To navigate Jupyter notebooks there are two modes: Command mode, which you can enter by pressing `esc` and edit mode which you can enter by pressing `Enter`. In edit mode you edit inside a cell, while in command mode you can edit the cells themselves. If you get confused about all the keys just press `h` in command mode, which will bring up a list of all keyboard shortcuts. Of course, you can also use the mouse and the toolbar.\n",
    "\n",
    "### Executing a cell\n",
    "\n",
    "To execute a cell, press `Shift + Enter`. This will run the code or render the text and jump to the next cell. If you would like to insert a cell below, type `Alt + Enter`.\n",
    "\n",
    "Now let's start by actually writing some code."
   ]
  },
  {
   "cell_type": "code",
   "execution_count": 1,
   "metadata": {
    "collapsed": true
   },
   "outputs": [],
   "source": [
    "# Import modules just as you would in a regular Python script\n",
    "import numpy as np\n",
    "import matplotlib.pyplot as plt\n",
    "# This will allow you to display plots inside the notebook.\n",
    "%matplotlib inline"
   ]
  },
  {
   "cell_type": "code",
   "execution_count": 2,
   "metadata": {
    "collapsed": true
   },
   "outputs": [],
   "source": [
    "# Assign variables\n",
    "a = 10"
   ]
  },
  {
   "cell_type": "code",
   "execution_count": 3,
   "metadata": {},
   "outputs": [
    {
     "data": {
      "text/plain": [
       "10"
      ]
     },
     "execution_count": 3,
     "metadata": {},
     "output_type": "execute_result"
    }
   ],
   "source": [
    "# The value of the last object in the cell will be displayed\n",
    "b = 2\n",
    "a"
   ]
  },
  {
   "cell_type": "code",
   "execution_count": 4,
   "metadata": {},
   "outputs": [
    {
     "data": {
      "text/plain": [
       "12"
      ]
     },
     "execution_count": 4,
     "metadata": {},
     "output_type": "execute_result"
    }
   ],
   "source": [
    "a + b"
   ]
  },
  {
   "cell_type": "markdown",
   "metadata": {},
   "source": [
    "You do not have to work from top to bottom. You can always edit cells above.\n",
    "\n",
    "But pay attention: This means that the notebook might throw an error when executed in after restarting the kernel."
   ]
  },
  {
   "cell_type": "markdown",
   "metadata": {},
   "source": [
    "### Get function docs\n",
    "\n",
    "Next, let's create a basic plot and also note a super-handy functionality of the notebook: When using a function and pressing `Shift + Tab` when the cursor is inside the function parenthesis, it will bring up the list of arguments. Pressing it twice will bring up the doc string.\n",
    "\n",
    "Similarly, executing `?function_name` will bring up the doc string in a separate window. `??function_name` will bring up the source code."
   ]
  },
  {
   "cell_type": "code",
   "execution_count": 5,
   "metadata": {},
   "outputs": [
    {
     "data": {
      "image/png": "[encoded data removed]",
      "text/plain": [
       "<matplotlib.figure.Figure at 0x23a60ac2a58>"
      ]
     },
     "metadata": {},
     "output_type": "display_data"
    }
   ],
   "source": [
    "plt.hist(np.random.normal(size=1000))\n",
    "plt.show()"
   ]
  },
  {
   "cell_type": "code",
   "execution_count": 6,
   "metadata": {
    "collapsed": true
   },
   "outputs": [],
   "source": [
    "?plt.hist"
   ]
  },
  {
   "cell_type": "code",
   "execution_count": 7,
   "metadata": {
    "collapsed": true
   },
   "outputs": [],
   "source": [
    "??plt.hist"
   ]
  },
  {
   "cell_type": "markdown",
   "metadata": {},
   "source": [
    "### Sharing a notebook\n",
    "\n",
    "Here are several ways to share a Jupyter notebook.\n",
    "\n",
    "**GitHub**\n",
    "\n",
    "If the notebook is in a GitHub repository (which it probably should be!), GitHub will simply render the notebook for you like this: https://github.com/raspstephan/ESS-Python-Tutorial/blob/master/notebooks/jupyter-intro.ipynb\n",
    "\n",
    "**NBViewer**\n",
    "\n",
    "Another option is to copy the GitHub URL to http://nbviewer.jupyter.org/.\n",
    "\n",
    "**As HTML or PDF**\n",
    "\n",
    "You can also export the notebook to HTML or PDF by typing `jupyter nbconvert --to FORMAT notebook.ipynb` where `FORMAT` can be `pdf`, `html` or many others.\n",
    "\n",
    "More information here: https://ipython.org/ipython-doc/3/notebook/nbconvert.html"
   ]
  },
  {
   "cell_type": "markdown",
   "metadata": {},
   "source": [
    "### Remote setup\n",
    "\n",
    "Now let's see how we can use Jupyter notebooks remotely.\n",
    "\n",
    "** Port tunnel**\n",
    "\n",
    "If you want to run Jupyter on a remote computer, you need to create a port tunnel in order to open the notebook locally in the browser. The command to do this is:\n",
    "\n",
    "`ssh -L localhost:8888:localhost:8888 user@host`\n",
    "\n",
    "This will create a tunnel for port 8888. If you do your actual computations on a different node, you can do the same thing to create a tunnel to that node:\n",
    "\n",
    "`ssh -L localhost:8888:localhost:8888 c-3-39`\n",
    "\n",
    "Now locally in your browser, go to `localhost:8888`. Most probably it will ask you for a token. You will find the token in the terminal where Jupyter is running, where it will look something like this:\n",
    "\n",
    "`http://localhost:8888/?token=940f1a436d91bde5ef15e3640dd66bd7d3f724a68513c99f`\n",
    "\n",
    "Just copy and paste the token after = and you should be good to go.\n",
    "\n",
    "**Screen**\n",
    "\n",
    "Since remote connections die sometimes (or all the time), it is really handy to use screen. Screen enables you to run processes remotely, which will continue even after your connection has timed out.\n",
    "\n",
    "To start a screen session, just type `screen`. To execute screen commands, you need to press `Ctrl + a` followed by a command. `c` will create a new window. `n` and `p` will go to the next and previous window. k will kill the window. Finally, `d` will detach from the window. To log back into a screen session after detaching or having been disconnected, simply type `screen -r`.\n",
    "\n",
    "Here is more information about screen: http://aperiodic.net/screen/quick_reference\n",
    "\n",
    "**Mounting**\n",
    "\n",
    "Finally, to edit remote files in your preferred editor (PyCharm, VSC, etc.), you might want to mount a remote directory. For Linux/Mac you can use sshfs. On the Mac you have to install OSXFuse. Here is a link outlining the process: https://blogs.harvard.edu/acts/2013/11/08/the-newbie-how-to-set-up-sshfs-on-mac-os-x/\n",
    "\n",
    "Then you can mount a remote directory: `sshfs srasp@gplogin1.ps.uci.edu:/export/home/srasp/ greenplanet_home/`"
   ]
  },
  {
   "cell_type": "markdown",
   "metadata": {},
   "source": [
    "## Exploring and manipulating data with Pandas plus some basic plotting - Post-processing NWP forecasts\n",
    "\n",
    "Our first dataset will be a postprocessing dataset. Our aim is to correct biases of NWP temperature forecasts. The forecasts are ensemble means of the ECMWF TIGGE archive. The corresponding observations are taken at DWD surface stations. "
   ]
  },
  {
   "cell_type": "code",
   "execution_count": 5,
   "metadata": {
    "collapsed": true
   },
   "outputs": [],
   "source": [
    "import os"
   ]
  },
  {
   "cell_type": "code",
   "execution_count": 6,
   "metadata": {
    "collapsed": true
   },
   "outputs": [],
   "source": [
    "DATADIR = './dataset1/'"
   ]
  },
  {
   "cell_type": "code",
   "execution_count": 7,
   "metadata": {},
   "outputs": [
    {
     "name": "stdout",
     "output_type": "stream",
     "text": [
      "pp_sample_submission.csv  pp_test.csv  pp_train.csv\r\n"
     ]
    }
   ],
   "source": [
    "# Command line with !; $to use local variables in command line\n",
    "!ls $DATADIR"
   ]
  },
  {
   "cell_type": "code",
   "execution_count": 8,
   "metadata": {},
   "outputs": [
    {
     "data": {
      "text/plain": [
       "['pp_sample_submission.csv', 'pp_test.csv', 'pp_train.csv']"
      ]
     },
     "execution_count": 8,
     "metadata": {},
     "output_type": "execute_result"
    }
   ],
   "source": [
    "# Unfortunately this might not work on Windows depending on your setup, so we will use os\n",
    "os.listdir(DATADIR)"
   ]
  },
  {
   "cell_type": "markdown",
   "metadata": {},
   "source": [
    "The first dataset we will use in this workshop is tabular. Tabular data are what you would use in Excel. To work with tabular data in Python, we will use Pandas. Pandas is very widely used which means that you will find an answer to any question you can think of online. Here is a quick overview of basic functionalities: https://pandas.pydata.org/pandas-docs/stable/basics.html\n",
    "\n",
    "Tabular data files are often saved as `.csv` files which we can easily read into a Pandas `DataFrame`.\n",
    "\n",
    "There are two datasets: a training and a test datset. First, let's ignore the test set and open the training set."
   ]
  },
  {
   "cell_type": "code",
   "execution_count": 1,
   "metadata": {
    "collapsed": true
   },
   "outputs": [],
   "source": [
    "import pandas as pd\n",
    "# Don't worry about this statement. This just suppresses warnings later on.\n",
    "pd.options.mode.chained_assignment = None"
   ]
  },
  {
   "cell_type": "code",
   "execution_count": 10,
   "metadata": {},
   "outputs": [
    {
     "name": "stdout",
     "output_type": "stream",
     "text": [
      ",t2m_obs,time,station,t2m_fc_mean,orog,station_alt,station_lat,station_lon,u_pl500_fc_mean,v_pl500_fc_mean,gh_pl500_fc_mean,u_pl850_fc_mean,v_pl850_fc_mean,q_pl850_fc_mean,cape_fc_mean,sp_fc_mean,tcc_fc_mean,sshf_fc_mean,slhf_fc_mean,u10_fc_mean,v10_fc_mean,ssr_fc_mean,str_fc_mean,d2m_fc_mean,sm_fc_mean\r\n",
      "0,1.2,2011-01-01,3,-0.022290079,107.43946,202.0,50.7827,6.0941,4.7604675,-4.907918,5619.513,5.040613,-2.4240947,0.0020729504,2.517037,101379.51,98.05601,634981.4,39645.008,2.2089093,0.75530154,2433034.8,-3513225.0,273.57892,374.63348\r\n",
      "1,1.6,2011-01-01,44,2.0864146,19.397774,44.0,52.9335,8.237,14.442179,-10.303844,5579.092,16.77781,-6.1201735,0.0017127863,1.8534747,101709.04,98.7418,1592483.9,370638.6,6.223993,0.800821,2427059.2,-1702554.9,275.06873,388.6035\r\n",
      "2,-6.3,2011-01-01,71,-6.609096,604.885,759.0,48.2156,8.9784,0.25433925,-6.2813725,5614.9375,0.8365133,-0.2675586,0.002297013,1.3541166,94432.85,91.60234,-1416809.8,-239365.98,-0.39441925,-0.95084035,4320586.0,-4435227.5,265.47473,437.023\r\n",
      "3,-3.0,2011-01-01,73,-5.0717525,461.4418,340.0,48.6159,13.0506,2.4893465,-10.044441,5588.1655,6.1789904,-1.3422626,0.002404796,1.821984,97368.55,91.13937,48696.496,-570603.4,1.9234713,0.33606747,5658946.5,-6691302.0,267.4964,366.52255\r\n",
      "4,0.5,2011-01-01,78,1.7435802,47.632523,65.0,52.4853,7.9126,11.60049,-9.078665,5588.1724,14.216161,-5.2134333,0.0016373554,1.9884366,101419.82,99.178986,1435826.9,616228.75,4.472726,0.6738203,2416039.5,-1872194.9,274.56433,263.73572\r\n",
      "5,-2.0,2011-01-01,91,-1.6467652,348.8699,300.0,50.7446,9.345,4.7360325,-7.3809066,5600.502,6.91943,-3.6368911,0.0016977584,0.991969,97728.27,99.15859,-437949.38,-131503.19,2.346411,1.1555793,2039684.1,-1838326.1,269.76184,373.94714\r\n",
      "6,3.4,2011-01-01,102,3.7684197,-0.19300345,32.0,53.8617,8.1266,21.955555,-13.723398,5553.8613,21.089575,-8.558664,0.0022098175,3.0073986,101625.16,98.13913,459276.16,-818385.75,12.63234,-0.44567385,2508306.2,-3847206.0,276.1935,\r\n",
      "7,,2011-01-01,125,-7.9482865,662.68945,756.0,47.8342,10.8667,0.3899494,-7.4064136,5603.9883,2.9416766,0.05649725,0.0024515719,0.5690889,94748.22,68.470856,-190734.56,-231717.19,0.4879644,1.1171349,6003780.5,-7940518.0,264.27023,372.93637\r\n",
      "8,-1.5,2011-01-01,131,-0.37933877,296.8392,296.0,51.0881,12.9326,8.423413,-12.893658,5563.9995,12.519774,-6.05727,0.0014666808,0.6320709,98477.74,85.5063,3846844.2,200367.44,4.465709,1.2320244,3020785.2,-5267415.0,271.5818,363.70914\r\n"
     ]
    }
   ],
   "source": [
    "# Command line option\n",
    "!head $f'{DATADIR}pp_train.csv'"
   ]
  },
  {
   "cell_type": "code",
   "execution_count": 11,
   "metadata": {},
   "outputs": [
    {
     "name": "stdout",
     "output_type": "stream",
     "text": [
      ",t2m_obs,time,station,t2m_fc_mean,orog,station_alt,station_lat,station_lon,u_pl500_fc_mean,v_pl500_fc_mean,gh_pl500_fc_mean,u_pl850_fc_mean,v_pl850_fc_mean,q_pl850_fc_mean,cape_fc_mean,sp_fc_mean,tcc_fc_mean,sshf_fc_mean,slhf_fc_mean,u10_fc_mean,v10_fc_mean,ssr_fc_mean,str_fc_mean,d2m_fc_mean,sm_fc_mean\n",
      "\n",
      "0,1.2,2011-01-01,3,-0.022290079,107.43946,202.0,50.7827,6.0941,4.7604675,-4.907918,5619.513,5.040613,-2.4240947,0.0020729504,2.517037,101379.51,98.05601,634981.4,39645.008,2.2089093,0.75530154,2433034.8,-3513225.0,273.57892,374.63348\n",
      "\n",
      "1,1.6,2011-01-01,44,2.0864146,19.397774,44.0,52.9335,8.237,14.442179,-10.303844,5579.092,16.77781,-6.1201735,0.0017127863,1.8534747,101709.04,98.7418,1592483.9,370638.6,6.223993,0.800821,2427059.2,-1702554.9,275.06873,388.6035\n",
      "\n",
      "2,-6.3,2011-01-01,71,-6.609096,604.885,759.0,48.2156,8.9784,0.25433925,-6.2813725,5614.9375,0.8365133,-0.2675586,0.002297013,1.3541166,94432.85,91.60234,-1416809.8,-239365.98,-0.39441925,-0.95084035,4320586.0,-4435227.5,265.47473,437.023\n",
      "\n",
      "3,-3.0,2011-01-01,73,-5.0717525,461.4418,340.0,48.6159,13.0506,2.4893465,-10.044441,5588.1655,6.1789904,-1.3422626,0.002404796,1.821984,97368.55,91.13937,48696.496,-570603.4,1.9234713,0.33606747,5658946.5,-6691302.0,267.4964,366.52255\n",
      "\n"
     ]
    }
   ],
   "source": [
    "# Windows-safe option\n",
    "def print_head(fn):\n",
    "    with open(fn) as f:\n",
    "        for i in range(5):\n",
    "            print(f.readline())\n",
    "print_head(f'{DATADIR}pp_train.csv')"
   ]
  },
  {
   "cell_type": "markdown",
   "metadata": {},
   "source": [
    "Let's load this dataset into a Pandas DataFrame."
   ]
  },
  {
   "cell_type": "code",
   "execution_count": 12,
   "metadata": {},
   "outputs": [
    {
     "name": "stdout",
     "output_type": "stream",
     "text": [
      "CPU times: user 4.09 s, sys: 388 ms, total: 4.48 s\n",
      "Wall time: 4.01 s\n"
     ]
    }
   ],
   "source": [
    "# Time how long it takes to read file\n",
    "%time df_train = pd.read_csv(f'{DATADIR}pp_train.csv', index_col=0)"
   ]
  },
  {
   "cell_type": "markdown",
   "metadata": {},
   "source": [
    "### Explore data"
   ]
  },
  {
   "cell_type": "code",
   "execution_count": 13,
   "metadata": {
    "collapsed": true
   },
   "outputs": [],
   "source": [
    "# Before we play around with the data, let's save a copy\n",
    "df_train_raw = df_train.copy()\n",
    "# But watch out for RAM usage for larger datasets!"
   ]
  },
  {
   "cell_type": "code",
   "execution_count": 14,
   "metadata": {
    "scrolled": false
   },
   "outputs": [
    {
     "data": {
      "text/html": [
       "<div>\n",
       "<style scoped>\n",
       "    .dataframe tbody tr th:only-of-type {\n",
       "        vertical-align: middle;\n",
       "    }\n",
       "\n",
       "    .dataframe tbody tr th {\n",
       "        vertical-align: top;\n",
       "    }\n",
       "\n",
       "    .dataframe thead th {\n",
       "        text-align: right;\n",
       "    }\n",
       "</style>\n",
       "<table border=\"1\" class=\"dataframe\">\n",
       "  <thead>\n",
       "    <tr style=\"text-align: right;\">\n",
       "      <th></th>\n",
       "      <th>t2m_obs</th>\n",
       "      <th>time</th>\n",
       "      <th>station</th>\n",
       "      <th>t2m_fc_mean</th>\n",
       "      <th>orog</th>\n",
       "      <th>station_alt</th>\n",
       "      <th>station_lat</th>\n",
       "      <th>station_lon</th>\n",
       "      <th>u_pl500_fc_mean</th>\n",
       "      <th>v_pl500_fc_mean</th>\n",
       "      <th>...</th>\n",
       "      <th>sp_fc_mean</th>\n",
       "      <th>tcc_fc_mean</th>\n",
       "      <th>sshf_fc_mean</th>\n",
       "      <th>slhf_fc_mean</th>\n",
       "      <th>u10_fc_mean</th>\n",
       "      <th>v10_fc_mean</th>\n",
       "      <th>ssr_fc_mean</th>\n",
       "      <th>str_fc_mean</th>\n",
       "      <th>d2m_fc_mean</th>\n",
       "      <th>sm_fc_mean</th>\n",
       "    </tr>\n",
       "  </thead>\n",
       "  <tbody>\n",
       "    <tr>\n",
       "      <th>0</th>\n",
       "      <td>1.2</td>\n",
       "      <td>2011-01-01</td>\n",
       "      <td>3</td>\n",
       "      <td>-0.022290</td>\n",
       "      <td>107.439460</td>\n",
       "      <td>202.0</td>\n",
       "      <td>50.7827</td>\n",
       "      <td>6.0941</td>\n",
       "      <td>4.760467</td>\n",
       "      <td>-4.907918</td>\n",
       "      <td>...</td>\n",
       "      <td>101379.51</td>\n",
       "      <td>98.056010</td>\n",
       "      <td>634981.400</td>\n",
       "      <td>39645.008</td>\n",
       "      <td>2.208909</td>\n",
       "      <td>0.755302</td>\n",
       "      <td>2433034.8</td>\n",
       "      <td>-3513225.0</td>\n",
       "      <td>273.57892</td>\n",
       "      <td>374.63348</td>\n",
       "    </tr>\n",
       "    <tr>\n",
       "      <th>1</th>\n",
       "      <td>1.6</td>\n",
       "      <td>2011-01-01</td>\n",
       "      <td>44</td>\n",
       "      <td>2.086415</td>\n",
       "      <td>19.397774</td>\n",
       "      <td>44.0</td>\n",
       "      <td>52.9335</td>\n",
       "      <td>8.2370</td>\n",
       "      <td>14.442179</td>\n",
       "      <td>-10.303844</td>\n",
       "      <td>...</td>\n",
       "      <td>101709.04</td>\n",
       "      <td>98.741800</td>\n",
       "      <td>1592483.900</td>\n",
       "      <td>370638.600</td>\n",
       "      <td>6.223993</td>\n",
       "      <td>0.800821</td>\n",
       "      <td>2427059.2</td>\n",
       "      <td>-1702554.9</td>\n",
       "      <td>275.06873</td>\n",
       "      <td>388.60350</td>\n",
       "    </tr>\n",
       "    <tr>\n",
       "      <th>2</th>\n",
       "      <td>-6.3</td>\n",
       "      <td>2011-01-01</td>\n",
       "      <td>71</td>\n",
       "      <td>-6.609096</td>\n",
       "      <td>604.885000</td>\n",
       "      <td>759.0</td>\n",
       "      <td>48.2156</td>\n",
       "      <td>8.9784</td>\n",
       "      <td>0.254339</td>\n",
       "      <td>-6.281372</td>\n",
       "      <td>...</td>\n",
       "      <td>94432.85</td>\n",
       "      <td>91.602340</td>\n",
       "      <td>-1416809.800</td>\n",
       "      <td>-239365.980</td>\n",
       "      <td>-0.394419</td>\n",
       "      <td>-0.950840</td>\n",
       "      <td>4320586.0</td>\n",
       "      <td>-4435227.5</td>\n",
       "      <td>265.47473</td>\n",
       "      <td>437.02300</td>\n",
       "    </tr>\n",
       "    <tr>\n",
       "      <th>3</th>\n",
       "      <td>-3.0</td>\n",
       "      <td>2011-01-01</td>\n",
       "      <td>73</td>\n",
       "      <td>-5.071753</td>\n",
       "      <td>461.441800</td>\n",
       "      <td>340.0</td>\n",
       "      <td>48.6159</td>\n",
       "      <td>13.0506</td>\n",
       "      <td>2.489346</td>\n",
       "      <td>-10.044441</td>\n",
       "      <td>...</td>\n",
       "      <td>97368.55</td>\n",
       "      <td>91.139370</td>\n",
       "      <td>48696.496</td>\n",
       "      <td>-570603.400</td>\n",
       "      <td>1.923471</td>\n",
       "      <td>0.336067</td>\n",
       "      <td>5658946.5</td>\n",
       "      <td>-6691302.0</td>\n",
       "      <td>267.49640</td>\n",
       "      <td>366.52255</td>\n",
       "    </tr>\n",
       "    <tr>\n",
       "      <th>4</th>\n",
       "      <td>0.5</td>\n",
       "      <td>2011-01-01</td>\n",
       "      <td>78</td>\n",
       "      <td>1.743580</td>\n",
       "      <td>47.632523</td>\n",
       "      <td>65.0</td>\n",
       "      <td>52.4853</td>\n",
       "      <td>7.9126</td>\n",
       "      <td>11.600490</td>\n",
       "      <td>-9.078665</td>\n",
       "      <td>...</td>\n",
       "      <td>101419.82</td>\n",
       "      <td>99.178986</td>\n",
       "      <td>1435826.900</td>\n",
       "      <td>616228.750</td>\n",
       "      <td>4.472726</td>\n",
       "      <td>0.673820</td>\n",
       "      <td>2416039.5</td>\n",
       "      <td>-1872194.9</td>\n",
       "      <td>274.56433</td>\n",
       "      <td>263.73572</td>\n",
       "    </tr>\n",
       "  </tbody>\n",
       "</table>\n",
       "<p>5 rows × 25 columns</p>\n",
       "</div>"
      ],
      "text/plain": [
       "   t2m_obs        time  station  t2m_fc_mean        orog  station_alt  \\\n",
       "0      1.2  2011-01-01        3    -0.022290  107.439460        202.0   \n",
       "1      1.6  2011-01-01       44     2.086415   19.397774         44.0   \n",
       "2     -6.3  2011-01-01       71    -6.609096  604.885000        759.0   \n",
       "3     -3.0  2011-01-01       73    -5.071753  461.441800        340.0   \n",
       "4      0.5  2011-01-01       78     1.743580   47.632523         65.0   \n",
       "\n",
       "   station_lat  station_lon  u_pl500_fc_mean  v_pl500_fc_mean     ...      \\\n",
       "0      50.7827       6.0941         4.760467        -4.907918     ...       \n",
       "1      52.9335       8.2370        14.442179       -10.303844     ...       \n",
       "2      48.2156       8.9784         0.254339        -6.281372     ...       \n",
       "3      48.6159      13.0506         2.489346       -10.044441     ...       \n",
       "4      52.4853       7.9126        11.600490        -9.078665     ...       \n",
       "\n",
       "   sp_fc_mean  tcc_fc_mean  sshf_fc_mean  slhf_fc_mean  u10_fc_mean  \\\n",
       "0   101379.51    98.056010    634981.400     39645.008     2.208909   \n",
       "1   101709.04    98.741800   1592483.900    370638.600     6.223993   \n",
       "2    94432.85    91.602340  -1416809.800   -239365.980    -0.394419   \n",
       "3    97368.55    91.139370     48696.496   -570603.400     1.923471   \n",
       "4   101419.82    99.178986   1435826.900    616228.750     4.472726   \n",
       "\n",
       "   v10_fc_mean  ssr_fc_mean  str_fc_mean  d2m_fc_mean  sm_fc_mean  \n",
       "0     0.755302    2433034.8   -3513225.0    273.57892   374.63348  \n",
       "1     0.800821    2427059.2   -1702554.9    275.06873   388.60350  \n",
       "2    -0.950840    4320586.0   -4435227.5    265.47473   437.02300  \n",
       "3     0.336067    5658946.5   -6691302.0    267.49640   366.52255  \n",
       "4     0.673820    2416039.5   -1872194.9    274.56433   263.73572  \n",
       "\n",
       "[5 rows x 25 columns]"
      ]
     },
     "execution_count": 14,
     "metadata": {},
     "output_type": "execute_result"
    }
   ],
   "source": [
    "# Show the first five rows. .tail() for the last five\n",
    "df_train.head()"
   ]
  },
  {
   "cell_type": "code",
   "execution_count": 15,
   "metadata": {},
   "outputs": [
    {
     "data": {
      "text/plain": [
       "980562"
      ]
     },
     "execution_count": 15,
     "metadata": {},
     "output_type": "execute_result"
    }
   ],
   "source": [
    "# How many rows\n",
    "len(df_train)"
   ]
  },
  {
   "cell_type": "code",
   "execution_count": 16,
   "metadata": {},
   "outputs": [
    {
     "data": {
      "text/plain": [
       "Index(['t2m_obs', 'time', 'station', 't2m_fc_mean', 'orog', 'station_alt',\n",
       "       'station_lat', 'station_lon', 'u_pl500_fc_mean', 'v_pl500_fc_mean',\n",
       "       'gh_pl500_fc_mean', 'u_pl850_fc_mean', 'v_pl850_fc_mean',\n",
       "       'q_pl850_fc_mean', 'cape_fc_mean', 'sp_fc_mean', 'tcc_fc_mean',\n",
       "       'sshf_fc_mean', 'slhf_fc_mean', 'u10_fc_mean', 'v10_fc_mean',\n",
       "       'ssr_fc_mean', 'str_fc_mean', 'd2m_fc_mean', 'sm_fc_mean'],\n",
       "      dtype='object')"
      ]
     },
     "execution_count": 16,
     "metadata": {},
     "output_type": "execute_result"
    }
   ],
   "source": [
    "df_train.columns"
   ]
  },
  {
   "cell_type": "markdown",
   "metadata": {},
   "source": [
    "![title](images/variables.png)\n",
    "https://arxiv.org/abs/1805.09091"
   ]
  },
  {
   "cell_type": "code",
   "execution_count": 17,
   "metadata": {},
   "outputs": [
    {
     "data": {
      "text/html": [
       "<div>\n",
       "<style scoped>\n",
       "    .dataframe tbody tr th:only-of-type {\n",
       "        vertical-align: middle;\n",
       "    }\n",
       "\n",
       "    .dataframe tbody tr th {\n",
       "        vertical-align: top;\n",
       "    }\n",
       "\n",
       "    .dataframe thead th {\n",
       "        text-align: right;\n",
       "    }\n",
       "</style>\n",
       "<table border=\"1\" class=\"dataframe\">\n",
       "  <thead>\n",
       "    <tr style=\"text-align: right;\">\n",
       "      <th></th>\n",
       "      <th>t2m_obs</th>\n",
       "      <th>station</th>\n",
       "      <th>t2m_fc_mean</th>\n",
       "      <th>orog</th>\n",
       "      <th>station_alt</th>\n",
       "      <th>station_lat</th>\n",
       "      <th>station_lon</th>\n",
       "      <th>u_pl500_fc_mean</th>\n",
       "      <th>v_pl500_fc_mean</th>\n",
       "      <th>gh_pl500_fc_mean</th>\n",
       "      <th>...</th>\n",
       "      <th>sp_fc_mean</th>\n",
       "      <th>tcc_fc_mean</th>\n",
       "      <th>sshf_fc_mean</th>\n",
       "      <th>slhf_fc_mean</th>\n",
       "      <th>u10_fc_mean</th>\n",
       "      <th>v10_fc_mean</th>\n",
       "      <th>ssr_fc_mean</th>\n",
       "      <th>str_fc_mean</th>\n",
       "      <th>d2m_fc_mean</th>\n",
       "      <th>sm_fc_mean</th>\n",
       "    </tr>\n",
       "  </thead>\n",
       "  <tbody>\n",
       "    <tr>\n",
       "      <th>count</th>\n",
       "      <td>908857.000000</td>\n",
       "      <td>980562.000000</td>\n",
       "      <td>980562.000000</td>\n",
       "      <td>980562.000000</td>\n",
       "      <td>980562.000000</td>\n",
       "      <td>980562.000000</td>\n",
       "      <td>980562.000000</td>\n",
       "      <td>980562.000000</td>\n",
       "      <td>980562.000000</td>\n",
       "      <td>980562.000000</td>\n",
       "      <td>...</td>\n",
       "      <td>980562.000000</td>\n",
       "      <td>980562.000000</td>\n",
       "      <td>9.805620e+05</td>\n",
       "      <td>9.805620e+05</td>\n",
       "      <td>980562.000000</td>\n",
       "      <td>980562.000000</td>\n",
       "      <td>9.805620e+05</td>\n",
       "      <td>9.805620e+05</td>\n",
       "      <td>980562.000000</td>\n",
       "      <td>886600.000000</td>\n",
       "    </tr>\n",
       "    <tr>\n",
       "      <th>mean</th>\n",
       "      <td>7.531618</td>\n",
       "      <td>3726.726257</td>\n",
       "      <td>7.305595</td>\n",
       "      <td>295.234511</td>\n",
       "      <td>289.700186</td>\n",
       "      <td>50.812609</td>\n",
       "      <td>10.184040</td>\n",
       "      <td>8.823780</td>\n",
       "      <td>-0.302459</td>\n",
       "      <td>5607.319530</td>\n",
       "      <td>...</td>\n",
       "      <td>98167.966711</td>\n",
       "      <td>61.148280</td>\n",
       "      <td>-1.767204e+06</td>\n",
       "      <td>-8.152601e+06</td>\n",
       "      <td>0.792879</td>\n",
       "      <td>0.643888</td>\n",
       "      <td>1.928963e+07</td>\n",
       "      <td>-9.371092e+06</td>\n",
       "      <td>277.832031</td>\n",
       "      <td>343.767861</td>\n",
       "    </tr>\n",
       "    <tr>\n",
       "      <th>std</th>\n",
       "      <td>6.579644</td>\n",
       "      <td>2719.500011</td>\n",
       "      <td>6.718977</td>\n",
       "      <td>234.161776</td>\n",
       "      <td>278.959584</td>\n",
       "      <td>1.915865</td>\n",
       "      <td>2.084653</td>\n",
       "      <td>10.804031</td>\n",
       "      <td>10.906147</td>\n",
       "      <td>148.716669</td>\n",
       "      <td>...</td>\n",
       "      <td>2799.084576</td>\n",
       "      <td>31.656075</td>\n",
       "      <td>4.201333e+06</td>\n",
       "      <td>5.924629e+06</td>\n",
       "      <td>2.601944</td>\n",
       "      <td>1.994099</td>\n",
       "      <td>1.228819e+07</td>\n",
       "      <td>3.442328e+06</td>\n",
       "      <td>6.616596</td>\n",
       "      <td>61.335377</td>\n",
       "    </tr>\n",
       "    <tr>\n",
       "      <th>min</th>\n",
       "      <td>-26.200000</td>\n",
       "      <td>3.000000</td>\n",
       "      <td>-21.508630</td>\n",
       "      <td>-1.427856</td>\n",
       "      <td>0.000000</td>\n",
       "      <td>47.398600</td>\n",
       "      <td>6.024400</td>\n",
       "      <td>-34.023964</td>\n",
       "      <td>-51.873432</td>\n",
       "      <td>4976.940000</td>\n",
       "      <td>...</td>\n",
       "      <td>84283.160000</td>\n",
       "      <td>0.000000</td>\n",
       "      <td>-3.243611e+07</td>\n",
       "      <td>-5.462550e+07</td>\n",
       "      <td>-14.955598</td>\n",
       "      <td>-15.886876</td>\n",
       "      <td>3.300497e+05</td>\n",
       "      <td>-2.136808e+07</td>\n",
       "      <td>247.132420</td>\n",
       "      <td>64.123955</td>\n",
       "    </tr>\n",
       "    <tr>\n",
       "      <th>25%</th>\n",
       "      <td>2.800000</td>\n",
       "      <td>1639.000000</td>\n",
       "      <td>2.331773</td>\n",
       "      <td>67.390170</td>\n",
       "      <td>72.000000</td>\n",
       "      <td>49.244500</td>\n",
       "      <td>8.576100</td>\n",
       "      <td>1.466554</td>\n",
       "      <td>-6.884149</td>\n",
       "      <td>5507.763700</td>\n",
       "      <td>...</td>\n",
       "      <td>96367.070000</td>\n",
       "      <td>34.416545</td>\n",
       "      <td>-4.712416e+06</td>\n",
       "      <td>-1.300108e+07</td>\n",
       "      <td>-1.076624</td>\n",
       "      <td>-0.712025</td>\n",
       "      <td>7.668573e+06</td>\n",
       "      <td>-1.182197e+07</td>\n",
       "      <td>273.451382</td>\n",
       "      <td>308.552310</td>\n",
       "    </tr>\n",
       "    <tr>\n",
       "      <th>50%</th>\n",
       "      <td>7.800000</td>\n",
       "      <td>3348.000000</td>\n",
       "      <td>7.676022</td>\n",
       "      <td>296.438720</td>\n",
       "      <td>238.000000</td>\n",
       "      <td>50.736400</td>\n",
       "      <td>10.048000</td>\n",
       "      <td>8.571194</td>\n",
       "      <td>0.297703</td>\n",
       "      <td>5629.717300</td>\n",
       "      <td>...</td>\n",
       "      <td>98335.900000</td>\n",
       "      <td>67.456060</td>\n",
       "      <td>-1.958288e+06</td>\n",
       "      <td>-7.106672e+06</td>\n",
       "      <td>0.762717</td>\n",
       "      <td>0.707770</td>\n",
       "      <td>1.845740e+07</td>\n",
       "      <td>-9.528052e+06</td>\n",
       "      <td>278.301150</td>\n",
       "      <td>358.254030</td>\n",
       "    </tr>\n",
       "    <tr>\n",
       "      <th>75%</th>\n",
       "      <td>12.500000</td>\n",
       "      <td>5277.000000</td>\n",
       "      <td>12.487657</td>\n",
       "      <td>436.711360</td>\n",
       "      <td>440.000000</td>\n",
       "      <td>52.178900</td>\n",
       "      <td>11.813300</td>\n",
       "      <td>15.717412</td>\n",
       "      <td>7.203771</td>\n",
       "      <td>5719.493700</td>\n",
       "      <td>...</td>\n",
       "      <td>100424.337500</td>\n",
       "      <td>90.847860</td>\n",
       "      <td>8.736628e+05</td>\n",
       "      <td>-2.717170e+06</td>\n",
       "      <td>2.310319</td>\n",
       "      <td>1.861252</td>\n",
       "      <td>2.953434e+07</td>\n",
       "      <td>-7.014966e+06</td>\n",
       "      <td>282.778200</td>\n",
       "      <td>385.054400</td>\n",
       "    </tr>\n",
       "    <tr>\n",
       "      <th>max</th>\n",
       "      <td>30.400000</td>\n",
       "      <td>15555.000000</td>\n",
       "      <td>26.242172</td>\n",
       "      <td>1268.067900</td>\n",
       "      <td>2964.000000</td>\n",
       "      <td>55.011000</td>\n",
       "      <td>14.950600</td>\n",
       "      <td>53.232000</td>\n",
       "      <td>37.145084</td>\n",
       "      <td>5940.681000</td>\n",
       "      <td>...</td>\n",
       "      <td>104708.470000</td>\n",
       "      <td>100.000000</td>\n",
       "      <td>1.657920e+07</td>\n",
       "      <td>9.008404e+06</td>\n",
       "      <td>21.202560</td>\n",
       "      <td>18.126524</td>\n",
       "      <td>5.411776e+07</td>\n",
       "      <td>1.604214e+06</td>\n",
       "      <td>293.593700</td>\n",
       "      <td>541.179440</td>\n",
       "    </tr>\n",
       "  </tbody>\n",
       "</table>\n",
       "<p>8 rows × 24 columns</p>\n",
       "</div>"
      ],
      "text/plain": [
       "             t2m_obs        station    t2m_fc_mean           orog  \\\n",
       "count  908857.000000  980562.000000  980562.000000  980562.000000   \n",
       "mean        7.531618    3726.726257       7.305595     295.234511   \n",
       "std         6.579644    2719.500011       6.718977     234.161776   \n",
       "min       -26.200000       3.000000     -21.508630      -1.427856   \n",
       "25%         2.800000    1639.000000       2.331773      67.390170   \n",
       "50%         7.800000    3348.000000       7.676022     296.438720   \n",
       "75%        12.500000    5277.000000      12.487657     436.711360   \n",
       "max        30.400000   15555.000000      26.242172    1268.067900   \n",
       "\n",
       "         station_alt    station_lat    station_lon  u_pl500_fc_mean  \\\n",
       "count  980562.000000  980562.000000  980562.000000    980562.000000   \n",
       "mean      289.700186      50.812609      10.184040         8.823780   \n",
       "std       278.959584       1.915865       2.084653        10.804031   \n",
       "min         0.000000      47.398600       6.024400       -34.023964   \n",
       "25%        72.000000      49.244500       8.576100         1.466554   \n",
       "50%       238.000000      50.736400      10.048000         8.571194   \n",
       "75%       440.000000      52.178900      11.813300        15.717412   \n",
       "max      2964.000000      55.011000      14.950600        53.232000   \n",
       "\n",
       "       v_pl500_fc_mean  gh_pl500_fc_mean      ...           sp_fc_mean  \\\n",
       "count    980562.000000     980562.000000      ...        980562.000000   \n",
       "mean         -0.302459       5607.319530      ...         98167.966711   \n",
       "std          10.906147        148.716669      ...          2799.084576   \n",
       "min         -51.873432       4976.940000      ...         84283.160000   \n",
       "25%          -6.884149       5507.763700      ...         96367.070000   \n",
       "50%           0.297703       5629.717300      ...         98335.900000   \n",
       "75%           7.203771       5719.493700      ...        100424.337500   \n",
       "max          37.145084       5940.681000      ...        104708.470000   \n",
       "\n",
       "         tcc_fc_mean  sshf_fc_mean  slhf_fc_mean    u10_fc_mean  \\\n",
       "count  980562.000000  9.805620e+05  9.805620e+05  980562.000000   \n",
       "mean       61.148280 -1.767204e+06 -8.152601e+06       0.792879   \n",
       "std        31.656075  4.201333e+06  5.924629e+06       2.601944   \n",
       "min         0.000000 -3.243611e+07 -5.462550e+07     -14.955598   \n",
       "25%        34.416545 -4.712416e+06 -1.300108e+07      -1.076624   \n",
       "50%        67.456060 -1.958288e+06 -7.106672e+06       0.762717   \n",
       "75%        90.847860  8.736628e+05 -2.717170e+06       2.310319   \n",
       "max       100.000000  1.657920e+07  9.008404e+06      21.202560   \n",
       "\n",
       "         v10_fc_mean   ssr_fc_mean   str_fc_mean    d2m_fc_mean     sm_fc_mean  \n",
       "count  980562.000000  9.805620e+05  9.805620e+05  980562.000000  886600.000000  \n",
       "mean        0.643888  1.928963e+07 -9.371092e+06     277.832031     343.767861  \n",
       "std         1.994099  1.228819e+07  3.442328e+06       6.616596      61.335377  \n",
       "min       -15.886876  3.300497e+05 -2.136808e+07     247.132420      64.123955  \n",
       "25%        -0.712025  7.668573e+06 -1.182197e+07     273.451382     308.552310  \n",
       "50%         0.707770  1.845740e+07 -9.528052e+06     278.301150     358.254030  \n",
       "75%         1.861252  2.953434e+07 -7.014966e+06     282.778200     385.054400  \n",
       "max        18.126524  5.411776e+07  1.604214e+06     293.593700     541.179440  \n",
       "\n",
       "[8 rows x 24 columns]"
      ]
     },
     "execution_count": 17,
     "metadata": {},
     "output_type": "execute_result"
    }
   ],
   "source": [
    "df_train.describe()"
   ]
  },
  {
   "cell_type": "code",
   "execution_count": 18,
   "metadata": {},
   "outputs": [
    {
     "data": {
      "text/plain": [
       "t2m_obs             float64\n",
       "time                 object\n",
       "station               int64\n",
       "t2m_fc_mean         float64\n",
       "orog                float64\n",
       "station_alt         float64\n",
       "station_lat         float64\n",
       "station_lon         float64\n",
       "u_pl500_fc_mean     float64\n",
       "v_pl500_fc_mean     float64\n",
       "gh_pl500_fc_mean    float64\n",
       "u_pl850_fc_mean     float64\n",
       "v_pl850_fc_mean     float64\n",
       "q_pl850_fc_mean     float64\n",
       "cape_fc_mean        float64\n",
       "sp_fc_mean          float64\n",
       "tcc_fc_mean         float64\n",
       "sshf_fc_mean        float64\n",
       "slhf_fc_mean        float64\n",
       "u10_fc_mean         float64\n",
       "v10_fc_mean         float64\n",
       "ssr_fc_mean         float64\n",
       "str_fc_mean         float64\n",
       "d2m_fc_mean         float64\n",
       "sm_fc_mean          float64\n",
       "dtype: object"
      ]
     },
     "execution_count": 18,
     "metadata": {},
     "output_type": "execute_result"
    }
   ],
   "source": [
    "# Display the data type of each column\n",
    "df_train.dtypes"
   ]
  },
  {
   "cell_type": "markdown",
   "metadata": {},
   "source": [
    "Each column is a Pandas Series."
   ]
  },
  {
   "cell_type": "code",
   "execution_count": 21,
   "metadata": {},
   "outputs": [
    {
     "data": {
      "text/plain": [
       "0    1.2\n",
       "1    1.6\n",
       "2   -6.3\n",
       "3   -3.0\n",
       "4    0.5\n",
       "Name: t2m_obs, dtype: float64"
      ]
     },
     "execution_count": 21,
     "metadata": {},
     "output_type": "execute_result"
    }
   ],
   "source": [
    "df_train['t2m_obs'].head()  # same as df_train.t2m_obs except for assignement"
   ]
  },
  {
   "cell_type": "code",
   "execution_count": 22,
   "metadata": {},
   "outputs": [
    {
     "data": {
      "text/plain": [
       "537"
      ]
     },
     "execution_count": 22,
     "metadata": {},
     "output_type": "execute_result"
    }
   ],
   "source": [
    "# Home many unique stations\n",
    "df_train['station'].nunique()"
   ]
  },
  {
   "cell_type": "markdown",
   "metadata": {},
   "source": [
    "We can also do computations column-wise, such as min, max, mean, etc."
   ]
  },
  {
   "cell_type": "code",
   "execution_count": 23,
   "metadata": {},
   "outputs": [
    {
     "data": {
      "text/plain": [
       "('2011-01-01', '2015-12-31')"
      ]
     },
     "execution_count": 23,
     "metadata": {},
     "output_type": "execute_result"
    }
   ],
   "source": [
    "df_train.time.min(), df_train.time.max()"
   ]
  },
  {
   "cell_type": "code",
   "execution_count": 24,
   "metadata": {},
   "outputs": [
    {
     "data": {
      "text/plain": [
       "(7.531618395413346, 7.305594593821011)"
      ]
     },
     "execution_count": 24,
     "metadata": {},
     "output_type": "execute_result"
    }
   ],
   "source": [
    "df_train.t2m_obs.mean(),df_train.t2m_fc_mean.mean()"
   ]
  },
  {
   "cell_type": "markdown",
   "metadata": {},
   "source": [
    "Pandas Series objects have some build in plotting functionality with is based on Matplotlib."
   ]
  },
  {
   "cell_type": "code",
   "execution_count": 25,
   "metadata": {},
   "outputs": [
    {
     "data": {
      "image/png": "[encoded data removed]",
      "text/plain": [
       "<Figure size 432x288 with 1 Axes>"
      ]
     },
     "metadata": {},
     "output_type": "display_data"
    }
   ],
   "source": [
    "df_train.t2m_obs.hist(range=(-30, 40), bins=100, label='obs')\n",
    "df_train.t2m_fc_mean.hist(range=(-30, 40), bins=100, alpha=0.5, label='fc')\n",
    "plt.legend();"
   ]
  },
  {
   "cell_type": "markdown",
   "metadata": {},
   "source": [
    "Another convenient way to plot tabular data is Seaborn: https://seaborn.pydata.org/"
   ]
  },
  {
   "cell_type": "code",
   "execution_count": 26,
   "metadata": {},
   "outputs": [
    {
     "data": {
      "image/png": "[encoded data removed]",
      "text/plain": [
       "<Figure size 432x288 with 1 Axes>"
      ]
     },
     "metadata": {},
     "output_type": "display_data"
    }
   ],
   "source": [
    "import seaborn as sns\n",
    "# Only take every 1000th value\n",
    "sns.regplot(data=df_train.iloc[::1000], x='t2m_obs', y='t2m_fc_mean');"
   ]
  },
  {
   "cell_type": "markdown",
   "metadata": {},
   "source": [
    "### Clean the dataset\n",
    "\n",
    "Next we need to check whether there are missing values and what to do with them"
   ]
  },
  {
   "cell_type": "code",
   "execution_count": 27,
   "metadata": {},
   "outputs": [
    {
     "data": {
      "text/plain": [
       "t2m_obs             0.073126\n",
       "time                0.000000\n",
       "station             0.000000\n",
       "t2m_fc_mean         0.000000\n",
       "orog                0.000000\n",
       "station_alt         0.000000\n",
       "station_lat         0.000000\n",
       "station_lon         0.000000\n",
       "u_pl500_fc_mean     0.000000\n",
       "v_pl500_fc_mean     0.000000\n",
       "gh_pl500_fc_mean    0.000000\n",
       "u_pl850_fc_mean     0.000000\n",
       "v_pl850_fc_mean     0.000000\n",
       "q_pl850_fc_mean     0.000000\n",
       "cape_fc_mean        0.000000\n",
       "sp_fc_mean          0.000000\n",
       "tcc_fc_mean         0.000000\n",
       "sshf_fc_mean        0.000000\n",
       "slhf_fc_mean        0.000000\n",
       "u10_fc_mean         0.000000\n",
       "v10_fc_mean         0.000000\n",
       "ssr_fc_mean         0.000000\n",
       "str_fc_mean         0.000000\n",
       "d2m_fc_mean         0.000000\n",
       "sm_fc_mean          0.095825\n",
       "dtype: float64"
      ]
     },
     "execution_count": 27,
     "metadata": {},
     "output_type": "execute_result"
    }
   ],
   "source": [
    "# What is the fraction of missing values for each column\n",
    "df_train.apply(pd.Series.isna).mean()"
   ]
  },
  {
   "cell_type": "markdown",
   "metadata": {},
   "source": [
    "There are two columns with missing values: `t2m_obs` and `sm_fc_mean`. The first one is the variable we want to predict. If we don't have the answer, we cannot use it for training our algorithms. For this reason we will throw these rows away. The second is just a predictor variable. Here we don't want to throw the entire row away. One way to deal with these missing values is to set the value to the mean over all samples."
   ]
  },
  {
   "cell_type": "code",
   "execution_count": 28,
   "metadata": {
    "collapsed": true
   },
   "outputs": [],
   "source": [
    "# Drop rows where observations are missing\n",
    "df_train.dropna(subset=['t2m_obs'], inplace=True)"
   ]
  },
  {
   "cell_type": "code",
   "execution_count": 29,
   "metadata": {
    "collapsed": true
   },
   "outputs": [],
   "source": [
    "# Replace missing sm_fc_mean values with the column mean\n",
    "df_train['sm_fc_mean'].replace(np.nan, df_train.sm_fc_mean.mean(), inplace=True)"
   ]
  },
  {
   "cell_type": "markdown",
   "metadata": {},
   "source": [
    "### Split data into features (inputs) and targets (outputs)\n",
    "\n",
    "To train our algorithm we need to split the variables we want to give the algorithm to make a prediction and the variable it should predict, in our case `t2m_obs`. Furthermore we will throw away the variables which we are not using at this time: `time` and `station`. These variables might be useful, but are not simple continuous variables and require some more thought."
   ]
  },
  {
   "cell_type": "code",
   "execution_count": 30,
   "metadata": {
    "collapsed": true
   },
   "outputs": [],
   "source": [
    "# Split features and targets\n",
    "# At the moment we only want continuous variables in the data set\n",
    "# so we will throw away the station ID, along with the time\n",
    "X_train = df_train.drop(['t2m_obs', 'time', 'station'], axis=1)\n",
    "y_train = df_train['t2m_obs']"
   ]
  },
  {
   "cell_type": "markdown",
   "metadata": {},
   "source": [
    "### Normalize input data\n",
    "\n",
    "Many machine learning algorithms require all the features to have the same order of magnitude for reasons we will see later. The simplest way to achieve this is to subtract the mean and divide by the standard deviation."
   ]
  },
  {
   "cell_type": "code",
   "execution_count": 31,
   "metadata": {
    "collapsed": true
   },
   "outputs": [],
   "source": [
    "X_train = (X_train - X_train.mean()) / X_train.std()"
   ]
  },
  {
   "cell_type": "code",
   "execution_count": 32,
   "metadata": {},
   "outputs": [
    {
     "data": {
      "text/html": [
       "<div>\n",
       "<style scoped>\n",
       "    .dataframe tbody tr th:only-of-type {\n",
       "        vertical-align: middle;\n",
       "    }\n",
       "\n",
       "    .dataframe tbody tr th {\n",
       "        vertical-align: top;\n",
       "    }\n",
       "\n",
       "    .dataframe thead th {\n",
       "        text-align: right;\n",
       "    }\n",
       "</style>\n",
       "<table border=\"1\" class=\"dataframe\">\n",
       "  <thead>\n",
       "    <tr style=\"text-align: right;\">\n",
       "      <th></th>\n",
       "      <th>t2m_fc_mean</th>\n",
       "      <th>orog</th>\n",
       "      <th>station_alt</th>\n",
       "      <th>station_lat</th>\n",
       "      <th>station_lon</th>\n",
       "      <th>u_pl500_fc_mean</th>\n",
       "      <th>v_pl500_fc_mean</th>\n",
       "      <th>gh_pl500_fc_mean</th>\n",
       "      <th>u_pl850_fc_mean</th>\n",
       "      <th>v_pl850_fc_mean</th>\n",
       "      <th>...</th>\n",
       "      <th>sp_fc_mean</th>\n",
       "      <th>tcc_fc_mean</th>\n",
       "      <th>sshf_fc_mean</th>\n",
       "      <th>slhf_fc_mean</th>\n",
       "      <th>u10_fc_mean</th>\n",
       "      <th>v10_fc_mean</th>\n",
       "      <th>ssr_fc_mean</th>\n",
       "      <th>str_fc_mean</th>\n",
       "      <th>d2m_fc_mean</th>\n",
       "      <th>sm_fc_mean</th>\n",
       "    </tr>\n",
       "  </thead>\n",
       "  <tbody>\n",
       "    <tr>\n",
       "      <th>0</th>\n",
       "      <td>-1.085537</td>\n",
       "      <td>-0.806304</td>\n",
       "      <td>-0.319616</td>\n",
       "      <td>-0.014388</td>\n",
       "      <td>-1.988359</td>\n",
       "      <td>-0.375583</td>\n",
       "      <td>-0.420998</td>\n",
       "      <td>0.082273</td>\n",
       "      <td>0.032273</td>\n",
       "      <td>-0.589303</td>\n",
       "      <td>...</td>\n",
       "      <td>1.153825</td>\n",
       "      <td>1.165866</td>\n",
       "      <td>0.571970</td>\n",
       "      <td>1.383392</td>\n",
       "      <td>0.551740</td>\n",
       "      <td>0.058768</td>\n",
       "      <td>-1.371728</td>\n",
       "      <td>1.699146</td>\n",
       "      <td>-0.637595</td>\n",
       "      <td>0.524749</td>\n",
       "    </tr>\n",
       "    <tr>\n",
       "      <th>1</th>\n",
       "      <td>-0.772045</td>\n",
       "      <td>-1.182264</td>\n",
       "      <td>-0.890327</td>\n",
       "      <td>1.113170</td>\n",
       "      <td>-0.962599</td>\n",
       "      <td>0.520713</td>\n",
       "      <td>-0.916043</td>\n",
       "      <td>-0.189695</td>\n",
       "      <td>1.584633</td>\n",
       "      <td>-1.304124</td>\n",
       "      <td>...</td>\n",
       "      <td>1.271600</td>\n",
       "      <td>1.187512</td>\n",
       "      <td>0.800075</td>\n",
       "      <td>1.439388</td>\n",
       "      <td>2.107265</td>\n",
       "      <td>0.081871</td>\n",
       "      <td>-1.372214</td>\n",
       "      <td>2.224538</td>\n",
       "      <td>-0.412719</td>\n",
       "      <td>0.764039</td>\n",
       "    </tr>\n",
       "    <tr>\n",
       "      <th>2</th>\n",
       "      <td>-2.064770</td>\n",
       "      <td>1.317913</td>\n",
       "      <td>1.692322</td>\n",
       "      <td>-1.360192</td>\n",
       "      <td>-0.607706</td>\n",
       "      <td>-0.792744</td>\n",
       "      <td>-0.547005</td>\n",
       "      <td>0.051487</td>\n",
       "      <td>-0.523761</td>\n",
       "      <td>-0.172229</td>\n",
       "      <td>...</td>\n",
       "      <td>-1.328921</td>\n",
       "      <td>0.962162</td>\n",
       "      <td>0.083173</td>\n",
       "      <td>1.336190</td>\n",
       "      <td>-0.456843</td>\n",
       "      <td>-0.807191</td>\n",
       "      <td>-1.217983</td>\n",
       "      <td>1.431614</td>\n",
       "      <td>-1.860869</td>\n",
       "      <td>1.593406</td>\n",
       "    </tr>\n",
       "    <tr>\n",
       "      <th>3</th>\n",
       "      <td>-1.836220</td>\n",
       "      <td>0.705375</td>\n",
       "      <td>0.178854</td>\n",
       "      <td>-1.150334</td>\n",
       "      <td>1.341568</td>\n",
       "      <td>-0.585835</td>\n",
       "      <td>-0.892244</td>\n",
       "      <td>-0.128645</td>\n",
       "      <td>0.182835</td>\n",
       "      <td>-0.380077</td>\n",
       "      <td>...</td>\n",
       "      <td>-0.279698</td>\n",
       "      <td>0.947549</td>\n",
       "      <td>0.432299</td>\n",
       "      <td>1.280152</td>\n",
       "      <td>0.441155</td>\n",
       "      <td>-0.154016</td>\n",
       "      <td>-1.108971</td>\n",
       "      <td>0.776981</td>\n",
       "      <td>-1.555712</td>\n",
       "      <td>0.385818</td>\n",
       "    </tr>\n",
       "    <tr>\n",
       "      <th>4</th>\n",
       "      <td>-0.823013</td>\n",
       "      <td>-1.061694</td>\n",
       "      <td>-0.814473</td>\n",
       "      <td>0.878201</td>\n",
       "      <td>-1.117882</td>\n",
       "      <td>0.257640</td>\n",
       "      <td>-0.803640</td>\n",
       "      <td>-0.128599</td>\n",
       "      <td>1.245830</td>\n",
       "      <td>-1.128760</td>\n",
       "      <td>...</td>\n",
       "      <td>1.168232</td>\n",
       "      <td>1.201311</td>\n",
       "      <td>0.762755</td>\n",
       "      <td>1.480936</td>\n",
       "      <td>1.428789</td>\n",
       "      <td>0.017412</td>\n",
       "      <td>-1.373112</td>\n",
       "      <td>2.175315</td>\n",
       "      <td>-0.488854</td>\n",
       "      <td>-1.374796</td>\n",
       "    </tr>\n",
       "  </tbody>\n",
       "</table>\n",
       "<p>5 rows × 22 columns</p>\n",
       "</div>"
      ],
      "text/plain": [
       "   t2m_fc_mean      orog  station_alt  station_lat  station_lon  \\\n",
       "0    -1.085537 -0.806304    -0.319616    -0.014388    -1.988359   \n",
       "1    -0.772045 -1.182264    -0.890327     1.113170    -0.962599   \n",
       "2    -2.064770  1.317913     1.692322    -1.360192    -0.607706   \n",
       "3    -1.836220  0.705375     0.178854    -1.150334     1.341568   \n",
       "4    -0.823013 -1.061694    -0.814473     0.878201    -1.117882   \n",
       "\n",
       "   u_pl500_fc_mean  v_pl500_fc_mean  gh_pl500_fc_mean  u_pl850_fc_mean  \\\n",
       "0        -0.375583        -0.420998          0.082273         0.032273   \n",
       "1         0.520713        -0.916043         -0.189695         1.584633   \n",
       "2        -0.792744        -0.547005          0.051487        -0.523761   \n",
       "3        -0.585835        -0.892244         -0.128645         0.182835   \n",
       "4         0.257640        -0.803640         -0.128599         1.245830   \n",
       "\n",
       "   v_pl850_fc_mean     ...      sp_fc_mean  tcc_fc_mean  sshf_fc_mean  \\\n",
       "0        -0.589303     ...        1.153825     1.165866      0.571970   \n",
       "1        -1.304124     ...        1.271600     1.187512      0.800075   \n",
       "2        -0.172229     ...       -1.328921     0.962162      0.083173   \n",
       "3        -0.380077     ...       -0.279698     0.947549      0.432299   \n",
       "4        -1.128760     ...        1.168232     1.201311      0.762755   \n",
       "\n",
       "   slhf_fc_mean  u10_fc_mean  v10_fc_mean  ssr_fc_mean  str_fc_mean  \\\n",
       "0      1.383392     0.551740     0.058768    -1.371728     1.699146   \n",
       "1      1.439388     2.107265     0.081871    -1.372214     2.224538   \n",
       "2      1.336190    -0.456843    -0.807191    -1.217983     1.431614   \n",
       "3      1.280152     0.441155    -0.154016    -1.108971     0.776981   \n",
       "4      1.480936     1.428789     0.017412    -1.373112     2.175315   \n",
       "\n",
       "   d2m_fc_mean  sm_fc_mean  \n",
       "0    -0.637595    0.524749  \n",
       "1    -0.412719    0.764039  \n",
       "2    -1.860869    1.593406  \n",
       "3    -1.555712    0.385818  \n",
       "4    -0.488854   -1.374796  \n",
       "\n",
       "[5 rows x 22 columns]"
      ]
     },
     "execution_count": 32,
     "metadata": {},
     "output_type": "execute_result"
    }
   ],
   "source": [
    "X_train.head()"
   ]
  },
  {
   "cell_type": "markdown",
   "metadata": {},
   "source": [
    "### Preprocessing in one function"
   ]
  },
  {
   "cell_type": "code",
   "execution_count": 33,
   "metadata": {
    "collapsed": true
   },
   "outputs": [],
   "source": [
    "def preproc(df_in, means=None, stds=None, drop_vars=['time', 'station']):\n",
    "    df = df_in.copy()\n",
    "    if 't2m_obs' in df.columns: df.dropna(subset=['t2m_obs'], inplace=True)\n",
    "    df['sm_fc_mean'].replace(np.nan, df['sm_fc_mean'].mean(), inplace=True)\n",
    "    \n",
    "    y = df.pop('t2m_obs') if 't2m_obs' in df.columns else None\n",
    "    X = df.drop(drop_vars, 1)\n",
    "    \n",
    "    if means is None: means = X.mean()\n",
    "    if stds  is None: stds  = X.std()\n",
    "    \n",
    "    X = (X - means) / stds\n",
    "    return X, y, means, stds"
   ]
  },
  {
   "cell_type": "code",
   "execution_count": 34,
   "metadata": {
    "collapsed": true
   },
   "outputs": [],
   "source": [
    "X_train, y_train, means, stds = preproc(df_train)"
   ]
  },
  {
   "cell_type": "markdown",
   "metadata": {},
   "source": [
    "### Training, test and validation sets\n",
    "The first thing you will notice is that the test set does not have the `t2m_obs` column. So what are these different datasets?\n",
    "\n",
    "- Training set: Data used to optimize the machine learning algorithm\n",
    "- Validation set: Data used to independently verify the skill of the algorithm\n",
    "- Test set: Another independent set used for final verification. In this case the solutions are hidden (I have them, hehe)"
   ]
  },
  {
   "cell_type": "code",
   "execution_count": 35,
   "metadata": {},
   "outputs": [
    {
     "name": "stdout",
     "output_type": "stream",
     "text": [
      "CPU times: user 692 ms, sys: 20 ms, total: 712 ms\n",
      "Wall time: 714 ms\n"
     ]
    }
   ],
   "source": [
    "# Read test dataset\n",
    "%time df_test = pd.read_csv(f'{DATADIR}pp_test.csv', index_col=0)"
   ]
  },
  {
   "cell_type": "code",
   "execution_count": 36,
   "metadata": {},
   "outputs": [
    {
     "data": {
      "text/plain": [
       "(908857, 182218)"
      ]
     },
     "execution_count": 36,
     "metadata": {},
     "output_type": "execute_result"
    }
   ],
   "source": [
    "len(df_train), len(df_test)"
   ]
  },
  {
   "cell_type": "code",
   "execution_count": 37,
   "metadata": {},
   "outputs": [
    {
     "data": {
      "text/plain": [
       "('2011-01-01', '2015-12-31')"
      ]
     },
     "execution_count": 37,
     "metadata": {},
     "output_type": "execute_result"
    }
   ],
   "source": [
    "df_train.time.min(), df_train.time.max()"
   ]
  },
  {
   "cell_type": "code",
   "execution_count": 38,
   "metadata": {},
   "outputs": [
    {
     "data": {
      "text/plain": [
       "('2016-01-01', '2016-12-31')"
      ]
     },
     "execution_count": 38,
     "metadata": {},
     "output_type": "execute_result"
    }
   ],
   "source": [
    "df_test.time.min(), df_test.time.max()"
   ]
  },
  {
   "cell_type": "markdown",
   "metadata": {},
   "source": [
    "There is no target information in the test dataset. Only I have it, haha! \n",
    "\n",
    "Which means we cannot use this dataset for checking the skill of our algorithm."
   ]
  },
  {
   "cell_type": "code",
   "execution_count": 39,
   "metadata": {},
   "outputs": [
    {
     "data": {
      "text/plain": [
       "(Index(['t2m_obs', 'time', 'station', 't2m_fc_mean', 'orog', 'station_alt',\n",
       "        'station_lat', 'station_lon', 'u_pl500_fc_mean', 'v_pl500_fc_mean',\n",
       "        'gh_pl500_fc_mean', 'u_pl850_fc_mean', 'v_pl850_fc_mean',\n",
       "        'q_pl850_fc_mean', 'cape_fc_mean', 'sp_fc_mean', 'tcc_fc_mean',\n",
       "        'sshf_fc_mean', 'slhf_fc_mean', 'u10_fc_mean', 'v10_fc_mean',\n",
       "        'ssr_fc_mean', 'str_fc_mean', 'd2m_fc_mean', 'sm_fc_mean'],\n",
       "       dtype='object'),\n",
       " Index(['time', 'station', 't2m_fc_mean', 'orog', 'station_alt', 'station_lat',\n",
       "        'station_lon', 'u_pl500_fc_mean', 'v_pl500_fc_mean', 'gh_pl500_fc_mean',\n",
       "        'u_pl850_fc_mean', 'v_pl850_fc_mean', 'q_pl850_fc_mean', 'cape_fc_mean',\n",
       "        'sp_fc_mean', 'tcc_fc_mean', 'sshf_fc_mean', 'slhf_fc_mean',\n",
       "        'u10_fc_mean', 'v10_fc_mean', 'ssr_fc_mean', 'str_fc_mean',\n",
       "        'd2m_fc_mean', 'sm_fc_mean'],\n",
       "       dtype='object'))"
      ]
     },
     "execution_count": 39,
     "metadata": {},
     "output_type": "execute_result"
    }
   ],
   "source": [
    "df_train.columns, df_test.columns"
   ]
  },
  {
   "cell_type": "markdown",
   "metadata": {},
   "source": [
    "To get a validation skill that fairly represents operational conditions, we will also split by time."
   ]
  },
  {
   "cell_type": "code",
   "execution_count": 40,
   "metadata": {
    "collapsed": true
   },
   "outputs": [],
   "source": [
    "split_date = '2015-01-01'"
   ]
  },
  {
   "cell_type": "markdown",
   "metadata": {},
   "source": [
    "It's important to use the same means and stds to normalize each dataset."
   ]
  },
  {
   "cell_type": "code",
   "execution_count": 41,
   "metadata": {
    "collapsed": true
   },
   "outputs": [],
   "source": [
    "X_train, y_train, means, stds = preproc(df_train[df_train.time < split_date])"
   ]
  },
  {
   "cell_type": "code",
   "execution_count": 42,
   "metadata": {
    "collapsed": true
   },
   "outputs": [],
   "source": [
    "X_valid, y_valid, _, _ = preproc(df_train[df_train.time >= split_date], means, stds)"
   ]
  },
  {
   "cell_type": "code",
   "execution_count": 43,
   "metadata": {
    "collapsed": true
   },
   "outputs": [],
   "source": [
    "X_test, _, _, _ = preproc(df_test, means, stds)"
   ]
  },
  {
   "cell_type": "code",
   "execution_count": 44,
   "metadata": {},
   "outputs": [
    {
     "data": {
      "text/plain": [
       "((728008, 22), (180849, 22), (182218, 22))"
      ]
     },
     "execution_count": 44,
     "metadata": {},
     "output_type": "execute_result"
    }
   ],
   "source": [
    "X_train.shape, X_valid.shape, X_test.shape"
   ]
  },
  {
   "cell_type": "markdown",
   "metadata": {},
   "source": [
    "### Save preprocessed datasets\n",
    "\n",
    "Let's save these datasets so we can load them in a different notebook. The easiest way to save Python objects is Pickle."
   ]
  },
  {
   "cell_type": "code",
   "execution_count": 45,
   "metadata": {
    "collapsed": true
   },
   "outputs": [],
   "source": [
    "import pickle"
   ]
  },
  {
   "cell_type": "code",
   "execution_count": 46,
   "metadata": {
    "collapsed": true
   },
   "outputs": [],
   "source": [
    "os.makedirs('./tmp/', exist_ok=True)"
   ]
  },
  {
   "cell_type": "code",
   "execution_count": 47,
   "metadata": {
    "collapsed": true
   },
   "outputs": [],
   "source": [
    "with open('./tmp/preproc_data.pkl', 'wb') as f:\n",
    "    pickle.dump((X_train, y_train, X_valid, y_valid, X_test), f)"
   ]
  },
  {
   "cell_type": "code",
   "execution_count": 48,
   "metadata": {
    "collapsed": true
   },
   "outputs": [],
   "source": [
    "# To load\n",
    "with open('./tmp/preproc_data.pkl', 'rb') as f:\n",
    "    X_train, y_train, X_valid, y_valid, X_test = pickle.load(f)"
   ]
  },
  {
   "cell_type": "code",
   "execution_count": 49,
   "metadata": {
    "collapsed": true
   },
   "outputs": [],
   "source": [
    "# Also save the processed datasets\n",
    "with open('./tmp/dfs.pkl', 'wb') as f:\n",
    "    pickle.dump((df_train, df_test), f)"
   ]
  },
  {
   "cell_type": "markdown",
   "metadata": {},
   "source": [
    "## Our first Kaggle submission\n",
    "\n",
    "Let's just always predict the mean."
   ]
  },
  {
   "cell_type": "code",
   "execution_count": 50,
   "metadata": {
    "collapsed": true
   },
   "outputs": [],
   "source": [
    "def create_sub(preds, fn=None):\n",
    "    df =  pd.DataFrame({'Id': range(len(preds)), 'Expected': preds})\n",
    "    if fn is not None: df.to_csv(DATADIR + fn, index=False)\n",
    "    return df"
   ]
  },
  {
   "cell_type": "code",
   "execution_count": 51,
   "metadata": {
    "collapsed": true
   },
   "outputs": [],
   "source": [
    "df_sub = create_sub([df_train.t2m_fc_mean.mean()]*len(df_test), 'mean.csv')"
   ]
  },
  {
   "cell_type": "code",
   "execution_count": 52,
   "metadata": {},
   "outputs": [
    {
     "data": {
      "text/html": [
       "<div>\n",
       "<style scoped>\n",
       "    .dataframe tbody tr th:only-of-type {\n",
       "        vertical-align: middle;\n",
       "    }\n",
       "\n",
       "    .dataframe tbody tr th {\n",
       "        vertical-align: top;\n",
       "    }\n",
       "\n",
       "    .dataframe thead th {\n",
       "        text-align: right;\n",
       "    }\n",
       "</style>\n",
       "<table border=\"1\" class=\"dataframe\">\n",
       "  <thead>\n",
       "    <tr style=\"text-align: right;\">\n",
       "      <th></th>\n",
       "      <th>Id</th>\n",
       "      <th>Expected</th>\n",
       "    </tr>\n",
       "  </thead>\n",
       "  <tbody>\n",
       "    <tr>\n",
       "      <th>0</th>\n",
       "      <td>0</td>\n",
       "      <td>7.279572</td>\n",
       "    </tr>\n",
       "    <tr>\n",
       "      <th>1</th>\n",
       "      <td>1</td>\n",
       "      <td>7.279572</td>\n",
       "    </tr>\n",
       "    <tr>\n",
       "      <th>2</th>\n",
       "      <td>2</td>\n",
       "      <td>7.279572</td>\n",
       "    </tr>\n",
       "    <tr>\n",
       "      <th>3</th>\n",
       "      <td>3</td>\n",
       "      <td>7.279572</td>\n",
       "    </tr>\n",
       "    <tr>\n",
       "      <th>4</th>\n",
       "      <td>4</td>\n",
       "      <td>7.279572</td>\n",
       "    </tr>\n",
       "  </tbody>\n",
       "</table>\n",
       "</div>"
      ],
      "text/plain": [
       "   Id  Expected\n",
       "0   0  7.279572\n",
       "1   1  7.279572\n",
       "2   2  7.279572\n",
       "3   3  7.279572\n",
       "4   4  7.279572"
      ]
     },
     "execution_count": 52,
     "metadata": {},
     "output_type": "execute_result"
    }
   ],
   "source": [
    "df_sub.head()"
   ]
  },
  {
   "cell_type": "code",
   "execution_count": 53,
   "metadata": {},
   "outputs": [
    {
     "name": "stdout",
     "output_type": "stream",
     "text": [
      "Id,Expected\n",
      "\n",
      "0,7.279571712763294\n",
      "\n",
      "1,7.279571712763294\n",
      "\n",
      "2,7.279571712763294\n",
      "\n",
      "3,7.279571712763294\n",
      "\n"
     ]
    }
   ],
   "source": [
    "print_head(f'{DATADIR}mean.csv')"
   ]
  },
  {
   "cell_type": "markdown",
   "metadata": {},
   "source": [
    "## Your turn\n",
    "\n",
    "Now it's your turn. If you are not very familiar with what I have just presented, just open up a new notebook and try to replicate all the steps with as little \"cheating\" as possible. If you are a pro and this was easy, here are some challenges for you!\n",
    "\n",
    "1. We will use the mean squared error (MSE) as a metric for our forecast skill. What is the MSE of the raw forecast?\n",
    "2. How much can you improve the MSE by simply correcting the bias? Submit your bias-corrected values to kaggle.\n",
    "3. Does the bias depend on the time of year?\n",
    "4. Is there a geographical pattern?"
   ]
  },
  {
   "cell_type": "markdown",
   "metadata": {},
   "source": [
    "## Bonus: Plot station locations on map with cartopy\n",
    "\n",
    "cartopy is the new basemap. It is similarly awkward to use but at least there is active development and a decent documentation. If you are interested, here is how to plot the station locations on a map of Germany."
   ]
  },
  {
   "cell_type": "code",
   "execution_count": 66,
   "metadata": {
    "collapsed": true
   },
   "outputs": [],
   "source": [
    "# Get unique stations lats and lons\n",
    "stats = list(np.unique(df_train.station))\n",
    "lats = [df_train.station_lat[df_train.station == s].iloc[0] for s in stats]\n",
    "lons = [df_train.station_lon[df_train.station == s].iloc[0] for s in stats]\n",
    "alts = [df_train.station_alt[df_train.station == s].iloc[0] for s in stats]"
   ]
  },
  {
   "cell_type": "code",
   "execution_count": 67,
   "metadata": {
    "collapsed": true
   },
   "outputs": [],
   "source": [
    "import cartopy.crs as ccrs\n",
    "import cartopy.feature as cfeature"
   ]
  },
  {
   "cell_type": "code",
   "execution_count": 68,
   "metadata": {},
   "outputs": [
    {
     "data": {
      "text/plain": [
       "<cartopy.mpl.feature_artist.FeatureArtist at 0x7f9624285358>"
      ]
     },
     "execution_count": 68,
     "metadata": {},
     "output_type": "execute_result"
    },
    {
     "data": {
      "image/png": "[encoded data removed]",
      "text/plain": [
       "<Figure size 432x288 with 1 Axes>"
      ]
     },
     "metadata": {},
     "output_type": "display_data"
    }
   ],
   "source": [
    "fig = plt.figure()\n",
    "ax = fig.add_subplot(1, 1, 1, projection=ccrs.PlateCarree())\n",
    "ax.scatter(lons, lats, c=alts, cmap='gist_earth')\n",
    "ax.add_feature(cfeature.LAND)\n",
    "ax.add_feature(cfeature.OCEAN)\n",
    "ax.add_feature(cfeature.COASTLINE)\n",
    "ax.add_feature(cfeature.BORDERS, linestyle='-')\n",
    "ax.add_feature(cfeature.LAKES, alpha=0.5)\n"
   ]
  },
  {
   "cell_type": "code",
   "execution_count": null,
   "metadata": {
    "collapsed": true
   },
   "outputs": [],
   "source": []
  }
 ],
 "metadata": {
  "kernelspec": {
   "display_name": "Python 3",
   "language": "python",
   "name": "python3"
  },
  "language_info": {
   "codemirror_mode": {
    "name": "ipython",
    "version": 3
   },
   "file_extension": ".py",
   "mimetype": "text/x-python",
   "name": "python",
   "nbconvert_exporter": "python",
   "pygments_lexer": "ipython3",
   "version": "3.6.3"
  },
  "toc": {
   "base_numbering": 1,
   "nav_menu": {},
   "number_sections": true,
   "sideBar": false,
   "skip_h1_title": true,
   "title_cell": "Table of Contents",
   "title_sidebar": "Contents",
   "toc_cell": false,
   "toc_position": {},
   "toc_section_display": true,
   "toc_window_display": false
  }
 },
 "nbformat": 4,
 "nbformat_minor": 2
}
