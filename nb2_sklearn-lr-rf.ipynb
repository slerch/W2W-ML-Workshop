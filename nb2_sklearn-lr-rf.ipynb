{
 "cells": [
  {
   "cell_type": "markdown",
   "metadata": {},
   "source": [
    "# Notebook 2: Linear regression and random forests with scikit-learn\n",
    "\n",
    "Now that we have prepared our data we can start building machine learning models.\n",
    "\n",
    "We will start with the simplest model: Linear regression"
   ]
  },
  {
   "cell_type": "code",
   "execution_count": 1,
   "metadata": {
    "collapsed": true
   },
   "outputs": [],
   "source": [
    "import pickle\n",
    "import matplotlib.pyplot as plt\n",
    "%matplotlib inline\n",
    "import numpy as np\n",
    "import pandas as pd\n",
    "import seaborn as sns"
   ]
  },
  {
   "cell_type": "code",
   "execution_count": 2,
   "metadata": {
    "collapsed": true
   },
   "outputs": [],
   "source": [
    "DATADIR = './dataset1/'"
   ]
  },
  {
   "cell_type": "code",
   "execution_count": 3,
   "metadata": {
    "collapsed": true
   },
   "outputs": [],
   "source": [
    "# Copy from previous notebook\n",
    "def create_sub(preds, fn=None):\n",
    "    df =  pd.DataFrame({'Id': range(len(preds)), 'Expected': preds})\n",
    "    if fn is not None: df.to_csv(DATADIR + fn, index=False)\n",
    "    return df"
   ]
  },
  {
   "cell_type": "code",
   "execution_count": 4,
   "metadata": {
    "collapsed": true
   },
   "outputs": [],
   "source": [
    "# Load the preprocessed data\n",
    "with open('./tmp/preproc_data.pkl', 'rb') as f:\n",
    "    X_train, y_train, X_valid, y_valid, X_test = pickle.load(f)\n",
    "with open('./tmp/dfs.pkl', 'rb') as f:\n",
    "    df_train, df_test = pickle.load(f)"
   ]
  },
  {
   "cell_type": "markdown",
   "metadata": {},
   "source": [
    "## Linear regression\n",
    "\n",
    "$y = \\sum_i a_i x_i + b$"
   ]
  },
  {
   "cell_type": "markdown",
   "metadata": {},
   "source": [
    "### Compute baseline mse\n",
    "\n",
    "Before we start let's check which score we have to beat."
   ]
  },
  {
   "cell_type": "code",
   "execution_count": 5,
   "metadata": {
    "collapsed": true
   },
   "outputs": [],
   "source": [
    "def mse(y_true, y_pred): return ((y_true - y_pred)**2).mean()"
   ]
  },
  {
   "cell_type": "code",
   "execution_count": 6,
   "metadata": {},
   "outputs": [
    {
     "data": {
      "text/plain": [
       "4.135858792431942"
      ]
     },
     "execution_count": 6,
     "metadata": {},
     "output_type": "execute_result"
    }
   ],
   "source": [
    "mse(y_valid, df_train.t2m_fc_mean[df_train.time >= '2015-01-01'])"
   ]
  },
  {
   "cell_type": "markdown",
   "metadata": {},
   "source": [
    "### sklearn API\n",
    "\n",
    "All sklearn models work in exactly the same way."
   ]
  },
  {
   "cell_type": "code",
   "execution_count": 7,
   "metadata": {
    "collapsed": true
   },
   "outputs": [],
   "source": [
    "from sklearn.linear_model import LinearRegression"
   ]
  },
  {
   "cell_type": "code",
   "execution_count": 8,
   "metadata": {
    "collapsed": true
   },
   "outputs": [],
   "source": [
    "# Create the model object\n",
    "lr = LinearRegression()"
   ]
  },
  {
   "cell_type": "code",
   "execution_count": 9,
   "metadata": {},
   "outputs": [
    {
     "data": {
      "text/plain": [
       "LinearRegression(copy_X=True, fit_intercept=True, n_jobs=1, normalize=False)"
      ]
     },
     "execution_count": 9,
     "metadata": {},
     "output_type": "execute_result"
    }
   ],
   "source": [
    "# Fit the model parameters with the training data\n",
    "lr.fit(X_train, y_train)"
   ]
  },
  {
   "cell_type": "markdown",
   "metadata": {},
   "source": [
    "Now the parameters $a_i$ and $b$ have been fit to our training data. \n",
    "\n",
    "We can not look at the individual parameters."
   ]
  },
  {
   "cell_type": "code",
   "execution_count": 10,
   "metadata": {},
   "outputs": [
    {
     "data": {
      "text/plain": [
       "Index(['t2m_fc_mean', 'orog', 'station_alt', 'station_lat', 'station_lon',\n",
       "       'u_pl500_fc_mean', 'v_pl500_fc_mean', 'gh_pl500_fc_mean',\n",
       "       'u_pl850_fc_mean', 'v_pl850_fc_mean', 'q_pl850_fc_mean', 'cape_fc_mean',\n",
       "       'sp_fc_mean', 'tcc_fc_mean', 'sshf_fc_mean', 'slhf_fc_mean',\n",
       "       'u10_fc_mean', 'v10_fc_mean', 'ssr_fc_mean', 'str_fc_mean',\n",
       "       'd2m_fc_mean', 'sm_fc_mean'],\n",
       "      dtype='object')"
      ]
     },
     "execution_count": 10,
     "metadata": {},
     "output_type": "execute_result"
    }
   ],
   "source": [
    "X_train.columns"
   ]
  },
  {
   "cell_type": "code",
   "execution_count": 11,
   "metadata": {},
   "outputs": [
    {
     "data": {
      "text/plain": [
       "array([ 5.20734246,  0.53522914, -0.9193415 , -0.14865423, -0.10651631,\n",
       "        0.01482758, -0.06200976,  0.22355911,  0.08053755, -0.01852129,\n",
       "        0.14741519, -0.03510716, -0.17207246,  0.17164729,  0.54843072,\n",
       "       -0.03918102, -0.06724854,  0.13348599,  0.77616008,  0.21138807,\n",
       "        0.61088598, -0.04088925])"
      ]
     },
     "execution_count": 11,
     "metadata": {},
     "output_type": "execute_result"
    }
   ],
   "source": [
    "lr.coef_"
   ]
  },
  {
   "cell_type": "code",
   "execution_count": 12,
   "metadata": {},
   "outputs": [
    {
     "data": {
      "text/plain": [
       "7.448795068185583"
      ]
     },
     "execution_count": 12,
     "metadata": {},
     "output_type": "execute_result"
    }
   ],
   "source": [
    "lr.intercept_"
   ]
  },
  {
   "cell_type": "markdown",
   "metadata": {},
   "source": [
    "Wouldn't you expect the coefficient for `t2m_fc_mean` to be around 0 and the bias to be close to one? Why is this not the case?"
   ]
  },
  {
   "cell_type": "code",
   "execution_count": 13,
   "metadata": {
    "collapsed": true
   },
   "outputs": [],
   "source": [
    "# Make predictions for validation set\n",
    "preds = lr.predict(X_valid)"
   ]
  },
  {
   "cell_type": "code",
   "execution_count": 14,
   "metadata": {},
   "outputs": [
    {
     "data": {
      "text/plain": [
       "3.2422963614329663"
      ]
     },
     "execution_count": 14,
     "metadata": {},
     "output_type": "execute_result"
    }
   ],
   "source": [
    "mse(preds, y_valid)"
   ]
  },
  {
   "cell_type": "code",
   "execution_count": 15,
   "metadata": {},
   "outputs": [
    {
     "data": {
      "text/html": [
       "<div>\n",
       "<style scoped>\n",
       "    .dataframe tbody tr th:only-of-type {\n",
       "        vertical-align: middle;\n",
       "    }\n",
       "\n",
       "    .dataframe tbody tr th {\n",
       "        vertical-align: top;\n",
       "    }\n",
       "\n",
       "    .dataframe thead th {\n",
       "        text-align: right;\n",
       "    }\n",
       "</style>\n",
       "<table border=\"1\" class=\"dataframe\">\n",
       "  <thead>\n",
       "    <tr style=\"text-align: right;\">\n",
       "      <th></th>\n",
       "      <th>Id</th>\n",
       "      <th>Expected</th>\n",
       "    </tr>\n",
       "  </thead>\n",
       "  <tbody>\n",
       "    <tr>\n",
       "      <th>0</th>\n",
       "      <td>0</td>\n",
       "      <td>4.195768</td>\n",
       "    </tr>\n",
       "    <tr>\n",
       "      <th>1</th>\n",
       "      <td>1</td>\n",
       "      <td>1.528290</td>\n",
       "    </tr>\n",
       "    <tr>\n",
       "      <th>2</th>\n",
       "      <td>2</td>\n",
       "      <td>1.475483</td>\n",
       "    </tr>\n",
       "    <tr>\n",
       "      <th>3</th>\n",
       "      <td>3</td>\n",
       "      <td>4.318616</td>\n",
       "    </tr>\n",
       "    <tr>\n",
       "      <th>4</th>\n",
       "      <td>4</td>\n",
       "      <td>2.337542</td>\n",
       "    </tr>\n",
       "  </tbody>\n",
       "</table>\n",
       "</div>"
      ],
      "text/plain": [
       "   Id  Expected\n",
       "0   0  4.195768\n",
       "1   1  1.528290\n",
       "2   2  1.475483\n",
       "3   3  4.318616\n",
       "4   4  2.337542"
      ]
     },
     "execution_count": 15,
     "metadata": {},
     "output_type": "execute_result"
    }
   ],
   "source": [
    "# Submit to Kaggle\n",
    "df_sub = create_sub(lr.predict(X_test), 'lr.csv'); df_sub.head()"
   ]
  },
  {
   "cell_type": "markdown",
   "metadata": {},
   "source": [
    "### The R$^2$ score\n",
    "\n",
    "The R$^2$ score is a common skill metric in machine learning: https://en.wikipedia.org/wiki/Coefficient_of_determination"
   ]
  },
  {
   "cell_type": "code",
   "execution_count": 16,
   "metadata": {},
   "outputs": [
    {
     "data": {
      "text/plain": [
       "0.9187372901848857"
      ]
     },
     "execution_count": 16,
     "metadata": {},
     "output_type": "execute_result"
    }
   ],
   "source": [
    "lr.score(X_valid, y_valid)"
   ]
  },
  {
   "cell_type": "code",
   "execution_count": 17,
   "metadata": {
    "collapsed": true
   },
   "outputs": [],
   "source": [
    "def print_scores(m, X_train=X_train, X_valid=X_valid):\n",
    "    print('Train R2 = ', m.score(X_train, y_train), \n",
    "          ', Valid R2 = ', m.score(X_valid, y_valid), ', Valid MSE = ', \n",
    "          mse(m.predict(X_valid), y_valid))"
   ]
  },
  {
   "cell_type": "code",
   "execution_count": 18,
   "metadata": {},
   "outputs": [
    {
     "name": "stdout",
     "output_type": "stream",
     "text": [
      "Train R2 =  0.931943086657 , Valid R2 =  0.918737290185 , Valid MSE =  3.2422963614329663\n"
     ]
    }
   ],
   "source": [
    "print_scores(lr)"
   ]
  },
  {
   "cell_type": "markdown",
   "metadata": {},
   "source": [
    "We can see that the training and validation score are roughly similar, indicating that the linear regression doesn't seem to be very prone to overfitting."
   ]
  },
  {
   "cell_type": "markdown",
   "metadata": {},
   "source": [
    "## Decicion trees\n",
    "\n",
    "Linear regression improves the score but we can do better. One very common machine learning algorithm are decision trees. They are capable of representing non-linear relationships. In scikit-learn we can use the exact same API as before."
   ]
  },
  {
   "cell_type": "code",
   "execution_count": 20,
   "metadata": {},
   "outputs": [],
   "source": [
    "from sklearn.tree import DecisionTreeRegressor\n",
    "from sklearn.tree import export_graphviz\n",
    "from IPython.display import display\n",
    "import IPython, graphviz, re"
   ]
  },
  {
   "cell_type": "markdown",
   "metadata": {},
   "source": [
    "### Visualize a tree"
   ]
  },
  {
   "cell_type": "code",
   "execution_count": 21,
   "metadata": {
    "collapsed": true
   },
   "outputs": [],
   "source": [
    "def draw_tree(t, df, size=10, ratio=0.6, precision=0):\n",
    "    \"\"\" From fast.ai machine learning course.\n",
    "    Draws a representation of a random forest in IPython.\n",
    "    Parameters:\n",
    "    -----------\n",
    "    t: The tree you wish to draw\n",
    "    df: The data used to train the tree. This is used to get the names of the features.\n",
    "    \"\"\"\n",
    "    s=export_graphviz(t, out_file=None, feature_names=df.columns, filled=True,\n",
    "                      special_characters=True, rotate=True, precision=precision)\n",
    "    IPython.display.display(graphviz.Source(re.sub('Tree {',\n",
    "       f'Tree {{ size={size}; ratio={ratio}', s)))"
   ]
  },
  {
   "cell_type": "markdown",
   "metadata": {},
   "source": [
    "Let's start with a very shallow tree which we can visualize. Again we are using the exact same sklearn API."
   ]
  },
  {
   "cell_type": "code",
   "execution_count": 22,
   "metadata": {
    "collapsed": true
   },
   "outputs": [],
   "source": [
    "dt = DecisionTreeRegressor(max_depth=3)"
   ]
  },
  {
   "cell_type": "code",
   "execution_count": 23,
   "metadata": {},
   "outputs": [
    {
     "name": "stdout",
     "output_type": "stream",
     "text": [
      "Wall time: 5.33 s\n"
     ]
    },
    {
     "data": {
      "text/plain": [
       "DecisionTreeRegressor(criterion='mse', max_depth=3, max_features=None,\n",
       "           max_leaf_nodes=None, min_impurity_decrease=0.0,\n",
       "           min_impurity_split=None, min_samples_leaf=1,\n",
       "           min_samples_split=2, min_weight_fraction_leaf=0.0,\n",
       "           presort=False, random_state=None, splitter='best')"
      ]
     },
     "execution_count": 23,
     "metadata": {},
     "output_type": "execute_result"
    }
   ],
   "source": [
    "%time dt.fit(X_train, y_train)"
   ]
  },
  {
   "cell_type": "code",
   "execution_count": 24,
   "metadata": {},
   "outputs": [
    {
     "data": {
      "image/svg+xml": [
       "<?xml version=\"1.0\" encoding=\"UTF-8\" standalone=\"no\"?>\r\n",
       "<!DOCTYPE svg PUBLIC \"-//W3C//DTD SVG 1.1//EN\"\r\n",
       " \"http://www.w3.org/Graphics/SVG/1.1/DTD/svg11.dtd\">\r\n",
       "<!-- Generated by graphviz version 2.38.0 (20140413.2041)\r\n",
       " -->\r\n",
       "<!-- Title: Tree Pages: 1 -->\r\n",
       "<svg width=\"720pt\" height=\"434pt\"\r\n",
       " viewBox=\"0.00 0.00 720.00 434.49\" xmlns=\"http://www.w3.org/2000/svg\" xmlns:xlink=\"http://www.w3.org/1999/xlink\">\r\n",
       "<g id=\"graph0\" class=\"graph\" transform=\"scale(0.778659 0.778659) rotate(0) translate(4 554)\">\r\n",
       "<title>Tree</title>\r\n",
       "<polygon fill=\"white\" stroke=\"none\" points=\"-4,4 -4,-554 920.667,-554 920.667,4 -4,4\"/>\r\n",
       "<!-- 0 -->\r\n",
       "<g id=\"node1\" class=\"node\"><title>0</title>\r\n",
       "<polygon fill=\"#e58139\" fill-opacity=\"0.588235\" stroke=\"black\" points=\"161.667,-308.5 31.6667,-308.5 31.6667,-240.5 161.667,-240.5 161.667,-308.5\"/>\r\n",
       "<text text-anchor=\"start\" x=\"39.6667\" y=\"-293.3\" font-family=\"Times New Roman,serif\" font-size=\"14.00\">t2m_fc_mean ≤ &#45;0.0</text>\r\n",
       "<text text-anchor=\"start\" x=\"65.1667\" y=\"-278.3\" font-family=\"Times New Roman,serif\" font-size=\"14.00\">mse = 44.0</text>\r\n",
       "<text text-anchor=\"start\" x=\"45.6667\" y=\"-263.3\" font-family=\"Times New Roman,serif\" font-size=\"14.00\">samples = 728008</text>\r\n",
       "<text text-anchor=\"start\" x=\"65.6667\" y=\"-248.3\" font-family=\"Times New Roman,serif\" font-size=\"14.00\">value = 7.0</text>\r\n",
       "</g>\r\n",
       "<!-- 1 -->\r\n",
       "<g id=\"node2\" class=\"node\"><title>1</title>\r\n",
       "<polygon fill=\"#e58139\" fill-opacity=\"0.356863\" stroke=\"black\" points=\"408.667,-361.5 278.667,-361.5 278.667,-293.5 408.667,-293.5 408.667,-361.5\"/>\r\n",
       "<text text-anchor=\"start\" x=\"286.667\" y=\"-346.3\" font-family=\"Times New Roman,serif\" font-size=\"14.00\">t2m_fc_mean ≤ &#45;1.0</text>\r\n",
       "<text text-anchor=\"start\" x=\"312.167\" y=\"-331.3\" font-family=\"Times New Roman,serif\" font-size=\"14.00\">mse = 19.0</text>\r\n",
       "<text text-anchor=\"start\" x=\"292.667\" y=\"-316.3\" font-family=\"Times New Roman,serif\" font-size=\"14.00\">samples = 333362</text>\r\n",
       "<text text-anchor=\"start\" x=\"312.667\" y=\"-301.3\" font-family=\"Times New Roman,serif\" font-size=\"14.00\">value = 2.0</text>\r\n",
       "</g>\r\n",
       "<!-- 0&#45;&gt;1 -->\r\n",
       "<g id=\"edge1\" class=\"edge\"><title>0&#45;&gt;1</title>\r\n",
       "<path fill=\"none\" stroke=\"black\" d=\"M161.718,-288.356C194.494,-295.446 234.563,-304.114 268.656,-311.489\"/>\r\n",
       "<polygon fill=\"black\" stroke=\"black\" points=\"268.051,-314.939 278.565,-313.633 269.531,-308.098 268.051,-314.939\"/>\r\n",
       "<text text-anchor=\"middle\" x=\"257.549\" y=\"-323.473\" font-family=\"Times New Roman,serif\" font-size=\"14.00\">True</text>\r\n",
       "</g>\r\n",
       "<!-- 8 -->\r\n",
       "<g id=\"node9\" class=\"node\"><title>8</title>\r\n",
       "<polygon fill=\"#e58139\" fill-opacity=\"0.780392\" stroke=\"black\" points=\"406.167,-255.5 281.167,-255.5 281.167,-187.5 406.167,-187.5 406.167,-255.5\"/>\r\n",
       "<text text-anchor=\"start\" x=\"289.167\" y=\"-240.3\" font-family=\"Times New Roman,serif\" font-size=\"14.00\">t2m_fc_mean ≤ 1.0</text>\r\n",
       "<text text-anchor=\"start\" x=\"312.167\" y=\"-225.3\" font-family=\"Times New Roman,serif\" font-size=\"14.00\">mse = 14.0</text>\r\n",
       "<text text-anchor=\"start\" x=\"292.667\" y=\"-210.3\" font-family=\"Times New Roman,serif\" font-size=\"14.00\">samples = 394646</text>\r\n",
       "<text text-anchor=\"start\" x=\"309.167\" y=\"-195.3\" font-family=\"Times New Roman,serif\" font-size=\"14.00\">value = 12.0</text>\r\n",
       "</g>\r\n",
       "<!-- 0&#45;&gt;8 -->\r\n",
       "<g id=\"edge8\" class=\"edge\"><title>0&#45;&gt;8</title>\r\n",
       "<path fill=\"none\" stroke=\"black\" d=\"M161.718,-260.644C195.268,-253.386 236.46,-244.475 271.062,-236.99\"/>\r\n",
       "<polygon fill=\"black\" stroke=\"black\" points=\"272.068,-240.353 281.102,-234.818 270.588,-233.512 272.068,-240.353\"/>\r\n",
       "<text text-anchor=\"middle\" x=\"260.087\" y=\"-217.578\" font-family=\"Times New Roman,serif\" font-size=\"14.00\">False</text>\r\n",
       "</g>\r\n",
       "<!-- 2 -->\r\n",
       "<g id=\"node3\" class=\"node\"><title>2</title>\r\n",
       "<polygon fill=\"#e58139\" fill-opacity=\"0.176471\" stroke=\"black\" points=\"655.667,-486.5 525.667,-486.5 525.667,-418.5 655.667,-418.5 655.667,-486.5\"/>\r\n",
       "<text text-anchor=\"start\" x=\"533.667\" y=\"-471.3\" font-family=\"Times New Roman,serif\" font-size=\"14.00\">t2m_fc_mean ≤ &#45;2.0</text>\r\n",
       "<text text-anchor=\"start\" x=\"559.167\" y=\"-456.3\" font-family=\"Times New Roman,serif\" font-size=\"14.00\">mse = 15.0</text>\r\n",
       "<text text-anchor=\"start\" x=\"539.667\" y=\"-441.3\" font-family=\"Times New Roman,serif\" font-size=\"14.00\">samples = 108193</text>\r\n",
       "<text text-anchor=\"start\" x=\"557.167\" y=\"-426.3\" font-family=\"Times New Roman,serif\" font-size=\"14.00\">value = &#45;3.0</text>\r\n",
       "</g>\r\n",
       "<!-- 1&#45;&gt;2 -->\r\n",
       "<g id=\"edge2\" class=\"edge\"><title>1&#45;&gt;2</title>\r\n",
       "<path fill=\"none\" stroke=\"black\" d=\"M408.718,-360.179C441.775,-377.045 482.251,-397.696 516.532,-415.187\"/>\r\n",
       "<polygon fill=\"black\" stroke=\"black\" points=\"515.066,-418.368 525.565,-419.795 518.248,-412.132 515.066,-418.368\"/>\r\n",
       "</g>\r\n",
       "<!-- 5 -->\r\n",
       "<g id=\"node6\" class=\"node\"><title>5</title>\r\n",
       "<polygon fill=\"#e58139\" fill-opacity=\"0.447059\" stroke=\"black\" points=\"655.667,-361.5 525.667,-361.5 525.667,-293.5 655.667,-293.5 655.667,-361.5\"/>\r\n",
       "<text text-anchor=\"start\" x=\"533.667\" y=\"-346.3\" font-family=\"Times New Roman,serif\" font-size=\"14.00\">t2m_fc_mean ≤ &#45;1.0</text>\r\n",
       "<text text-anchor=\"start\" x=\"562.667\" y=\"-331.3\" font-family=\"Times New Roman,serif\" font-size=\"14.00\">mse = 7.0</text>\r\n",
       "<text text-anchor=\"start\" x=\"539.667\" y=\"-316.3\" font-family=\"Times New Roman,serif\" font-size=\"14.00\">samples = 225169</text>\r\n",
       "<text text-anchor=\"start\" x=\"559.667\" y=\"-301.3\" font-family=\"Times New Roman,serif\" font-size=\"14.00\">value = 4.0</text>\r\n",
       "</g>\r\n",
       "<!-- 1&#45;&gt;5 -->\r\n",
       "<g id=\"edge5\" class=\"edge\"><title>1&#45;&gt;5</title>\r\n",
       "<path fill=\"none\" stroke=\"black\" d=\"M408.718,-327.5C441.353,-327.5 481.219,-327.5 515.216,-327.5\"/>\r\n",
       "<polygon fill=\"black\" stroke=\"black\" points=\"515.565,-331 525.565,-327.5 515.565,-324 515.565,-331\"/>\r\n",
       "</g>\r\n",
       "<!-- 3 -->\r\n",
       "<g id=\"node4\" class=\"node\"><title>3</title>\r\n",
       "<polygon fill=\"none\" stroke=\"black\" points=\"884.167,-550 773.167,-550 773.167,-497 884.167,-497 884.167,-550\"/>\r\n",
       "<text text-anchor=\"start\" x=\"797.167\" y=\"-534.8\" font-family=\"Times New Roman,serif\" font-size=\"14.00\">mse = 17.0</text>\r\n",
       "<text text-anchor=\"start\" x=\"781.167\" y=\"-519.8\" font-family=\"Times New Roman,serif\" font-size=\"14.00\">samples = 27937</text>\r\n",
       "<text text-anchor=\"start\" x=\"795.167\" y=\"-504.8\" font-family=\"Times New Roman,serif\" font-size=\"14.00\">value = &#45;7.0</text>\r\n",
       "</g>\r\n",
       "<!-- 2&#45;&gt;3 -->\r\n",
       "<g id=\"edge3\" class=\"edge\"><title>2&#45;&gt;3</title>\r\n",
       "<path fill=\"none\" stroke=\"black\" d=\"M655.843,-471.807C689.261,-481.861 730.008,-494.12 763.434,-504.176\"/>\r\n",
       "<polygon fill=\"black\" stroke=\"black\" points=\"762.521,-507.556 773.105,-507.085 764.537,-500.853 762.521,-507.556\"/>\r\n",
       "</g>\r\n",
       "<!-- 4 -->\r\n",
       "<g id=\"node5\" class=\"node\"><title>4</title>\r\n",
       "<polygon fill=\"#e58139\" fill-opacity=\"0.239216\" stroke=\"black\" points=\"884.167,-479 773.167,-479 773.167,-426 884.167,-426 884.167,-479\"/>\r\n",
       "<text text-anchor=\"start\" x=\"800.667\" y=\"-463.8\" font-family=\"Times New Roman,serif\" font-size=\"14.00\">mse = 5.0</text>\r\n",
       "<text text-anchor=\"start\" x=\"781.167\" y=\"-448.8\" font-family=\"Times New Roman,serif\" font-size=\"14.00\">samples = 80256</text>\r\n",
       "<text text-anchor=\"start\" x=\"795.167\" y=\"-433.8\" font-family=\"Times New Roman,serif\" font-size=\"14.00\">value = &#45;1.0</text>\r\n",
       "</g>\r\n",
       "<!-- 2&#45;&gt;4 -->\r\n",
       "<g id=\"edge4\" class=\"edge\"><title>2&#45;&gt;4</title>\r\n",
       "<path fill=\"none\" stroke=\"black\" d=\"M655.843,-452.5C689.117,-452.5 729.659,-452.5 763.004,-452.5\"/>\r\n",
       "<polygon fill=\"black\" stroke=\"black\" points=\"763.105,-456 773.105,-452.5 763.105,-449 763.105,-456\"/>\r\n",
       "</g>\r\n",
       "<!-- 6 -->\r\n",
       "<g id=\"node7\" class=\"node\"><title>6</title>\r\n",
       "<polygon fill=\"#e58139\" fill-opacity=\"0.384314\" stroke=\"black\" points=\"887.667,-408 769.667,-408 769.667,-355 887.667,-355 887.667,-408\"/>\r\n",
       "<text text-anchor=\"start\" x=\"800.667\" y=\"-392.8\" font-family=\"Times New Roman,serif\" font-size=\"14.00\">mse = 4.0</text>\r\n",
       "<text text-anchor=\"start\" x=\"777.667\" y=\"-377.8\" font-family=\"Times New Roman,serif\" font-size=\"14.00\">samples = 112684</text>\r\n",
       "<text text-anchor=\"start\" x=\"797.667\" y=\"-362.8\" font-family=\"Times New Roman,serif\" font-size=\"14.00\">value = 2.0</text>\r\n",
       "</g>\r\n",
       "<!-- 5&#45;&gt;6 -->\r\n",
       "<g id=\"edge6\" class=\"edge\"><title>5&#45;&gt;6</title>\r\n",
       "<path fill=\"none\" stroke=\"black\" d=\"M655.843,-342.184C688.004,-349.543 726.954,-358.456 759.633,-365.933\"/>\r\n",
       "<polygon fill=\"black\" stroke=\"black\" points=\"759.03,-369.385 769.559,-368.204 760.592,-362.562 759.03,-369.385\"/>\r\n",
       "</g>\r\n",
       "<!-- 7 -->\r\n",
       "<g id=\"node8\" class=\"node\"><title>7</title>\r\n",
       "<polygon fill=\"#e58139\" fill-opacity=\"0.509804\" stroke=\"black\" points=\"887.667,-337 769.667,-337 769.667,-284 887.667,-284 887.667,-337\"/>\r\n",
       "<text text-anchor=\"start\" x=\"800.667\" y=\"-321.8\" font-family=\"Times New Roman,serif\" font-size=\"14.00\">mse = 4.0</text>\r\n",
       "<text text-anchor=\"start\" x=\"777.667\" y=\"-306.8\" font-family=\"Times New Roman,serif\" font-size=\"14.00\">samples = 112485</text>\r\n",
       "<text text-anchor=\"start\" x=\"797.667\" y=\"-291.8\" font-family=\"Times New Roman,serif\" font-size=\"14.00\">value = 5.0</text>\r\n",
       "</g>\r\n",
       "<!-- 5&#45;&gt;7 -->\r\n",
       "<g id=\"edge7\" class=\"edge\"><title>5&#45;&gt;7</title>\r\n",
       "<path fill=\"none\" stroke=\"black\" d=\"M655.843,-322.877C687.865,-320.57 726.618,-317.779 759.21,-315.431\"/>\r\n",
       "<polygon fill=\"black\" stroke=\"black\" points=\"759.836,-318.895 769.559,-314.686 759.333,-311.913 759.836,-318.895\"/>\r\n",
       "</g>\r\n",
       "<!-- 9 -->\r\n",
       "<g id=\"node10\" class=\"node\"><title>9</title>\r\n",
       "<polygon fill=\"#e58139\" fill-opacity=\"0.682353\" stroke=\"black\" points=\"653.167,-255.5 528.167,-255.5 528.167,-187.5 653.167,-187.5 653.167,-255.5\"/>\r\n",
       "<text text-anchor=\"start\" x=\"536.167\" y=\"-240.3\" font-family=\"Times New Roman,serif\" font-size=\"14.00\">t2m_fc_mean ≤ 0.0</text>\r\n",
       "<text text-anchor=\"start\" x=\"562.667\" y=\"-225.3\" font-family=\"Times New Roman,serif\" font-size=\"14.00\">mse = 6.0</text>\r\n",
       "<text text-anchor=\"start\" x=\"539.667\" y=\"-210.3\" font-family=\"Times New Roman,serif\" font-size=\"14.00\">samples = 218471</text>\r\n",
       "<text text-anchor=\"start\" x=\"556.167\" y=\"-195.3\" font-family=\"Times New Roman,serif\" font-size=\"14.00\">value = 10.0</text>\r\n",
       "</g>\r\n",
       "<!-- 8&#45;&gt;9 -->\r\n",
       "<g id=\"edge9\" class=\"edge\"><title>8&#45;&gt;9</title>\r\n",
       "<path fill=\"none\" stroke=\"black\" d=\"M406.174,-221.5C440.104,-221.5 482.415,-221.5 517.854,-221.5\"/>\r\n",
       "<polygon fill=\"black\" stroke=\"black\" points=\"518.134,-225 528.134,-221.5 518.134,-218 518.134,-225\"/>\r\n",
       "</g>\r\n",
       "<!-- 12 -->\r\n",
       "<g id=\"node13\" class=\"node\"><title>12</title>\r\n",
       "<polygon fill=\"#e58139\" fill-opacity=\"0.898039\" stroke=\"black\" points=\"653.167,-131.5 528.167,-131.5 528.167,-63.5 653.167,-63.5 653.167,-131.5\"/>\r\n",
       "<text text-anchor=\"start\" x=\"536.167\" y=\"-116.3\" font-family=\"Times New Roman,serif\" font-size=\"14.00\">t2m_fc_mean ≤ 1.0</text>\r\n",
       "<text text-anchor=\"start\" x=\"562.667\" y=\"-101.3\" font-family=\"Times New Roman,serif\" font-size=\"14.00\">mse = 7.0</text>\r\n",
       "<text text-anchor=\"start\" x=\"539.667\" y=\"-86.3\" font-family=\"Times New Roman,serif\" font-size=\"14.00\">samples = 176175</text>\r\n",
       "<text text-anchor=\"start\" x=\"556.167\" y=\"-71.3\" font-family=\"Times New Roman,serif\" font-size=\"14.00\">value = 15.0</text>\r\n",
       "</g>\r\n",
       "<!-- 8&#45;&gt;12 -->\r\n",
       "<g id=\"edge12\" class=\"edge\"><title>8&#45;&gt;12</title>\r\n",
       "<path fill=\"none\" stroke=\"black\" d=\"M406.174,-190.37C440.395,-173.05 483.142,-151.414 518.765,-133.385\"/>\r\n",
       "<polygon fill=\"black\" stroke=\"black\" points=\"520.792,-136.282 528.134,-128.643 517.631,-130.036 520.792,-136.282\"/>\r\n",
       "</g>\r\n",
       "<!-- 10 -->\r\n",
       "<g id=\"node11\" class=\"node\"><title>10</title>\r\n",
       "<polygon fill=\"#e58139\" fill-opacity=\"0.623529\" stroke=\"black\" points=\"887.667,-266 769.667,-266 769.667,-213 887.667,-213 887.667,-266\"/>\r\n",
       "<text text-anchor=\"start\" x=\"800.667\" y=\"-250.8\" font-family=\"Times New Roman,serif\" font-size=\"14.00\">mse = 4.0</text>\r\n",
       "<text text-anchor=\"start\" x=\"777.667\" y=\"-235.8\" font-family=\"Times New Roman,serif\" font-size=\"14.00\">samples = 100215</text>\r\n",
       "<text text-anchor=\"start\" x=\"797.667\" y=\"-220.8\" font-family=\"Times New Roman,serif\" font-size=\"14.00\">value = 8.0</text>\r\n",
       "</g>\r\n",
       "<!-- 9&#45;&gt;10 -->\r\n",
       "<g id=\"edge10\" class=\"edge\"><title>9&#45;&gt;10</title>\r\n",
       "<path fill=\"none\" stroke=\"black\" d=\"M653.365,-226.206C685.916,-228.688 725.933,-231.741 759.411,-234.294\"/>\r\n",
       "<polygon fill=\"black\" stroke=\"black\" points=\"759.338,-237.799 769.575,-235.069 759.87,-230.819 759.338,-237.799\"/>\r\n",
       "</g>\r\n",
       "<!-- 11 -->\r\n",
       "<g id=\"node12\" class=\"node\"><title>11</title>\r\n",
       "<polygon fill=\"#e58139\" fill-opacity=\"0.733333\" stroke=\"black\" points=\"887.667,-195 769.667,-195 769.667,-142 887.667,-142 887.667,-195\"/>\r\n",
       "<text text-anchor=\"start\" x=\"800.667\" y=\"-179.8\" font-family=\"Times New Roman,serif\" font-size=\"14.00\">mse = 4.0</text>\r\n",
       "<text text-anchor=\"start\" x=\"777.667\" y=\"-164.8\" font-family=\"Times New Roman,serif\" font-size=\"14.00\">samples = 118256</text>\r\n",
       "<text text-anchor=\"start\" x=\"794.167\" y=\"-149.8\" font-family=\"Times New Roman,serif\" font-size=\"14.00\">value = 11.0</text>\r\n",
       "</g>\r\n",
       "<!-- 9&#45;&gt;11 -->\r\n",
       "<g id=\"edge11\" class=\"edge\"><title>9&#45;&gt;11</title>\r\n",
       "<path fill=\"none\" stroke=\"black\" d=\"M653.365,-207.644C685.916,-200.334 725.933,-191.347 759.411,-183.829\"/>\r\n",
       "<polygon fill=\"black\" stroke=\"black\" points=\"760.585,-187.152 769.575,-181.546 759.051,-180.322 760.585,-187.152\"/>\r\n",
       "</g>\r\n",
       "<!-- 13 -->\r\n",
       "<g id=\"node14\" class=\"node\"><title>13</title>\r\n",
       "<polygon fill=\"#e58139\" fill-opacity=\"0.850980\" stroke=\"black\" points=\"887.667,-124 769.667,-124 769.667,-71 887.667,-71 887.667,-124\"/>\r\n",
       "<text text-anchor=\"start\" x=\"800.667\" y=\"-108.8\" font-family=\"Times New Roman,serif\" font-size=\"14.00\">mse = 4.0</text>\r\n",
       "<text text-anchor=\"start\" x=\"777.667\" y=\"-93.8\" font-family=\"Times New Roman,serif\" font-size=\"14.00\">samples = 120810</text>\r\n",
       "<text text-anchor=\"start\" x=\"794.167\" y=\"-78.8\" font-family=\"Times New Roman,serif\" font-size=\"14.00\">value = 14.0</text>\r\n",
       "</g>\r\n",
       "<!-- 12&#45;&gt;13 -->\r\n",
       "<g id=\"edge13\" class=\"edge\"><title>12&#45;&gt;13</title>\r\n",
       "<path fill=\"none\" stroke=\"black\" d=\"M653.365,-97.5C685.916,-97.5 725.933,-97.5 759.411,-97.5\"/>\r\n",
       "<polygon fill=\"black\" stroke=\"black\" points=\"759.575,-101 769.575,-97.5 759.575,-94.0001 759.575,-101\"/>\r\n",
       "</g>\r\n",
       "<!-- 14 -->\r\n",
       "<g id=\"node15\" class=\"node\"><title>14</title>\r\n",
       "<polygon fill=\"#e58139\" stroke=\"black\" points=\"884.167,-53 773.167,-53 773.167,-0 884.167,-0 884.167,-53\"/>\r\n",
       "<text text-anchor=\"start\" x=\"800.667\" y=\"-37.8\" font-family=\"Times New Roman,serif\" font-size=\"14.00\">mse = 5.0</text>\r\n",
       "<text text-anchor=\"start\" x=\"781.167\" y=\"-22.8\" font-family=\"Times New Roman,serif\" font-size=\"14.00\">samples = 55365</text>\r\n",
       "<text text-anchor=\"start\" x=\"794.167\" y=\"-7.8\" font-family=\"Times New Roman,serif\" font-size=\"14.00\">value = 18.0</text>\r\n",
       "</g>\r\n",
       "<!-- 12&#45;&gt;14 -->\r\n",
       "<g id=\"edge14\" class=\"edge\"><title>12&#45;&gt;14</title>\r\n",
       "<path fill=\"none\" stroke=\"black\" d=\"M653.365,-78.9383C687.175,-68.7667 729.039,-56.1718 763.265,-45.875\"/>\r\n",
       "<polygon fill=\"black\" stroke=\"black\" points=\"764.595,-49.1301 773.162,-42.8975 762.578,-42.4269 764.595,-49.1301\"/>\r\n",
       "</g>\r\n",
       "</g>\r\n",
       "</svg>\r\n"
      ],
      "text/plain": [
       "<graphviz.files.Source at 0x214315b0048>"
      ]
     },
     "metadata": {},
     "output_type": "display_data"
    }
   ],
   "source": [
    "draw_tree(dt, df_train.drop(['t2m_obs', 'time', 'station'], 1))"
   ]
  },
  {
   "cell_type": "markdown",
   "metadata": {},
   "source": [
    "Here we can see that the splits are entirely based on `t2m_fc_mean` which is not surpising."
   ]
  },
  {
   "cell_type": "markdown",
   "metadata": {},
   "source": [
    "### Build a full tree\n",
    "\n",
    "Now let's actually build a complicated tree."
   ]
  },
  {
   "cell_type": "code",
   "execution_count": 25,
   "metadata": {
    "collapsed": true
   },
   "outputs": [],
   "source": [
    "dt = DecisionTreeRegressor()"
   ]
  },
  {
   "cell_type": "code",
   "execution_count": 26,
   "metadata": {},
   "outputs": [
    {
     "name": "stdout",
     "output_type": "stream",
     "text": [
      "Wall time: 30.9 s\n"
     ]
    },
    {
     "data": {
      "text/plain": [
       "DecisionTreeRegressor(criterion='mse', max_depth=None, max_features=None,\n",
       "           max_leaf_nodes=None, min_impurity_decrease=0.0,\n",
       "           min_impurity_split=None, min_samples_leaf=1,\n",
       "           min_samples_split=2, min_weight_fraction_leaf=0.0,\n",
       "           presort=False, random_state=None, splitter='best')"
      ]
     },
     "execution_count": 26,
     "metadata": {},
     "output_type": "execute_result"
    }
   ],
   "source": [
    "%time dt.fit(X_train, y_train)"
   ]
  },
  {
   "cell_type": "code",
   "execution_count": 27,
   "metadata": {},
   "outputs": [
    {
     "name": "stdout",
     "output_type": "stream",
     "text": [
      "Train R2 =  1.0 , Valid R2 =  0.843798011081 , Valid MSE =  6.232294510890336\n"
     ]
    }
   ],
   "source": [
    "print_scores(dt)"
   ]
  },
  {
   "cell_type": "code",
   "execution_count": 28,
   "metadata": {},
   "outputs": [
    {
     "data": {
      "text/plain": [
       "1291959"
      ]
     },
     "execution_count": 28,
     "metadata": {},
     "output_type": "execute_result"
    }
   ],
   "source": [
    "dt.tree_.node_count"
   ]
  },
  {
   "cell_type": "markdown",
   "metadata": {},
   "source": [
    "So we have a perfect score on the training dataset, but a pretty awful score on the validation set. This is an extreme case of overfitting!\n",
    "\n",
    "But this is to be expected. We built our tree to perfectly fit the training set, so that only one sample remains in the final leafs."
   ]
  },
  {
   "cell_type": "markdown",
   "metadata": {},
   "source": [
    "### Reduce the complexity of the tree\n",
    "\n",
    "To combat this we can set the minimum number of samples in each final leaf to a higher value."
   ]
  },
  {
   "cell_type": "code",
   "execution_count": 29,
   "metadata": {
    "collapsed": true
   },
   "outputs": [],
   "source": [
    "dt = DecisionTreeRegressor(min_samples_leaf=200)"
   ]
  },
  {
   "cell_type": "code",
   "execution_count": 30,
   "metadata": {},
   "outputs": [
    {
     "name": "stdout",
     "output_type": "stream",
     "text": [
      "Wall time: 20.2 s\n"
     ]
    },
    {
     "data": {
      "text/plain": [
       "DecisionTreeRegressor(criterion='mse', max_depth=None, max_features=None,\n",
       "           max_leaf_nodes=None, min_impurity_decrease=0.0,\n",
       "           min_impurity_split=None, min_samples_leaf=200,\n",
       "           min_samples_split=2, min_weight_fraction_leaf=0.0,\n",
       "           presort=False, random_state=None, splitter='best')"
      ]
     },
     "execution_count": 30,
     "metadata": {},
     "output_type": "execute_result"
    }
   ],
   "source": [
    "%time dt.fit(X_train, y_train)"
   ]
  },
  {
   "cell_type": "code",
   "execution_count": 31,
   "metadata": {},
   "outputs": [
    {
     "name": "stdout",
     "output_type": "stream",
     "text": [
      "Train R2 =  0.939008732906 , Valid R2 =  0.911272929509 , Valid MSE =  3.540116474929168\n"
     ]
    }
   ],
   "source": [
    "print_scores(dt)"
   ]
  },
  {
   "cell_type": "markdown",
   "metadata": {},
   "source": [
    "The overfitting is less bad now but we still cannot get a better score than with linear regression. We need to do better!"
   ]
  },
  {
   "cell_type": "markdown",
   "metadata": {},
   "source": [
    "## Random forests\n",
    "\n",
    "Here is where random forests are coming in. As the name suggests, a random forest is an ensemble of decision trees, where each tree is build with a random subsample of the features and training data. This should help to prevent overfitting."
   ]
  },
  {
   "cell_type": "code",
   "execution_count": 32,
   "metadata": {
    "collapsed": true
   },
   "outputs": [],
   "source": [
    "from sklearn.ensemble import RandomForestRegressor"
   ]
  },
  {
   "cell_type": "markdown",
   "metadata": {},
   "source": [
    "### Fit a sample model"
   ]
  },
  {
   "cell_type": "markdown",
   "metadata": {},
   "source": [
    "Now we are fitting several decision trees. This can be done in parallel by several processors. `n_jobs = -1` uses all available processors."
   ]
  },
  {
   "cell_type": "code",
   "execution_count": 33,
   "metadata": {
    "collapsed": true
   },
   "outputs": [],
   "source": [
    "rf = RandomForestRegressor(n_estimators=10, n_jobs=-1)"
   ]
  },
  {
   "cell_type": "code",
   "execution_count": 34,
   "metadata": {},
   "outputs": [
    {
     "name": "stdout",
     "output_type": "stream",
     "text": [
      "Wall time: 1min 27s\n"
     ]
    },
    {
     "data": {
      "text/plain": [
       "RandomForestRegressor(bootstrap=True, criterion='mse', max_depth=None,\n",
       "           max_features='auto', max_leaf_nodes=None,\n",
       "           min_impurity_decrease=0.0, min_impurity_split=None,\n",
       "           min_samples_leaf=1, min_samples_split=2,\n",
       "           min_weight_fraction_leaf=0.0, n_estimators=10, n_jobs=-1,\n",
       "           oob_score=False, random_state=None, verbose=0, warm_start=False)"
      ]
     },
     "execution_count": 34,
     "metadata": {},
     "output_type": "execute_result"
    }
   ],
   "source": [
    "%time rf.fit(X_train, y_train)"
   ]
  },
  {
   "cell_type": "code",
   "execution_count": 35,
   "metadata": {},
   "outputs": [
    {
     "name": "stdout",
     "output_type": "stream",
     "text": [
      "Train R2 =  0.992415062421 , Valid R2 =  0.917427004519 , Valid MSE =  3.294575376695344\n"
     ]
    }
   ],
   "source": [
    "print_scores(rf)"
   ]
  },
  {
   "cell_type": "markdown",
   "metadata": {},
   "source": [
    "Again, we see that we are overfitting quite badly. As before, we can tune the hyper-parameters to prevent overfitting"
   ]
  },
  {
   "cell_type": "markdown",
   "metadata": {},
   "source": [
    "### Hyperparameters\n"
   ]
  },
  {
   "cell_type": "markdown",
   "metadata": {},
   "source": [
    "#### min_samples_leaf\n",
    "\n",
    "The minimum number of sample is each leaf."
   ]
  },
  {
   "cell_type": "code",
   "execution_count": 36,
   "metadata": {
    "collapsed": true
   },
   "outputs": [],
   "source": [
    "rf = RandomForestRegressor(n_estimators=10, n_jobs=-1, min_samples_leaf=100)"
   ]
  },
  {
   "cell_type": "code",
   "execution_count": 37,
   "metadata": {},
   "outputs": [
    {
     "name": "stdout",
     "output_type": "stream",
     "text": [
      "Wall time: 1min 9s\n"
     ]
    },
    {
     "data": {
      "text/plain": [
       "RandomForestRegressor(bootstrap=True, criterion='mse', max_depth=None,\n",
       "           max_features='auto', max_leaf_nodes=None,\n",
       "           min_impurity_decrease=0.0, min_impurity_split=None,\n",
       "           min_samples_leaf=100, min_samples_split=2,\n",
       "           min_weight_fraction_leaf=0.0, n_estimators=10, n_jobs=-1,\n",
       "           oob_score=False, random_state=None, verbose=0, warm_start=False)"
      ]
     },
     "execution_count": 37,
     "metadata": {},
     "output_type": "execute_result"
    }
   ],
   "source": [
    "%time rf.fit(X_train, y_train)"
   ]
  },
  {
   "cell_type": "code",
   "execution_count": 38,
   "metadata": {},
   "outputs": [
    {
     "name": "stdout",
     "output_type": "stream",
     "text": [
      "Train R2 =  0.946901912503 , Valid R2 =  0.919607573801 , Valid MSE =  3.2075729635844925\n"
     ]
    }
   ],
   "source": [
    "print_scores(rf)"
   ]
  },
  {
   "cell_type": "markdown",
   "metadata": {},
   "source": [
    "#### n_estimators\n",
    "\n",
    "The number of trees. "
   ]
  },
  {
   "cell_type": "code",
   "execution_count": 39,
   "metadata": {
    "collapsed": true
   },
   "outputs": [],
   "source": [
    "rf = RandomForestRegressor(n_estimators=40, n_jobs=-1, min_samples_leaf=10)"
   ]
  },
  {
   "cell_type": "code",
   "execution_count": 40,
   "metadata": {},
   "outputs": [
    {
     "name": "stdout",
     "output_type": "stream",
     "text": [
      "Wall time: 7min 16s\n"
     ]
    },
    {
     "data": {
      "text/plain": [
       "RandomForestRegressor(bootstrap=True, criterion='mse', max_depth=None,\n",
       "           max_features='auto', max_leaf_nodes=None,\n",
       "           min_impurity_decrease=0.0, min_impurity_split=None,\n",
       "           min_samples_leaf=10, min_samples_split=2,\n",
       "           min_weight_fraction_leaf=0.0, n_estimators=40, n_jobs=-1,\n",
       "           oob_score=False, random_state=None, verbose=0, warm_start=False)"
      ]
     },
     "execution_count": 40,
     "metadata": {},
     "output_type": "execute_result"
    }
   ],
   "source": [
    "%time rf.fit(X_train, y_train)"
   ]
  },
  {
   "cell_type": "code",
   "execution_count": 41,
   "metadata": {},
   "outputs": [
    {
     "name": "stdout",
     "output_type": "stream",
     "text": [
      "Train R2 =  0.975899932589 , Valid R2 =  0.924019832822 , Valid MSE =  3.0315284851041664\n"
     ]
    }
   ],
   "source": [
    "print_scores(rf)"
   ]
  },
  {
   "cell_type": "markdown",
   "metadata": {},
   "source": [
    "We are still getting a much better score on the training set. Partly we are still overfitting, but partly this is to be expected from our dataset and the way we chose the validation set. Can you explain why?\n",
    "\n",
    "Let's submit our new best model to kaggle."
   ]
  },
  {
   "cell_type": "code",
   "execution_count": 42,
   "metadata": {},
   "outputs": [
    {
     "data": {
      "text/html": [
       "<div>\n",
       "<style scoped>\n",
       "    .dataframe tbody tr th:only-of-type {\n",
       "        vertical-align: middle;\n",
       "    }\n",
       "\n",
       "    .dataframe tbody tr th {\n",
       "        vertical-align: top;\n",
       "    }\n",
       "\n",
       "    .dataframe thead th {\n",
       "        text-align: right;\n",
       "    }\n",
       "</style>\n",
       "<table border=\"1\" class=\"dataframe\">\n",
       "  <thead>\n",
       "    <tr style=\"text-align: right;\">\n",
       "      <th></th>\n",
       "      <th>Id</th>\n",
       "      <th>Expected</th>\n",
       "    </tr>\n",
       "  </thead>\n",
       "  <tbody>\n",
       "    <tr>\n",
       "      <th>0</th>\n",
       "      <td>0</td>\n",
       "      <td>3.934673</td>\n",
       "    </tr>\n",
       "    <tr>\n",
       "      <th>1</th>\n",
       "      <td>1</td>\n",
       "      <td>1.452402</td>\n",
       "    </tr>\n",
       "    <tr>\n",
       "      <th>2</th>\n",
       "      <td>2</td>\n",
       "      <td>0.716910</td>\n",
       "    </tr>\n",
       "    <tr>\n",
       "      <th>3</th>\n",
       "      <td>3</td>\n",
       "      <td>3.903693</td>\n",
       "    </tr>\n",
       "    <tr>\n",
       "      <th>4</th>\n",
       "      <td>4</td>\n",
       "      <td>2.480547</td>\n",
       "    </tr>\n",
       "  </tbody>\n",
       "</table>\n",
       "</div>"
      ],
      "text/plain": [
       "   Id  Expected\n",
       "0   0  3.934673\n",
       "1   1  1.452402\n",
       "2   2  0.716910\n",
       "3   3  3.903693\n",
       "4   4  2.480547"
      ]
     },
     "execution_count": 42,
     "metadata": {},
     "output_type": "execute_result"
    }
   ],
   "source": [
    "# Submit to Kaggle\n",
    "df_sub = create_sub(rf.predict(X_test), 'rf.csv'); df_sub.head()"
   ]
  },
  {
   "cell_type": "markdown",
   "metadata": {},
   "source": [
    "## Feature importance\n",
    "\n",
    "Getting a good prediction is nice, but ideally we would also understand why we are getting the prediction.\n",
    "\n",
    "For this we can look at feature importance. In feature importance, you randomly shuffle each column of the dataset and check by how much the prediction skill decreases."
   ]
  },
  {
   "cell_type": "code",
   "execution_count": 47,
   "metadata": {},
   "outputs": [
    {
     "data": {
      "text/plain": [
       "array([ 0.93886066,  0.00189192,  0.00730978,  0.00474286,  0.0022422 ,\n",
       "        0.00216329,  0.00212882,  0.00319009,  0.00231558,  0.00209869,\n",
       "        0.0032293 ,  0.00195781,  0.00137903,  0.00264125,  0.00224996,\n",
       "        0.00175749,  0.00234605,  0.00209426,  0.00188215,  0.0021487 ,\n",
       "        0.01009336,  0.00127674])"
      ]
     },
     "execution_count": 47,
     "metadata": {},
     "output_type": "execute_result"
    }
   ],
   "source": [
    "rf.feature_importances_"
   ]
  },
  {
   "cell_type": "code",
   "execution_count": 48,
   "metadata": {
    "collapsed": true
   },
   "outputs": [],
   "source": [
    "# Create a new dataframe for easy plotting\n",
    "fi_df = pd.DataFrame(\n",
    "    data={'Feature': X_train.columns, 'Feature importance': rf.feature_importances_}, \n",
    "    columns = ['Feature', 'Feature importance']\n",
    ")"
   ]
  },
  {
   "cell_type": "code",
   "execution_count": 49,
   "metadata": {
    "collapsed": true
   },
   "outputs": [],
   "source": [
    "fi_df.sort_values('Feature importance', inplace=True, ascending=False)"
   ]
  },
  {
   "cell_type": "code",
   "execution_count": 62,
   "metadata": {},
   "outputs": [
    {
     "name": "stderr",
     "output_type": "stream",
     "text": [
      "C:\\Users\\rasps\\Anaconda3\\lib\\site-packages\\seaborn\\categorical.py:1460: FutureWarning: remove_na is deprecated and is a private function. Do not use.\n",
      "  stat_data = remove_na(group_data)\n"
     ]
    },
    {
     "data": {
      "text/plain": [
       "<matplotlib.axes._subplots.AxesSubplot at 0x21410d272b0>"
      ]
     },
     "execution_count": 62,
     "metadata": {},
     "output_type": "execute_result"
    },
    {
     "data": {
      "image/png": "[encoded data removed]",
      "text/plain": [
       "<matplotlib.figure.Figure at 0x21410d3e7f0>"
      ]
     },
     "metadata": {},
     "output_type": "display_data"
    }
   ],
   "source": [
    "sns.barplot(data=fi_df, x='Feature importance', y='Feature')\n",
    "#plt.xscale('log')"
   ]
  },
  {
   "cell_type": "markdown",
   "metadata": {},
   "source": [
    "As expected, by far the most important feature is `t2m_fc_mean`. Does the ordering of the remaining features make meteorological sense?\n",
    "\n",
    "There some other really cool ways of interpreting a random forest. For more information check out this notebook: https://github.com/fastai/fastai/blob/master/courses/ml1/lesson2-rf_interpretation.ipynb"
   ]
  },
  {
   "cell_type": "markdown",
   "metadata": {},
   "source": [
    "## Your turn\n",
    "\n",
    "Again, here are some challenges for all of you that are bored ;)\n",
    "\n",
    "1. The different stations have very different characteristics. Try building a model (e.g. linear regression) for each station individually. See if you can improve the validation and test score.\n",
    "2. Try adding some time information (for example the month as a feature. Does this improve the forecast?\n",
    "3. Try to get as good a score as possible. Be creative and use Google!"
   ]
  }
 ],
 "metadata": {
  "kernelspec": {
   "display_name": "Python 3",
   "language": "python",
   "name": "python3"
  },
  "language_info": {
   "codemirror_mode": {
    "name": "ipython",
    "version": 3
   },
   "file_extension": ".py",
   "mimetype": "text/x-python",
   "name": "python",
   "nbconvert_exporter": "python",
   "pygments_lexer": "ipython3",
   "version": "3.6.3"
  },
  "toc": {
   "nav_menu": {},
   "number_sections": true,
   "sideBar": false,
   "skip_h1_title": true,
   "title_cell": "Table of Contents",
   "title_sidebar": "Contents",
   "toc_cell": false,
   "toc_position": {},
   "toc_section_display": true,
   "toc_window_display": false
  }
 },
 "nbformat": 4,
 "nbformat_minor": 2
}
