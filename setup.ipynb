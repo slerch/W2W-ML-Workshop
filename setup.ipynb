{
 "cells": [
  {
   "cell_type": "markdown",
   "metadata": {},
   "source": [
    "# Setup notebook\n",
    "\n",
    "**Important: Please make sure that you can execute this notebook without error BEFORE the workshop!**\n",
    "\n",
    "This notebook is to check whether all the packages for the ML tutorials are installed and to download all the required datasets.\n",
    "\n",
    "To install Anaconda, please follow the instructions in the Email.\n",
    "\n",
    "To use this notebook, click on a cell and press the play button above or click `shift` + `Enter`.\n",
    "\n",
    "Should the following message appear: \n",
    "\n",
    "```\n",
    "ModuleNotFoundError: No module named 'keras'\n",
    "```\n",
    "\n",
    "simply type in your command line: \n",
    "\n",
    "```\n",
    "conda install keras\n",
    "```"
   ]
  },
  {
   "cell_type": "code",
   "execution_count": 2,
   "metadata": {
    "collapsed": true
   },
   "outputs": [],
   "source": [
    "# Make sure we are using Python 3\n",
    "import sys\n",
    "assert sys.version_info[0] == 3, \"Must be using Python 3\""
   ]
  },
  {
   "cell_type": "code",
   "execution_count": 4,
   "metadata": {},
   "outputs": [
    {
     "name": "stderr",
     "output_type": "stream",
     "text": [
      "Using TensorFlow backend.\n"
     ]
    }
   ],
   "source": [
    "# Check if all packages are installed\n",
    "%matplotlib inline\n",
    "import os\n",
    "import numpy\n",
    "import matplotlib\n",
    "import keras\n",
    "import IPython\n",
    "import sklearn\n",
    "import pandas\n",
    "import seaborn"
   ]
  },
  {
   "cell_type": "code",
   "execution_count": 5,
   "metadata": {
    "collapsed": true
   },
   "outputs": [],
   "source": [
    "# Make sure we are using the right Keras backend.\n",
    "assert keras.backend.backend() == 'tensorflow', 'Keras backend should be Tensorflow.'"
   ]
  },
  {
   "cell_type": "code",
   "execution_count": 6,
   "metadata": {},
   "outputs": [
    {
     "ename": "AttributeError",
     "evalue": "type object 'Series' has no attribute 'isna'",
     "output_type": "error",
     "traceback": [
      "\u001b[0;31m---------------------------------------------------------------------------\u001b[0m",
      "\u001b[0;31mAttributeError\u001b[0m                            Traceback (most recent call last)",
      "\u001b[0;32m<ipython-input-6-f6f6f7d5186b>\u001b[0m in \u001b[0;36m<module>\u001b[0;34m()\u001b[0m\n\u001b[1;32m      1\u001b[0m \u001b[0;31m# Check weather correct Pandas version is installed.\u001b[0m\u001b[0;34m\u001b[0m\u001b[0;34m\u001b[0m\u001b[0m\n\u001b[0;32m----> 2\u001b[0;31m \u001b[0mpandas\u001b[0m\u001b[0;34m.\u001b[0m\u001b[0mSeries\u001b[0m\u001b[0;34m.\u001b[0m\u001b[0misna\u001b[0m\u001b[0;34m\u001b[0m\u001b[0m\n\u001b[0m",
      "\u001b[0;31mAttributeError\u001b[0m: type object 'Series' has no attribute 'isna'"
     ]
    }
   ],
   "source": [
    "# Check weather correct Pandas version is installed.\n",
    "pandas.Series.isna"
   ]
  },
  {
   "cell_type": "markdown",
   "metadata": {},
   "source": [
    "Install the Kaggle API which we will use to download the datasets. For more info: https://github.com/Kaggle/kaggle-api"
   ]
  },
  {
   "cell_type": "code",
   "execution_count": 7,
   "metadata": {},
   "outputs": [
    {
     "name": "stdout",
     "output_type": "stream",
     "text": [
      "Collecting kaggle\n",
      "  Downloading https://files.pythonhosted.org/packages/c6/78/832b9a9ec6b3baf8ec566e1f0a695f2fd08d2c94a6797257a106304bfc3c/kaggle-1.4.7.1.tar.gz (52kB)\n",
      "\u001b[K    100% |████████████████████████████████| 61kB 1.6MB/s ta 0:00:01\n",
      "\u001b[?25hRequirement already satisfied: urllib3<1.23.0,>=1.15 in /home/sebastian/anaconda3/lib/python3.6/site-packages (from kaggle)\n",
      "Requirement already satisfied: six>=1.10 in /home/sebastian/anaconda3/lib/python3.6/site-packages (from kaggle)\n",
      "Requirement already satisfied: certifi in /home/sebastian/anaconda3/lib/python3.6/site-packages (from kaggle)\n",
      "Requirement already satisfied: python-dateutil in /home/sebastian/anaconda3/lib/python3.6/site-packages (from kaggle)\n",
      "Requirement already satisfied: requests in /home/sebastian/anaconda3/lib/python3.6/site-packages (from kaggle)\n",
      "Collecting tqdm (from kaggle)\n",
      "  Downloading https://files.pythonhosted.org/packages/79/43/19c9fee28110cd47f73e6bc596394337fe9f3e5825b4de402bbf30b3beb5/tqdm-4.26.0-py2.py3-none-any.whl (43kB)\n",
      "\u001b[K    100% |████████████████████████████████| 51kB 4.7MB/s ta 0:00:01\n",
      "\u001b[?25hCollecting python-slugify (from kaggle)\n",
      "  Downloading https://files.pythonhosted.org/packages/00/ad/c778a6df614b6217c30fe80045b365bfa08b5dd3cb02e8b37a6d25126781/python-slugify-1.2.6.tar.gz\n",
      "Requirement already satisfied: chardet<3.1.0,>=3.0.2 in /home/sebastian/anaconda3/lib/python3.6/site-packages (from requests->kaggle)\n",
      "Requirement already satisfied: idna<2.7,>=2.5 in /home/sebastian/anaconda3/lib/python3.6/site-packages (from requests->kaggle)\n",
      "Requirement already satisfied: Unidecode>=0.04.16 in /home/sebastian/anaconda3/lib/python3.6/site-packages (from python-slugify->kaggle)\n",
      "Building wheels for collected packages: kaggle, python-slugify\n",
      "  Running setup.py bdist_wheel for kaggle ... \u001b[?25ldone\n",
      "\u001b[?25h  Stored in directory: /home/sebastian/.cache/pip/wheels/44/2c/df/22a6eeb780c36c28190faef6252b739fdc47145fd87a6642d4\n",
      "  Running setup.py bdist_wheel for python-slugify ... \u001b[?25ldone\n",
      "\u001b[?25h  Stored in directory: /home/sebastian/.cache/pip/wheels/e3/65/da/2045deea3098ed7471eca0e2460cfbd3fdfe8c1d6fa6fcac92\n",
      "Successfully built kaggle python-slugify\n",
      "Installing collected packages: tqdm, python-slugify, kaggle\n",
      "Successfully installed kaggle-1.4.7.1 python-slugify-1.2.6 tqdm-4.26.0\n",
      "\u001b[33mYou are using pip version 9.0.1, however version 18.0 is available.\n",
      "You should consider upgrading via the 'pip install --upgrade pip' command.\u001b[0m\n"
     ]
    }
   ],
   "source": [
    "!pip install kaggle"
   ]
  },
  {
   "cell_type": "markdown",
   "metadata": {},
   "source": [
    "## Set up Kaggle\n",
    "\n",
    "For this workshop we will use Kaggle to participate in a competition. This is also where the data is stored. Please follow these instructions:\n",
    "\n",
    "\n",
    "1. Go to https://www.kaggle.com and create an account.\n",
    "1. Go to the Account tab (https://www.kaggle.com/username/account) of your user profile and create a new API token. Save it as `~/.kaggle/kaggle.json`. You probably have to create the `~/.kaggle/` directory first.  (for Windows: Save as `C:\\Users\\<Windows-username>\\.kaggle\\kaggle.json`. Use the git or Anaconda bash and create the `~/.kaggle/` directory using `mkdir`)\n",
    "1. `chmod 600 ~/.kaggle/kaggle.json` (Not necessary on Windows)\n",
    "1. Go to https://www.kaggle.com/t/458a6b390b7a4644a2be722cb5cf4991 (this competition is invite-only; this is the invite link) and accept the rules. Then click the join competition button.\n",
    "\n",
    "Now you should be able to download the files as follows:"
   ]
  },
  {
   "cell_type": "code",
   "execution_count": 8,
   "metadata": {
    "collapsed": true
   },
   "outputs": [],
   "source": [
    "os.makedirs('./dataset1', exist_ok=True)"
   ]
  },
  {
   "cell_type": "code",
   "execution_count": 9,
   "metadata": {},
   "outputs": [
    {
     "data": {
      "text/plain": [
       "['.gitignore',\n",
       " 'LICENSE',\n",
       " '.ipynb_checkpoints',\n",
       " 'nb3_keras-nn.ipynb',\n",
       " 'dataset1',\n",
       " '.git',\n",
       " 'setup.ipynb',\n",
       " 'nb1_jupyter-pandas.ipynb',\n",
       " 'README.md',\n",
       " 'nb2_sklearn-lr-rf.ipynb']"
      ]
     },
     "execution_count": 9,
     "metadata": {},
     "output_type": "execute_result"
    }
   ],
   "source": [
    "os.listdir()"
   ]
  },
  {
   "cell_type": "code",
   "execution_count": 10,
   "metadata": {},
   "outputs": [
    {
     "name": "stdout",
     "output_type": "stream",
     "text": [
      "Downloading pp_sample_submission.csv to dataset1\n",
      " 90%|██████████████████████████████████    | 4.00M/4.46M [00:00<00:00, 6.11MB/s]\n",
      "100%|██████████████████████████████████████| 4.46M/4.46M [00:00<00:00, 6.00MB/s]\n",
      "Downloading pp_test.csv to dataset1\n",
      "100%|█████████████████████████████████████▊| 41.0M/41.2M [00:05<00:00, 6.87MB/s]\n",
      "100%|██████████████████████████████████████| 41.2M/41.2M [00:05<00:00, 7.66MB/s]\n",
      "Downloading pp_train.csv to dataset1\n",
      "100%|████████████████████████████████████████| 226M/226M [00:33<00:00, 7.10MB/s]\n",
      "\n"
     ]
    }
   ],
   "source": [
    "!kaggle competitions download -c postprocessing -p dataset1"
   ]
  },
  {
   "cell_type": "markdown",
   "metadata": {
    "collapsed": true
   },
   "source": [
    "## The End\n",
    "\n",
    "You are ready to go for the workshop."
   ]
  },
  {
   "cell_type": "code",
   "execution_count": null,
   "metadata": {
    "collapsed": true
   },
   "outputs": [],
   "source": []
  }
 ],
 "metadata": {
  "kernelspec": {
   "display_name": "Python 3",
   "language": "python",
   "name": "python3"
  },
  "language_info": {
   "codemirror_mode": {
    "name": "ipython",
    "version": 3
   },
   "file_extension": ".py",
   "mimetype": "text/x-python",
   "name": "python",
   "nbconvert_exporter": "python",
   "pygments_lexer": "ipython3",
   "version": "3.6.3"
  },
  "toc": {
   "base_numbering": 1,
   "nav_menu": {},
   "number_sections": true,
   "sideBar": false,
   "skip_h1_title": true,
   "title_cell": "Table of Contents",
   "title_sidebar": "Contents",
   "toc_cell": false,
   "toc_position": {},
   "toc_section_display": true,
   "toc_window_display": false
  }
 },
 "nbformat": 4,
 "nbformat_minor": 2
}
